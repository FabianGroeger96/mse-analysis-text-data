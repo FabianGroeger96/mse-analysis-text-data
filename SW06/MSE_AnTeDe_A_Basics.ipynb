{
 "cells": [
  {
   "cell_type": "markdown",
   "metadata": {},
   "source": [
    "# AnTeDe Word Embeddings Lab - Basics\n",
    "\n",
    "## Session goal\n",
    "\n",
    "Here we familiarize ourselves with some key basic concepts."
   ]
  },
  {
   "cell_type": "markdown",
   "metadata": {},
   "source": [
    "**Sigmoid function.**\n",
    "Let's begin by taking a closer look at the sigmoid function."
   ]
  },
  {
   "cell_type": "code",
   "execution_count": 299,
   "metadata": {},
   "outputs": [
    {
     "data": {
      "text/plain": [
       "Text(0.5, 0, 'x')"
      ]
     },
     "execution_count": 299,
     "metadata": {},
     "output_type": "execute_result"
    },
    {
     "data": {
      "image/png": "[encoded data removed]",
      "text/plain": [
       "<Figure size 432x288 with 1 Axes>"
      ]
     },
     "metadata": {
      "needs_background": "light"
     },
     "output_type": "display_data"
    }
   ],
   "source": [
    "import numpy as np\n",
    "sigmoid = lambda x:(1+np.exp(-x))**(-1)  \n",
    "\n",
    "import matplotlib.pyplot as plt\n",
    "\n",
    "x = np.arange(-10., 10., 0.2)\n",
    "plt.plot(x, sigmoid(x))\n",
    "\n",
    "plt.ylabel('sigmoid(x)')\n",
    "plt.xlabel('x')"
   ]
  },
  {
   "cell_type": "markdown",
   "metadata": {},
   "source": [
    "**Cross-entropy loss** Now let's play with the cross-entropy loss function. If *yh* is close to *y*, the loss is small. If you decrease $yh$ down to 0, you'll see the loss increase."
   ]
  },
  {
   "cell_type": "code",
   "execution_count": 300,
   "metadata": {},
   "outputs": [
    {
     "data": {
      "text/plain": [
       "0.00010000500033334732"
      ]
     },
     "execution_count": 300,
     "metadata": {},
     "output_type": "execute_result"
    }
   ],
   "source": [
    "y=1\n",
    "yh=0.9999\n",
    "-(y*np.log(yh)+(1-y)*np.log(1-sigmoid(yh)))"
   ]
  },
  {
   "cell_type": "markdown",
   "metadata": {},
   "source": [
    "Let's plot the cross-entropy loss function."
   ]
  },
  {
   "cell_type": "code",
   "execution_count": 301,
   "metadata": {},
   "outputs": [
    {
     "data": {
      "text/plain": [
       "Text(0.5, 0, 'Prediction yh')"
      ]
     },
     "execution_count": 301,
     "metadata": {},
     "output_type": "execute_result"
    },
    {
     "data": {
      "image/png": "[encoded data removed]",
      "text/plain": [
       "<Figure size 432x288 with 1 Axes>"
      ]
     },
     "metadata": {
      "needs_background": "light"
     },
     "output_type": "display_data"
    }
   ],
   "source": [
    "yh = np.linspace(0.01, 1, 100)\n",
    "loss = -(y*np.log(yh)+(1-y)*np.log(1-sigmoid(yh)))\n",
    "plt.plot(yh, loss)\n",
    "plt.ylabel('Cross-Entropy Loss')\n",
    "plt.xlabel('Prediction yh')"
   ]
  },
  {
   "cell_type": "markdown",
   "metadata": {},
   "source": [
    "**Softmax** Let's look at an example of what the softmax function does to an array."
   ]
  },
  {
   "cell_type": "code",
   "execution_count": 302,
   "metadata": {},
   "outputs": [
    {
     "data": {
      "text/plain": [
       "array([2.06046241e-09, 3.35350130e-04, 9.35448487e-14, 9.99664648e-01])"
      ]
     },
     "execution_count": 302,
     "metadata": {},
     "output_type": "execute_result"
    }
   ],
   "source": [
    "from scipy.special import softmax\n",
    "softmax ([0, 12, -10, 20])"
   ]
  },
  {
   "cell_type": "markdown",
   "metadata": {},
   "source": [
    "**Neural Networks** Here's a toy example of a neural network, based on a set of examples written by Andrew Trask. \n",
    "\n",
    "If you're completely new to neural networks, please read the original articles by Andrew Trask: http://iamtrask.github.io/2015/07/12/basic-python-network/\n",
    "https://iamtrask.github.io/2015/07/27/python-network-part2/\n",
    "\n",
    "If you've already been exposed to neural networks, you will be able to understand what's happening based on the code. Try to investigate the effects of the various parameters on the output."
   ]
  },
  {
   "cell_type": "code",
   "execution_count": 303,
   "metadata": {},
   "outputs": [],
   "source": [
    "def generate_dataset(columns, examples=10, verbose=True):\n",
    "    X = np.random.rand(examples, columns)\n",
    "    if verbose:\n",
    "        print ('-'*30)\n",
    "        print (X)\n",
    "       \n",
    "    y = (np.sum(X, axis=1)/columns).T.reshape(examples, 1)\n",
    "    y=y**2\n",
    "    \n",
    "    if verbose:\n",
    "        print ('-'*30)\n",
    "        print (y)\n",
    "    return X, y   "
   ]
  },
  {
   "cell_type": "code",
   "execution_count": 304,
   "metadata": {},
   "outputs": [
    {
     "name": "stdout",
     "output_type": "stream",
     "text": [
      "------------------------------\n",
      "[[0.64436108 0.00523984]\n",
      " [0.48442845 0.85931781]]\n",
      "------------------------------\n",
      "[[0.10549534]\n",
      " [0.4514135 ]]\n"
     ]
    }
   ],
   "source": [
    "X, y = generate_dataset(2, 2)"
   ]
  },
  {
   "cell_type": "code",
   "execution_count": null,
   "metadata": {},
   "outputs": [],
   "source": [
    "N_steps = 5000\n",
    "columns = 5\n",
    "hidden_size = 8\n",
    "examples = 1000\n",
    "alpha=0.01\n",
    "\n",
    "np.random.seed(1)\n",
    "\n",
    "X, y = generate_dataset(columns, examples, verbose=False)\n",
    "\n",
    "W0 = 2*np.random.random((columns, hidden_size)) - 1\n",
    "W1 = 2*np.random.random((hidden_size, 1)) - 1\n",
    "\n",
    "\n",
    "for j in range(N_steps):\n",
    "    \n",
    "    l1 = 1/(1+np.exp(-(np.dot(X, W0))))\n",
    "    l2 = 1/(1+np.exp(-(np.dot(l1, W1))))\n",
    "    \n",
    "    l2_delta = (y - l2)*(l2*(1-l2))\n",
    "    l1_delta = l2_delta.dot(W1.T) * (l1 * (1-l1))\n",
    "    \n",
    "    W1 += alpha*(l1.T.dot(l2_delta))\n",
    "    W0 += alpha*(X.T.dot(l1_delta))\n"
   ]
  },
  {
   "cell_type": "code",
   "execution_count": null,
   "metadata": {},
   "outputs": [],
   "source": [
    "X, y = generate_dataset(columns, 4)\n",
    "\n",
    "l1 = 1/(1+np.exp(-(np.dot(X, W0))))\n",
    "l2 = 1/(1+np.exp(-(np.dot(l1, W1))))\n",
    "\n",
    "print ('-'*30)\n",
    "print ('Output')\n",
    "print (l2)"
   ]
  },
  {
   "cell_type": "markdown",
   "metadata": {},
   "source": [
    "Here's a great follow-up example, also by Andrew Trask. \n",
    "https://iamtrask.github.io/2015/07/27/python-network-part2/"
   ]
  }
 ],
 "metadata": {
  "kernelspec": {
   "display_name": "py39",
   "language": "python",
   "name": "py39"
  },
  "language_info": {
   "codemirror_mode": {
    "name": "ipython",
    "version": 3
   },
   "file_extension": ".py",
   "mimetype": "text/x-python",
   "name": "python",
   "nbconvert_exporter": "python",
   "pygments_lexer": "ipython3",
   "version": "3.9.1"
  }
 },
 "nbformat": 4,
 "nbformat_minor": 2
}
