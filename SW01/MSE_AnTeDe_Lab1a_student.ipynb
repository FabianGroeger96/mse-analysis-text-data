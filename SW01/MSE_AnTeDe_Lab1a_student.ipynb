{
 "cells": [
  {
   "cell_type": "markdown",
   "metadata": {},
   "source": [
    "![alt text](https://www.msengineering.ch/typo3conf/ext/nm_theme_msengineering/Resources/Public/Template/img/mse_logo.jpg \"MSE Logo\") \n",
    "\n",
    "# AnTeDe Practical Work 1a : Setting Up the Environment\n",
    "\n",
    "## Summary\n",
    "The goal of this first session of the first lab is to get you introduced to an environment that will enable you to run experiments in text analysis for the [TSM AnTeDe](https://moodle.msengineering.ch/course/view.php?id=1303).  We will use the [Python 3](https://www.python.org/) programming language, with [Jupyter](https://jupyter.org/) notebooks to write instructions and log your results.  \n",
    "\n",
    "In the second and third sessions (separate notebooks 1b and 1c), you will use the [NLTK](http://www.nltk.org/) toolkit to get texts from the web or local files, and segment (split) them into sentences and words.\n",
    "\n",
    "To submit your practical work to the teachers, please execute all cells of your Jupyter notebooks, save them, make a *zip* file with notebooks 1b and 1c, and submit it as homework #1 on the [AnTeDe Moodle page](https://moodle.msengineering.ch/course/view.php?id=1303)."
   ]
  },
  {
   "cell_type": "markdown",
   "metadata": {},
   "source": [
    "## Welcome to the first lab of the AnTeDe course !\n",
    "\n",
    "To be able to use Python and Jupyter Notebooks, you have three options: (1) environment-specific installation with Conda, (2) simple installation (platform-wide), or (3) no local installation, use an online service only.  In all cases you will need to obtain the Jupyter notebook files from the AnTeDeMoodle (this file is `MSE_AnTeDe_Lab1a.ipynb`)."
   ]
  },
  {
   "cell_type": "markdown",
   "metadata": {},
   "source": [
    "### First option: Conda environment manager\n",
    "If you want to manage several versions of Python and its modules, a good idea is to install an environment manager such as Conda.   Before installing Python and Jupyter locally, installing Conda will help you manage different versions of Python and of other modules on your computer, for instance for several courses.  (You may wish to install Conda before Python, but you can also do it later, in which case it will install its own Python libraries.)\n",
    "\n",
    "Miniconda is a minimal environment manager, while Anaconda is a larger software distribution that includes also Python and R software.\n",
    "\n",
    "* To install Conda, follow the instructions at https://conda.io/projects/conda/en/latest/user-guide/install/index.html and consider installing Miniconda. Follow the instructions for your OS: Windows, Linux or MacOS.\n",
    "* You will be prompted to get a suitable installer from https://conda.io/en/latest/miniconda.html (an executable for Windows, or a `bash` script for Linux).\n",
    "* In Linux, run `wget https://repo.continuum.io/miniconda/Miniconda3-latest-Linux-x86_64.sh` and then\n",
    "`bash Miniconda3-latest-Linux-x86_64.sh`\n",
    "* Conda commands are the same on all OSs -- the most important ones are for creating and loading an environment\n",
    "* after you install Conda, commands are performed from the command line (command prompt, a Power Shell, Anaconda Prompt, etc.)\n",
    "* try `conda info` for a start.\n",
    "* to get familiar with Conda: https://conda.io/projects/conda/en/latest/user-guide/getting-started.html\n",
    "* cheatsheat of Conda commands: https://conda.io/projects/conda/en/latest/user-guide/cheatsheet.html\n",
    "* to create an environment called *AnTeDeEnv* for this course and activate it:\n",
    "   * `conda create --name AnTeDeEnv python=3.7`\n",
    "   * `conda activate AnTeDeEnv`\n",
    "   * `conda list` to see what is installed in the current environment\n",
    "   * `conda deactivate` to exit from the environment\n",
    "   \n",
    "*Now proceed to the second option to complete your installation of Jupyter (the server supporting notebooks).*"
   ]
  },
  {
   "cell_type": "markdown",
   "metadata": {},
   "source": [
    "### Second option: system-wide installation of Python\n",
    "\n",
    "With a local installation you will be able to work offline, and gain experience with Python and Jupyter, so we recommend this solution, with or without Conda.    \n",
    "  * You need to install [Python 3](https://www.python.org/downloads/) (Python 3.8 or 3.7, not 2.7).\n",
    "  * Install then the [Jupyter package](https://jupyter.org/install).  \n",
    "  * A good idea is to use the [Package Installer for Python (pip)](https://packaging.python.org/tutorials/installing-packages/) to add new packages.  \n",
    "  * All these operations are done in the command line (on Windows: `cmd` or Power Shell).  \n",
    "  * The `MSE_AnTeDe_Lab1a.ipynb` must be saved into your repository of Jupyter notebooks.  \n",
    "  * Start Jupyter with `jupyter notebook --no-browser`\n",
    "  * Oopen the Jupyter interface at http://localhost:8888 and launch this notebook.  "
   ]
  },
  {
   "cell_type": "markdown",
   "metadata": {},
   "source": [
    "**To use Jupyter with Conda**\n",
    "\n",
    "Jupyter can be aware of Conda environments.  A notebook can use a kernel associated to a specific Conda environment.  Once Juypter is installed (preferably in the same Conda environment that you will use), run these commands:\n",
    "* `conda activate AnTeDeEnv`\n",
    "* `python -m ipykernel install --user --name AnTeDeEnv --display-name \"AnTeDeEnv\"`\n",
    "Once you have done this, you can just choose this kernel (environment) when you open a new Jupyter notebook."
   ]
  },
  {
   "cell_type": "markdown",
   "metadata": {},
   "source": [
    "### Third option: use Colab online (no local installation)\n",
    "\n",
    "You can use a free online environment provided by Google, named [Colab](https://colab.research.google.com).  You will need a Google account (the same as Gmail if you are using it), and your files will be stored on Google Drive.  Once you open a session in Colab, you will need to import the Jupyter notebooks to Colab.  This environment is offered by Gogle for machine learning experiments, with CPU / GPU / TPU computation, but not for time-consuming jobs.  All Python packages that we will use are installed."
   ]
  },
  {
   "cell_type": "markdown",
   "metadata": {},
   "source": [
    "## Running some simple tests\n",
    "To test your settings, please compute in the next cell how many 3-letter strings exist, given the 26 letters of the English alphabet."
   ]
  },
  {
   "cell_type": "code",
   "execution_count": null,
   "metadata": {},
   "outputs": [],
   "source": [
    "# Write your computation below this line, then execute the cell to obtaine and display the result.\n"
   ]
  },
  {
   "cell_type": "markdown",
   "metadata": {},
   "source": [
    "One more test: please create a list with the first ten numbers (1 to 10) and then print the list of their squares. If needed, use inspiration from this [UEdin tutorial](http://www.inf.ed.ac.uk/teaching/courses/fnlp/Tutorials/python_intro.ipynb) on Python."
   ]
  },
  {
   "cell_type": "code",
   "execution_count": null,
   "metadata": {},
   "outputs": [],
   "source": [
    "# Write your code here, to display (or return) the list of the first ten squares from 1.\n"
   ]
  },
  {
   "cell_type": "markdown",
   "metadata": {},
   "source": [
    "## Getting more familiar with Python\n",
    "\n",
    "If you need to get familiar with Python, one option is to go through [this notebook](http://www.inf.ed.ac.uk/teaching/courses/fnlp/Tutorials/python_intro.ipynb) from the [University of Edinburgh NLP course](http://www.inf.ed.ac.uk/teaching/courses/fnlp/).  (They also offer a useful [introduction to the `numpy` package](http://www.inf.ed.ac.uk/teaching/courses/fnlp/Tutorials/numpy_intro.ipynb).)  The notebook above also gives a very short introduction to [Matplotlib](https://matplotlib.org/), which will allow you to plot graphics in Jupyter.  A more thorough introduction is provided by J.R. Johansson in his [Scientific Python Lectures](http://github.com/jrjohansson/scientific-python-lectures) accompanied by Jupyter notebooks for practicing.  And of course the definitive reference is the [Python documentation](https://www.python.org/doc/) itself."
   ]
  },
  {
   "cell_type": "markdown",
   "metadata": {},
   "source": [
    "## End of Lab 1a\n",
    "This lab is not part of the homework, so there is no need to submit it.\n",
    "Please move now to the notebook for Lab 1b."
   ]
  }
 ],
 "metadata": {
  "kernelspec": {
   "display_name": "Python 3",
   "language": "python",
   "name": "python3"
  },
  "language_info": {
   "codemirror_mode": {
    "name": "ipython",
    "version": 3
   },
   "file_extension": ".py",
   "mimetype": "text/x-python",
   "name": "python",
   "nbconvert_exporter": "python",
   "pygments_lexer": "ipython3",
   "version": "3.8.6"
  }
 },
 "nbformat": 4,
 "nbformat_minor": 4
}
