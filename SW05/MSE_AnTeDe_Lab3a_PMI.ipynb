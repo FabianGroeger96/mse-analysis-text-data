{
 "cells": [
  {
   "cell_type": "markdown",
   "metadata": {},
   "source": [
    "# AnTeDe Lab 3: Sentiment Analysis - Part A\n",
    "\n",
    "## Session goal\n",
    "The goal of this session is to get acquainted with Pointwise Mutual Information and Semantic Orientation. The function **get_hits** returns the number of Google hits for a given **query**."
   ]
  },
  {
   "cell_type": "code",
   "execution_count": 1,
   "metadata": {},
   "outputs": [],
   "source": [
    "import requests, re, logging\n",
    "\n",
    "def get_hits (query):\n",
    "    params = (\n",
    "        ('hl', 'en'),\n",
    "        ('q', query),\n",
    "        \n",
    "    )\n",
    "    \n",
    "    USER_AGENT = \"Mozilla/5.0 (Macintosh; Intel Mac OS X 10.14; rv:65.0) Gecko/20100101 Firefox/65.0\"\n",
    "    URL = \"https://google.com/search?q={query}\"\n",
    "\n",
    "    headers = {\"user-agent\": USER_AGENT}\n",
    "    response = requests.get(URL, headers=headers, params=params)\n",
    "\n",
    "    # Regular expression to retrieve the approximate number of hits from Google's response\n",
    "    groups=re.findall(r'result-stats\">About (.*?) results', response.text)\n",
    "    \n",
    "    # in case no hits were found\n",
    "    if len(groups)==0:\n",
    "        logging.warning('No hits found for query '+query)\n",
    "        return 0\n",
    "    \n",
    "    try:\n",
    "        # if the number is large, get rid of separators \n",
    "        result = float(groups[0].replace('.', '').replace(',', \"\").replace('’', \"\"))\n",
    "    except:\n",
    "        result = float(groups[0])\n",
    "        \n",
    "    return result    "
   ]
  },
  {
   "cell_type": "markdown",
   "metadata": {},
   "source": [
    "Now we get an estimate of the total number of hits."
   ]
  },
  {
   "cell_type": "code",
   "execution_count": 2,
   "metadata": {
    "scrolled": false
   },
   "outputs": [
    {
     "name": "stdout",
     "output_type": "stream",
     "text": [
      "6040000000.0\n"
     ]
    }
   ],
   "source": [
    "all_hits = get_hits('the AND a AND of')\n",
    "print (all_hits)"
   ]
  },
  {
   "cell_type": "markdown",
   "metadata": {},
   "source": [
    "We define a **get_PMI** function based on **get_hits**."
   ]
  },
  {
   "cell_type": "code",
   "execution_count": 3,
   "metadata": {},
   "outputs": [],
   "source": [
    "import math\n",
    "\n",
    "def get_PMI (w1, w2, verbose=True):  \n",
    "    joint = get_hits(w1+'+AND+'+w2)\n",
    "    pw1 = get_hits(w1)\n",
    "    pw2 = get_hits(w2)\n",
    "\n",
    "    PMI = math.log(joint*all_hits/(pw1*pw2), 2)\n",
    "    \n",
    "    if verbose:\n",
    "        print ('PMI('+w1+','+w2+')='+str(round(PMI, 2)))\n",
    "    \n",
    "    return PMI, (joint, pw1, pw2, all_hits)"
   ]
  },
  {
   "cell_type": "markdown",
   "metadata": {},
   "source": [
    "Now you can experiment with PMI. Here's an example, but think of other examples on your own."
   ]
  },
  {
   "cell_type": "code",
   "execution_count": 4,
   "metadata": {},
   "outputs": [
    {
     "name": "stdout",
     "output_type": "stream",
     "text": [
      "PMI(richest,engineer)=4.88\n",
      "PMI(richest,data scientist)=11.11\n",
      "PMI(richest,producer)=5.01\n",
      "PMI(richest,venture capitalist)=10.16\n",
      "PMI(richest,zurich banker)=9.83\n"
     ]
    }
   ],
   "source": [
    "PMI, metrics = get_PMI ('richest', 'engineer')\n",
    "PMI, metrics = get_PMI ('richest', 'data scientist')\n",
    "PMI, metrics = get_PMI ('richest', 'producer')\n",
    "PMI, metrics = get_PMI ('richest', 'venture capitalist')\n",
    "PMI, metrics = get_PMI ('richest', 'zurich banker')"
   ]
  },
  {
   "cell_type": "markdown",
   "metadata": {},
   "source": [
    "Write a function to compute the semantic orientation similarly to how it is defined in the (Turney, 2002) paper we discussed in class. "
   ]
  },
  {
   "cell_type": "code",
   "execution_count": 5,
   "metadata": {},
   "outputs": [],
   "source": [
    "def get_SO (phrase, positive_word='excellent', negative_word='poor', verbose=True):\n",
    "    SO=\"INCOMPLETE\"\n",
    "    # BEGIN_REMOVE\n",
    "    PMI_positive, metrics = get_PMI(phrase, positive_word, False)\n",
    "    PMI_negative, metrics = get_PMI(phrase, negative_word, False)\n",
    "    SO=PMI_positive-PMI_negative\n",
    "    if verbose:\n",
    "        print ('SO('+phrase+')='+str(round(SO, 2)))\n",
    "    # END_REMOVE\n",
    "    \n",
    "    return SO"
   ]
  },
  {
   "cell_type": "markdown",
   "metadata": {},
   "source": [
    "Try it out on the examples from the paper and see whether you can modify it to get better results."
   ]
  },
  {
   "cell_type": "code",
   "execution_count": 6,
   "metadata": {},
   "outputs": [
    {
     "name": "stdout",
     "output_type": "stream",
     "text": [
      "SO(local branch)=1.47\n",
      "SO(online experience)=2.31\n",
      "SO(inconveniently located)=-0.47\n",
      "SO(unethical practices)=-0.54\n"
     ]
    },
    {
     "data": {
      "text/plain": [
       "-0.5411561580449034"
      ]
     },
     "execution_count": 6,
     "metadata": {},
     "output_type": "execute_result"
    }
   ],
   "source": [
    "get_SO('local branch')\n",
    "get_SO('online experience')\n",
    "get_SO('inconveniently located')\n",
    "get_SO('unethical practices')"
   ]
  },
  {
   "cell_type": "code",
   "execution_count": 7,
   "metadata": {},
   "outputs": [
    {
     "name": "stdout",
     "output_type": "stream",
     "text": [
      "SO(unethical practices)=-3.94\n"
     ]
    },
    {
     "data": {
      "text/plain": [
       "-3.9383374946642764"
      ]
     },
     "execution_count": 7,
     "metadata": {},
     "output_type": "execute_result"
    }
   ],
   "source": [
    "get_SO('unethical practices', negative_word='terrible bank')"
   ]
  }
 ],
 "metadata": {
  "kernelspec": {
   "display_name": "Python 3",
   "language": "python",
   "name": "python3"
  },
  "language_info": {
   "codemirror_mode": {
    "name": "ipython",
    "version": 3
   },
   "file_extension": ".py",
   "mimetype": "text/x-python",
   "name": "python",
   "nbconvert_exporter": "python",
   "pygments_lexer": "ipython3",
   "version": "3.8.6"
  }
 },
 "nbformat": 4,
 "nbformat_minor": 2
}
