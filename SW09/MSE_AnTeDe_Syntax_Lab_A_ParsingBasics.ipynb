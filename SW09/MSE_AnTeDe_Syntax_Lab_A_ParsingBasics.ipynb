{
 "cells": [
  {
   "cell_type": "markdown",
   "metadata": {
    "colab_type": "text",
    "id": "v1aosbZSjM-_"
   },
   "source": [
    "# AnTeDe Lab 12a: Using Syntax Parsers \n",
    "\n",
    "## Session goal\n",
    "The goal of this session is to help you familiarize with syntax parsing."
   ]
  },
  {
   "cell_type": "markdown",
   "metadata": {
    "colab_type": "text",
    "id": "vWYuQxbNjM_A"
   },
   "source": [
    "The following cell will start your local CoreNLP server."
   ]
  },
  {
   "cell_type": "code",
   "execution_count": null,
   "metadata": {
    "colab": {},
    "colab_type": "code",
    "id": "RDY2IrchjM_B"
   },
   "outputs": [],
   "source": [
    "import os\n",
    "\n",
    "def unzip_corenlp(zipped):    \n",
    "    import zipfile\n",
    "    with zipfile.ZipFile(zipped,\"r\") as zip_ref:\n",
    "        zip_ref.extractall(\".\") \n",
    "        \n",
    "home = os.getcwd()      "
   ]
  },
  {
   "cell_type": "code",
   "execution_count": null,
   "metadata": {
    "colab": {},
    "colab_type": "code",
    "id": "6lDgE3JJjM_E"
   },
   "outputs": [],
   "source": [
    "import requests\n",
    "\n",
    "my_port = 9001\n",
    "\n",
    "base_url = 'http://nlp.stanford.edu/software/'\n",
    "corenlp_filename = 'stanford-corenlp-4.0.0'\n",
    "corenlp_file = corenlp_filename + '.zip'\n",
    "corenlp_url = base_url + corenlp_file\n",
    "\n",
    "def download_from_url(url, save_path, chunk_size=128):\n",
    "    r = requests.get(url, stream=True)\n",
    "    with open(save_path, 'wb') as fd:\n",
    "        for chunk in r.iter_content(chunk_size=chunk_size):\n",
    "            fd.write(chunk)\n",
    "\n",
    "if corenlp_filename not in os.listdir(home):\n",
    "    download_from_url(corenlp_url, os.path.join(home, corenlp_file))\n",
    "else:\n",
    "    print ('CoreNLP seems to be there!')\n",
    "    \n",
    "path_to_file = os.path.join(os.getcwd(), corenlp_filename+'.'+'zip')\n",
    "unzip_corenlp(path_to_file)"
   ]
  },
  {
   "cell_type": "code",
   "execution_count": null,
   "metadata": {
    "colab": {},
    "colab_type": "code",
    "id": "ysKs_UxzjM_G"
   },
   "outputs": [],
   "source": [
    "def start_corenlp_server():\n",
    "    path=os.path.join(home, corenlp_filename)\n",
    "    os.chdir(path)\n",
    "    command = r'java -mx4g -cp \"*\" edu.stanford.nlp.pipeline.StanfordCoreNLPServer -annotators \"tokenize,ssplit,pos,lemma,parse,sentiment\" -port '+str(my_port)+' -timeout 30000'\n",
    "    os.system (command+\" &\")\n",
    "    os.chdir(home) \n",
    "    \n",
    "start_corenlp_server()"
   ]
  },
  {
   "cell_type": "markdown",
   "metadata": {
    "colab_type": "text",
    "id": "Ux20W22HjM_J"
   },
   "source": [
    "The following cell will enable you to use the CoreNLP tokenizer and PoS tagger."
   ]
  },
  {
   "cell_type": "code",
   "execution_count": null,
   "metadata": {
    "colab": {
     "base_uri": "https://localhost:8080/",
     "height": 207
    },
    "colab_type": "code",
    "id": "g7WCejE3jM_J",
    "outputId": "a0715a66-78a0-41aa-a33d-eeeb6d0eeefa",
    "scrolled": true
   },
   "outputs": [],
   "source": [
    "! pip install stanfordcorenlp\n",
    "from stanfordcorenlp import StanfordCoreNLP\n",
    "from nltk.tree import *\n",
    "import logging\n",
    "\n",
    "class StanfordNLP:\n",
    "    \n",
    "    def __init__(self, host='http://localhost', port=my_port):\n",
    "        self.nlp = StanfordCoreNLP(host, \n",
    "                                   port=port,\n",
    "                                   timeout=30,\n",
    "                                   quiet=False, \n",
    "                                   logging_level=logging.DEBUG)\n",
    "        self.props = {\n",
    "            #'annotators': 'tokenize,ssplit,pos,lemma,ner,parse,depparse,dcoref,relation',\n",
    "            'annotators': 'tokenize,ssplit,pos,lemma,ner,parse,depparse',\n",
    "            'pipelineLanguage': 'en',\n",
    "            'outputFormat': 'json'\n",
    "        }\n",
    "\n",
    "    def word_tokenize(self, sentence):\n",
    "        return self.nlp.word_tokenize(sentence)\n",
    "\n",
    "    def pos(self, sentence):\n",
    "        return self.nlp.pos_tag(sentence)\n",
    "    \n",
    "    def parse(self, sentence):\n",
    "        p = self.nlp.parse(sentence)\n",
    "        Tree.fromstring(p).pretty_print()\n",
    "        \n",
    "        return p\n",
    "\n",
    "    def dependency_parse(self, sentence):\n",
    "        p = self.nlp.dependency_parse(sentence)\n",
    "        print (p)\n",
    "        \n",
    "        return p"
   ]
  },
  {
   "cell_type": "code",
   "execution_count": null,
   "metadata": {
    "colab": {
     "base_uri": "https://localhost:8080/",
     "height": 323
    },
    "colab_type": "code",
    "id": "r8If0qDajM_M",
    "outputId": "fc05212f-735a-42e1-8050-fa78c90d4fd5"
   },
   "outputs": [],
   "source": [
    "s = StanfordNLP()\n",
    "sentence = 'Fed raises interest rates.'\n",
    "print(s.parse(sentence))"
   ]
  },
  {
   "cell_type": "code",
   "execution_count": null,
   "metadata": {
    "colab": {
     "base_uri": "https://localhost:8080/",
     "height": 255
    },
    "colab_type": "code",
    "id": "88sIEJvPjM_O",
    "outputId": "d7b8142c-3ea1-4772-bfe0-231ccde5573f",
    "scrolled": true
   },
   "outputs": [],
   "source": [
    "sentence = 'The president eats her sandwich at her desk.'\n",
    "r = s.parse(sentence)"
   ]
  },
  {
   "cell_type": "code",
   "execution_count": null,
   "metadata": {
    "colab": {
     "base_uri": "https://localhost:8080/",
     "height": 493
    },
    "colab_type": "code",
    "id": "OUQFeNMSjM_R",
    "outputId": "08d0864f-f71d-4bab-b5d0-4ce7640e62c2"
   },
   "outputs": [],
   "source": [
    "sentence = 'I see a very big dog on the pile of clothes that you left next to the washing machine.'\n",
    "r = s.parse(sentence)"
   ]
  },
  {
   "cell_type": "code",
   "execution_count": null,
   "metadata": {
    "colab": {
     "base_uri": "https://localhost:8080/",
     "height": 187
    },
    "colab_type": "code",
    "id": "I6XKAe4RjM_U",
    "outputId": "7ee9fda3-be5b-45ff-c758-0d5f71ddf0a6"
   },
   "outputs": [],
   "source": [
    "# This sentence was contributed by course participant Pius von Däniken during the live lecture on May 7, 2020\n",
    "# The parser has a really hard time with the word man used as a verb\n",
    "sentence='The old man the boats.'\n",
    "r=s.parse(sentence)"
   ]
  },
  {
   "cell_type": "code",
   "execution_count": null,
   "metadata": {
    "colab": {
     "base_uri": "https://localhost:8080/",
     "height": 255
    },
    "colab_type": "code",
    "id": "b__firOojM_W",
    "outputId": "70b218c8-0418-4116-e82a-5e77e5b5a301"
   },
   "outputs": [],
   "source": [
    "# The parser has an easier time if we change 'man' to 'are manning'\n",
    "sentence = 'The old are manning the boats.'\n",
    "r = s.parse(sentence)"
   ]
  },
  {
   "cell_type": "code",
   "execution_count": null,
   "metadata": {
    "colab": {
     "base_uri": "https://localhost:8080/",
     "height": 428
    },
    "colab_type": "code",
    "id": "neWQVIOVjM_Z",
    "outputId": "7847a8ab-0cc5-4271-d498-9707599fe94b"
   },
   "outputs": [],
   "source": [
    "from nltk.parse.corenlp import CoreNLPDependencyParser\n",
    "my_port = 9001\n",
    "url = 'http://localhost:' + str(my_port)\n",
    "parser = CoreNLPDependencyParser(url=url)\n",
    "parse = next(parser.raw_parse(sentence))\n",
    "parse"
   ]
  },
  {
   "cell_type": "code",
   "execution_count": null,
   "metadata": {
    "colab": {
     "base_uri": "https://localhost:8080/",
     "height": 544
    },
    "colab_type": "code",
    "id": "6mM5_2oFjM_b",
    "outputId": "eb9e5bfb-4210-4e58-e7ad-beb87965643d"
   },
   "outputs": [],
   "source": [
    "sentence = 'San Jose cops kill man with knife.'\n",
    "parse = next(parser.raw_parse(sentence))\n",
    "parse"
   ]
  }
 ],
 "metadata": {
  "colab": {
   "collapsed_sections": [],
   "name": "MSE_AnTeDe_Lab12a_ParsingBasics-ColabFriendly.ipynb",
   "provenance": []
  },
  "kernelspec": {
   "display_name": "Python 3",
   "language": "python",
   "name": "python3"
  },
  "language_info": {
   "codemirror_mode": {
    "name": "ipython",
    "version": 3
   },
   "file_extension": ".py",
   "mimetype": "text/x-python",
   "name": "python",
   "nbconvert_exporter": "python",
   "pygments_lexer": "ipython3",
   "version": "3.8.6"
  }
 },
 "nbformat": 4,
 "nbformat_minor": 1
}
