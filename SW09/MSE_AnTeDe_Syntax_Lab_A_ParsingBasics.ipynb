{
 "cells": [
  {
   "cell_type": "markdown",
   "metadata": {
    "colab_type": "text",
    "id": "v1aosbZSjM-_"
   },
   "source": [
    "# AnTeDe Lab 12a: Using Syntax Parsers \n",
    "\n",
    "## Session goal\n",
    "The goal of this session is to help you familiarize with syntax parsing."
   ]
  },
  {
   "cell_type": "markdown",
   "metadata": {
    "colab_type": "text",
    "id": "vWYuQxbNjM_A"
   },
   "source": [
    "The following cell will start your local CoreNLP server."
   ]
  },
  {
   "cell_type": "code",
   "execution_count": 1,
   "metadata": {
    "colab": {},
    "colab_type": "code",
    "id": "RDY2IrchjM_B"
   },
   "outputs": [],
   "source": [
    "import os\n",
    "\n",
    "def unzip_corenlp(zipped):    \n",
    "    import zipfile\n",
    "    with zipfile.ZipFile(zipped,\"r\") as zip_ref:\n",
    "        zip_ref.extractall(\".\") \n",
    "        \n",
    "home = os.getcwd()      "
   ]
  },
  {
   "cell_type": "code",
   "execution_count": 2,
   "metadata": {
    "colab": {},
    "colab_type": "code",
    "id": "6lDgE3JJjM_E"
   },
   "outputs": [],
   "source": [
    "my_port = 9001\n",
    "\n",
    "base_url = 'http://nlp.stanford.edu/software/'\n",
    "corenlp_filename='stanford-corenlp-4.0.0'\n",
    "corenlp_file = corenlp_filename+'.zip'\n",
    "corenlp_url = base_url + corenlp_file\n",
    "\n",
    "def download_from_url(url, save_path, chunk_size=128):\n",
    "    import requests\n",
    "    r = requests.get(url, stream=True)\n",
    "    with open(save_path, 'wb') as fd:\n",
    "        for chunk in r.iter_content(chunk_size=chunk_size):\n",
    "            fd.write(chunk)\n",
    "\n",
    "if corenlp_filename not in os.listdir(home):\n",
    "    download_from_url(corenlp_url, os.path.join(home, corenlp_file))\n",
    "else:\n",
    "    print ('CoreNLP seems to be there!')\n",
    "    \n",
    "path_to_file = os.path.join(os.getcwd(), corenlp_filename+'.'+'zip')\n",
    "unzip_corenlp(path_to_file)\n",
    "            "
   ]
  },
  {
   "cell_type": "code",
   "execution_count": 3,
   "metadata": {
    "colab": {},
    "colab_type": "code",
    "id": "ysKs_UxzjM_G"
   },
   "outputs": [],
   "source": [
    "def start_corenlp_server():\n",
    "    path=os.path.join(home, corenlp_filename)\n",
    "    os.chdir(path)\n",
    "    command = r'java -mx4g -cp \"*\" edu.stanford.nlp.pipeline.StanfordCoreNLPServer -annotators \"tokenize,ssplit,pos,lemma,parse,sentiment\" -port '+str(my_port)+' -timeout 30000'\n",
    "    os.system (command+\" &\")\n",
    "    os.chdir(home) \n",
    "    \n",
    "start_corenlp_server()"
   ]
  },
  {
   "cell_type": "markdown",
   "metadata": {
    "colab_type": "text",
    "id": "Ux20W22HjM_J"
   },
   "source": [
    "The following cell will enable you to use the CoreNLP tokenizer and PoS tagger."
   ]
  },
  {
   "cell_type": "code",
   "execution_count": 4,
   "metadata": {
    "colab": {
     "base_uri": "https://localhost:8080/",
     "height": 207
    },
    "colab_type": "code",
    "id": "g7WCejE3jM_J",
    "outputId": "a0715a66-78a0-41aa-a33d-eeeb6d0eeefa",
    "scrolled": true
   },
   "outputs": [
    {
     "name": "stdout",
     "output_type": "stream",
     "text": [
      "Requirement already satisfied: stanfordcorenlp in /opt/anaconda3/envs/py39/lib/python3.9/site-packages (3.9.1.1)\n",
      "Requirement already satisfied: psutil in /opt/anaconda3/envs/py39/lib/python3.9/site-packages (from stanfordcorenlp) (5.8.0)\n",
      "Requirement already satisfied: requests in /opt/anaconda3/envs/py39/lib/python3.9/site-packages (from stanfordcorenlp) (2.24.0)\n",
      "Requirement already satisfied: idna<3,>=2.5 in /opt/anaconda3/envs/py39/lib/python3.9/site-packages (from requests->stanfordcorenlp) (2.10)\n",
      "Requirement already satisfied: chardet<4,>=3.0.2 in /opt/anaconda3/envs/py39/lib/python3.9/site-packages (from requests->stanfordcorenlp) (3.0.4)\n",
      "Requirement already satisfied: urllib3!=1.25.0,!=1.25.1,<1.26,>=1.21.1 in /opt/anaconda3/envs/py39/lib/python3.9/site-packages (from requests->stanfordcorenlp) (1.25.9)\n",
      "Requirement already satisfied: certifi>=2017.4.17 in /opt/anaconda3/envs/py39/lib/python3.9/site-packages (from requests->stanfordcorenlp) (2020.6.20)\n"
     ]
    }
   ],
   "source": [
    "! pip install stanfordcorenlp\n",
    "from stanfordcorenlp import StanfordCoreNLP\n",
    "from nltk.tree import *\n",
    "\n",
    "class StanfordNLP:\n",
    "    \n",
    "    def __init__(self, host='http://localhost', port=my_port):\n",
    "        self.nlp = StanfordCoreNLP(host, port=port,\n",
    "                                   timeout=30000)  # , quiet=False, logging_level=logging.DEBUG)\n",
    "        self.props = {\n",
    "            #'annotators': 'tokenize,ssplit,pos,lemma,ner,parse,depparse,dcoref,relation',\n",
    "            'annotators': 'tokenize,ssplit,pos,lemma,ner,parse,depparse',\n",
    "            'pipelineLanguage': 'en',\n",
    "            'outputFormat': 'json'\n",
    "        }\n",
    "\n",
    "    def word_tokenize(self, sentence):\n",
    "        return self.nlp.word_tokenize(sentence)\n",
    "\n",
    "    def pos(self, sentence):\n",
    "        return self.nlp.pos_tag(sentence)\n",
    "    \n",
    "    def parse(self, sentence):\n",
    "        \n",
    "        p = self.nlp.parse(sentence)\n",
    "        Tree.fromstring(p).pretty_print()\n",
    "        \n",
    "        return p\n",
    "\n",
    "    def dependency_parse(self, sentence):\n",
    "        p = self.nlp.dependency_parse(sentence)\n",
    "        print (p)\n",
    "        \n",
    "        return p\n",
    "        \n",
    "    "
   ]
  },
  {
   "cell_type": "code",
   "execution_count": 5,
   "metadata": {
    "colab": {
     "base_uri": "https://localhost:8080/",
     "height": 323
    },
    "colab_type": "code",
    "id": "r8If0qDajM_M",
    "outputId": "fc05212f-735a-42e1-8050-fa78c90d4fd5"
   },
   "outputs": [
    {
     "name": "stdout",
     "output_type": "stream",
     "text": [
      "             ROOT                \n",
      "              |                   \n",
      "              S                  \n",
      "  ____________|________________   \n",
      " |            VP               | \n",
      " |     _______|______          |  \n",
      " NP   |              NP        | \n",
      " |    |        ______|____     |  \n",
      "NNP  VBZ      NN         NNS   . \n",
      " |    |       |           |    |  \n",
      "Fed raises interest     rates  . \n",
      "\n",
      "(ROOT\n",
      "  (S\n",
      "    (NP (NNP Fed))\n",
      "    (VP (VBZ raises)\n",
      "      (NP (NN interest) (NNS rates)))\n",
      "    (. .)))\n"
     ]
    }
   ],
   "source": [
    "s = StanfordNLP()\n",
    "\n",
    "sentence='Fed raises interest rates.'\n",
    "print (s.parse(sentence))"
   ]
  },
  {
   "cell_type": "code",
   "execution_count": 6,
   "metadata": {
    "colab": {
     "base_uri": "https://localhost:8080/",
     "height": 255
    },
    "colab_type": "code",
    "id": "88sIEJvPjM_O",
    "outputId": "d7b8142c-3ea1-4772-bfe0-231ccde5573f",
    "scrolled": true
   },
   "outputs": [
    {
     "name": "stdout",
     "output_type": "stream",
     "text": [
      "                                  ROOT                        \n",
      "                                   |                           \n",
      "                                   S                          \n",
      "      _____________________________|________________________   \n",
      "     |                             VP                       | \n",
      "     |              _______________|__________              |  \n",
      "     |             |         |                PP            | \n",
      "     |             |         |             ___|____         |  \n",
      "     NP            |         NP           |        NP       | \n",
      "  ___|______       |     ____|_____       |    ____|___     |  \n",
      " DT         NN    VBZ  PRP$        NN     IN PRP$      NN   . \n",
      " |          |      |    |          |      |   |        |    |  \n",
      "The     president eats her      sandwich  at her      desk  . \n",
      "\n"
     ]
    }
   ],
   "source": [
    "\n",
    "sentence='The president eats her sandwich at her desk.'\n",
    "\n",
    "r=s.parse(sentence)\n"
   ]
  },
  {
   "cell_type": "code",
   "execution_count": 7,
   "metadata": {
    "colab": {
     "base_uri": "https://localhost:8080/",
     "height": 493
    },
    "colab_type": "code",
    "id": "OUQFeNMSjM_R",
    "outputId": "08d0864f-f71d-4bab-b5d0-4ce7640e62c2"
   },
   "outputs": [
    {
     "name": "stdout",
     "output_type": "stream",
     "text": [
      "                                               ROOT                                                            \n",
      "                                                |                                                               \n",
      "                                                S                                                              \n",
      "  ______________________________________________|____________________________________________________________   \n",
      " |           VP                                                                                              | \n",
      " |    _______|_____________________                                                                          |  \n",
      " |   |       |                     PP                                                                        | \n",
      " |   |       |                  ___|_______                                                                  |  \n",
      " |   |       |                 |           NP                                                                | \n",
      " |   |       |                 |        ___|___________                                                      |  \n",
      " |   |       |                 |       |               PP                                                    | \n",
      " |   |       |                 |       |         ______|_____                                                |  \n",
      " |   |       |                 |       |        |            NP                                              | \n",
      " |   |       |                 |       |        |       _____|____                                           |  \n",
      " |   |       |                 |       |        |      |         SBAR                                        | \n",
      " |   |       |                 |       |        |      |      ____|____                                      |  \n",
      " |   |       |                 |       |        |      |     |         S                                     | \n",
      " |   |       |                 |       |        |      |     |     ____|_________                            |  \n",
      " |   |       |                 |       |        |      |     |    |              VP                          | \n",
      " |   |       |                 |       |        |      |     |    |     _________|_______                    |  \n",
      " |   |       NP                |       |        |      |     |    |    |    |            PP                  | \n",
      " |   |    ___|_____________    |       |        |      |     |    |    |    |     _______|_____              |  \n",
      " NP  |   |       ADJP      |   |       NP       |      NP   WHNP  NP   |    NP   |             NP            | \n",
      " |   |   |    ____|____    |   |    ___|___     |      |     |    |    |    |    |    _________|_______      |  \n",
      "PRP VBP  DT  RB        JJ  NN  IN  DT      NN   IN    NNS   WDT  PRP  VBD   JJ   IN  DT        NN      NN    . \n",
      " |   |   |   |         |   |   |   |       |    |      |     |    |    |    |    |   |         |       |     |  \n",
      " I  see  a  very      big dog  on the     pile  of  clothes that you  left next  to the     washing machine  . \n",
      "\n"
     ]
    }
   ],
   "source": [
    "\n",
    "sentence='I see a very big dog on the pile of clothes that you left next to the washing machine.'\n",
    "\n",
    "r=s.parse(sentence)"
   ]
  },
  {
   "cell_type": "code",
   "execution_count": 8,
   "metadata": {
    "colab": {
     "base_uri": "https://localhost:8080/",
     "height": 187
    },
    "colab_type": "code",
    "id": "I6XKAe4RjM_U",
    "outputId": "7ee9fda3-be5b-45ff-c758-0d5f71ddf0a6"
   },
   "outputs": [
    {
     "name": "stdout",
     "output_type": "stream",
     "text": [
      "        ROOT                  \n",
      "         |                     \n",
      "         NP                   \n",
      "      ___|__________________   \n",
      "     NP           NP        | \n",
      "  ___|___      ___|____     |  \n",
      " DT  JJ  NN   DT      NNS   . \n",
      " |   |   |    |        |    |  \n",
      "The old man  the     boats  . \n",
      "\n"
     ]
    }
   ],
   "source": [
    "# This sentence was contributed by course participant Pius von Däniken during the live lecture on May 7, 2020\n",
    "# The parser has a really hard time with the word man used as a verb\n",
    "sentence='The old man the boats.'\n",
    "\n",
    "r=s.parse(sentence)"
   ]
  },
  {
   "cell_type": "code",
   "execution_count": 9,
   "metadata": {
    "colab": {
     "base_uri": "https://localhost:8080/",
     "height": 255
    },
    "colab_type": "code",
    "id": "b__firOojM_W",
    "outputId": "70b218c8-0418-4116-e82a-5e77e5b5a301"
   },
   "outputs": [
    {
     "name": "stdout",
     "output_type": "stream",
     "text": [
      "                  ROOT                       \n",
      "                   |                          \n",
      "                   S                         \n",
      "      _____________|_______________________   \n",
      "     |                   VP                | \n",
      "     |        ___________|___              |  \n",
      "     |       |               VP            | \n",
      "     |       |      _________|___          |  \n",
      "     NP      |     |             NP        | \n",
      "  ___|___    |     |          ___|____     |  \n",
      " DT      JJ VBP   VBG        DT      NNS   . \n",
      " |       |   |     |         |        |    |  \n",
      "The     old are manning     the     boats  . \n",
      "\n"
     ]
    }
   ],
   "source": [
    "# The parser has an easier time if we change 'man' to 'are manning'\n",
    "sentence='The old are manning the boats.'\n",
    "\n",
    "r=s.parse(sentence)"
   ]
  },
  {
   "cell_type": "code",
   "execution_count": 10,
   "metadata": {
    "colab": {
     "base_uri": "https://localhost:8080/",
     "height": 428
    },
    "colab_type": "code",
    "id": "neWQVIOVjM_Z",
    "outputId": "7847a8ab-0cc5-4271-d498-9707599fe94b"
   },
   "outputs": [
    {
     "data": {
      "image/svg+xml": [
       "<?xml version=\"1.0\" encoding=\"UTF-8\" standalone=\"no\"?>\n",
       "<!DOCTYPE svg PUBLIC \"-//W3C//DTD SVG 1.1//EN\"\n",
       " \"http://www.w3.org/Graphics/SVG/1.1/DTD/svg11.dtd\">\n",
       "<!-- Generated by graphviz version 2.44.1 (20200629.0846)\n",
       " -->\n",
       "<!-- Title: G Pages: 1 -->\n",
       "<svg width=\"292pt\" height=\"305pt\"\n",
       " viewBox=\"0.00 0.00 291.50 305.00\" xmlns=\"http://www.w3.org/2000/svg\" xmlns:xlink=\"http://www.w3.org/1999/xlink\">\n",
       "<g id=\"graph0\" class=\"graph\" transform=\"scale(1 1) rotate(0) translate(4 301)\">\n",
       "<title>G</title>\n",
       "<polygon fill=\"white\" stroke=\"transparent\" points=\"-4,4 -4,-301 287.5,-301 287.5,4 -4,4\"/>\n",
       "<!-- 0 -->\n",
       "<g id=\"node1\" class=\"node\">\n",
       "<title>0</title>\n",
       "<text text-anchor=\"middle\" x=\"139.5\" y=\"-275.3\" font-family=\"Times,serif\" font-size=\"14.00\">0 (None)</text>\n",
       "</g>\n",
       "<!-- 4 -->\n",
       "<g id=\"node2\" class=\"node\">\n",
       "<title>4</title>\n",
       "<text text-anchor=\"middle\" x=\"139.5\" y=\"-188.3\" font-family=\"Times,serif\" font-size=\"14.00\">4 (manning)</text>\n",
       "</g>\n",
       "<!-- 0&#45;&gt;4 -->\n",
       "<g id=\"edge1\" class=\"edge\">\n",
       "<title>0&#45;&gt;4</title>\n",
       "<path fill=\"none\" stroke=\"black\" d=\"M139.5,-260.8C139.5,-249.16 139.5,-233.55 139.5,-220.24\"/>\n",
       "<polygon fill=\"black\" stroke=\"black\" points=\"143,-220.18 139.5,-210.18 136,-220.18 143,-220.18\"/>\n",
       "<text text-anchor=\"middle\" x=\"158\" y=\"-231.8\" font-family=\"Times,serif\" font-size=\"14.00\">ROOT</text>\n",
       "</g>\n",
       "<!-- 2 -->\n",
       "<g id=\"node4\" class=\"node\">\n",
       "<title>2</title>\n",
       "<text text-anchor=\"middle\" x=\"28.5\" y=\"-101.3\" font-family=\"Times,serif\" font-size=\"14.00\">2 (old)</text>\n",
       "</g>\n",
       "<!-- 4&#45;&gt;2 -->\n",
       "<g id=\"edge3\" class=\"edge\">\n",
       "<title>4&#45;&gt;2</title>\n",
       "<path fill=\"none\" stroke=\"black\" d=\"M106.8,-173.88C97.66,-168.58 87.94,-162.44 79.5,-156 69.59,-148.44 59.6,-139.1 51.11,-130.55\"/>\n",
       "<polygon fill=\"black\" stroke=\"black\" points=\"53.56,-128.05 44.09,-123.31 48.54,-132.92 53.56,-128.05\"/>\n",
       "<text text-anchor=\"middle\" x=\"94.5\" y=\"-144.8\" font-family=\"Times,serif\" font-size=\"14.00\">nsubj</text>\n",
       "</g>\n",
       "<!-- 3 -->\n",
       "<g id=\"node5\" class=\"node\">\n",
       "<title>3</title>\n",
       "<text text-anchor=\"middle\" x=\"100.5\" y=\"-101.3\" font-family=\"Times,serif\" font-size=\"14.00\">3 (are)</text>\n",
       "</g>\n",
       "<!-- 4&#45;&gt;3 -->\n",
       "<g id=\"edge4\" class=\"edge\">\n",
       "<title>4&#45;&gt;3</title>\n",
       "<path fill=\"none\" stroke=\"black\" d=\"M128.98,-173.84C125.75,-168.25 122.31,-161.95 119.5,-156 116.03,-148.64 112.7,-140.47 109.84,-132.89\"/>\n",
       "<polygon fill=\"black\" stroke=\"black\" points=\"113.09,-131.58 106.36,-123.4 106.52,-133.99 113.09,-131.58\"/>\n",
       "<text text-anchor=\"middle\" x=\"129.5\" y=\"-144.8\" font-family=\"Times,serif\" font-size=\"14.00\">aux</text>\n",
       "</g>\n",
       "<!-- 6 -->\n",
       "<g id=\"node6\" class=\"node\">\n",
       "<title>6</title>\n",
       "<text text-anchor=\"middle\" x=\"178.5\" y=\"-101.3\" font-family=\"Times,serif\" font-size=\"14.00\">6 (boats)</text>\n",
       "</g>\n",
       "<!-- 4&#45;&gt;6 -->\n",
       "<g id=\"edge5\" class=\"edge\">\n",
       "<title>4&#45;&gt;6</title>\n",
       "<path fill=\"none\" stroke=\"black\" d=\"M147.39,-173.8C152.84,-161.93 160.18,-145.93 166.36,-132.45\"/>\n",
       "<polygon fill=\"black\" stroke=\"black\" points=\"169.63,-133.72 170.62,-123.18 163.27,-130.8 169.63,-133.72\"/>\n",
       "<text text-anchor=\"middle\" x=\"169.5\" y=\"-144.8\" font-family=\"Times,serif\" font-size=\"14.00\">obj</text>\n",
       "</g>\n",
       "<!-- 7 -->\n",
       "<g id=\"node7\" class=\"node\">\n",
       "<title>7</title>\n",
       "<text text-anchor=\"middle\" x=\"256.5\" y=\"-101.3\" font-family=\"Times,serif\" font-size=\"14.00\">7 (.)</text>\n",
       "</g>\n",
       "<!-- 4&#45;&gt;7 -->\n",
       "<g id=\"edge6\" class=\"edge\">\n",
       "<title>4&#45;&gt;7</title>\n",
       "<path fill=\"none\" stroke=\"black\" d=\"M163.18,-173.8C180.86,-160.95 205.22,-143.26 224.61,-129.17\"/>\n",
       "<polygon fill=\"black\" stroke=\"black\" points=\"226.83,-131.88 232.86,-123.18 222.71,-126.22 226.83,-131.88\"/>\n",
       "<text text-anchor=\"middle\" x=\"220\" y=\"-144.8\" font-family=\"Times,serif\" font-size=\"14.00\">punct</text>\n",
       "</g>\n",
       "<!-- 1 -->\n",
       "<g id=\"node3\" class=\"node\">\n",
       "<title>1</title>\n",
       "<text text-anchor=\"middle\" x=\"28.5\" y=\"-14.3\" font-family=\"Times,serif\" font-size=\"14.00\">1 (The)</text>\n",
       "</g>\n",
       "<!-- 2&#45;&gt;1 -->\n",
       "<g id=\"edge2\" class=\"edge\">\n",
       "<title>2&#45;&gt;1</title>\n",
       "<path fill=\"none\" stroke=\"black\" d=\"M28.5,-86.8C28.5,-75.16 28.5,-59.55 28.5,-46.24\"/>\n",
       "<polygon fill=\"black\" stroke=\"black\" points=\"32,-46.18 28.5,-36.18 25,-46.18 32,-46.18\"/>\n",
       "<text text-anchor=\"middle\" x=\"37\" y=\"-57.8\" font-family=\"Times,serif\" font-size=\"14.00\">det</text>\n",
       "</g>\n",
       "<!-- 5 -->\n",
       "<g id=\"node8\" class=\"node\">\n",
       "<title>5</title>\n",
       "<text text-anchor=\"middle\" x=\"178.5\" y=\"-14.3\" font-family=\"Times,serif\" font-size=\"14.00\">5 (the)</text>\n",
       "</g>\n",
       "<!-- 6&#45;&gt;5 -->\n",
       "<g id=\"edge7\" class=\"edge\">\n",
       "<title>6&#45;&gt;5</title>\n",
       "<path fill=\"none\" stroke=\"black\" d=\"M178.5,-86.8C178.5,-75.16 178.5,-59.55 178.5,-46.24\"/>\n",
       "<polygon fill=\"black\" stroke=\"black\" points=\"182,-46.18 178.5,-36.18 175,-46.18 182,-46.18\"/>\n",
       "<text text-anchor=\"middle\" x=\"187\" y=\"-57.8\" font-family=\"Times,serif\" font-size=\"14.00\">det</text>\n",
       "</g>\n",
       "</g>\n",
       "</svg>\n"
      ],
      "text/plain": [
       "<DependencyGraph with 8 nodes>"
      ]
     },
     "execution_count": 10,
     "metadata": {},
     "output_type": "execute_result"
    }
   ],
   "source": [
    "from nltk.parse.corenlp import CoreNLPDependencyParser\n",
    "my_port = 9001\n",
    "url = 'http://localhost:'+str(my_port)\n",
    "parser = CoreNLPDependencyParser(url=url)\n",
    "parse = next(parser.raw_parse(sentence))\n",
    "parse"
   ]
  },
  {
   "cell_type": "code",
   "execution_count": 11,
   "metadata": {
    "colab": {
     "base_uri": "https://localhost:8080/",
     "height": 544
    },
    "colab_type": "code",
    "id": "6mM5_2oFjM_b",
    "outputId": "eb9e5bfb-4210-4e58-e7ad-beb87965643d"
   },
   "outputs": [
    {
     "data": {
      "image/svg+xml": [
       "<?xml version=\"1.0\" encoding=\"UTF-8\" standalone=\"no\"?>\n",
       "<!DOCTYPE svg PUBLIC \"-//W3C//DTD SVG 1.1//EN\"\n",
       " \"http://www.w3.org/Graphics/SVG/1.1/DTD/svg11.dtd\">\n",
       "<!-- Generated by graphviz version 2.44.1 (20200629.0846)\n",
       " -->\n",
       "<!-- Title: G Pages: 1 -->\n",
       "<svg width=\"302pt\" height=\"392pt\"\n",
       " viewBox=\"0.00 0.00 301.50 392.00\" xmlns=\"http://www.w3.org/2000/svg\" xmlns:xlink=\"http://www.w3.org/1999/xlink\">\n",
       "<g id=\"graph0\" class=\"graph\" transform=\"scale(1 1) rotate(0) translate(4 388)\">\n",
       "<title>G</title>\n",
       "<polygon fill=\"white\" stroke=\"transparent\" points=\"-4,4 -4,-388 297.5,-388 297.5,4 -4,4\"/>\n",
       "<!-- 0 -->\n",
       "<g id=\"node1\" class=\"node\">\n",
       "<title>0</title>\n",
       "<text text-anchor=\"middle\" x=\"149.5\" y=\"-362.3\" font-family=\"Times,serif\" font-size=\"14.00\">0 (None)</text>\n",
       "</g>\n",
       "<!-- 4 -->\n",
       "<g id=\"node2\" class=\"node\">\n",
       "<title>4</title>\n",
       "<text text-anchor=\"middle\" x=\"149.5\" y=\"-275.3\" font-family=\"Times,serif\" font-size=\"14.00\">4 (kill)</text>\n",
       "</g>\n",
       "<!-- 0&#45;&gt;4 -->\n",
       "<g id=\"edge1\" class=\"edge\">\n",
       "<title>0&#45;&gt;4</title>\n",
       "<path fill=\"none\" stroke=\"black\" d=\"M149.5,-347.8C149.5,-336.16 149.5,-320.55 149.5,-307.24\"/>\n",
       "<polygon fill=\"black\" stroke=\"black\" points=\"153,-307.18 149.5,-297.18 146,-307.18 153,-307.18\"/>\n",
       "<text text-anchor=\"middle\" x=\"168\" y=\"-318.8\" font-family=\"Times,serif\" font-size=\"14.00\">ROOT</text>\n",
       "</g>\n",
       "<!-- 3 -->\n",
       "<g id=\"node5\" class=\"node\">\n",
       "<title>3</title>\n",
       "<text text-anchor=\"middle\" x=\"30.5\" y=\"-188.3\" font-family=\"Times,serif\" font-size=\"14.00\">3 (cops)</text>\n",
       "</g>\n",
       "<!-- 4&#45;&gt;3 -->\n",
       "<g id=\"edge4\" class=\"edge\">\n",
       "<title>4&#45;&gt;3</title>\n",
       "<path fill=\"none\" stroke=\"black\" d=\"M122.5,-263.19C112.25,-257.26 100.62,-250.15 90.5,-243 79.14,-234.97 67.25,-225.35 57.08,-216.7\"/>\n",
       "<polygon fill=\"black\" stroke=\"black\" points=\"59.19,-213.9 49.33,-210.02 54.62,-219.2 59.19,-213.9\"/>\n",
       "<text text-anchor=\"middle\" x=\"105.5\" y=\"-231.8\" font-family=\"Times,serif\" font-size=\"14.00\">nsubj</text>\n",
       "</g>\n",
       "<!-- 5 -->\n",
       "<g id=\"node6\" class=\"node\">\n",
       "<title>5</title>\n",
       "<text text-anchor=\"middle\" x=\"109.5\" y=\"-188.3\" font-family=\"Times,serif\" font-size=\"14.00\">5 (man)</text>\n",
       "</g>\n",
       "<!-- 4&#45;&gt;5 -->\n",
       "<g id=\"edge5\" class=\"edge\">\n",
       "<title>4&#45;&gt;5</title>\n",
       "<path fill=\"none\" stroke=\"black\" d=\"M139.68,-260.73C136.62,-255.13 133.31,-248.86 130.5,-243 126.93,-235.56 123.35,-227.36 120.17,-219.79\"/>\n",
       "<polygon fill=\"black\" stroke=\"black\" points=\"123.32,-218.23 116.27,-210.31 116.84,-220.89 123.32,-218.23\"/>\n",
       "<text text-anchor=\"middle\" x=\"139.5\" y=\"-231.8\" font-family=\"Times,serif\" font-size=\"14.00\">obj</text>\n",
       "</g>\n",
       "<!-- 7 -->\n",
       "<g id=\"node7\" class=\"node\">\n",
       "<title>7</title>\n",
       "<text text-anchor=\"middle\" x=\"189.5\" y=\"-188.3\" font-family=\"Times,serif\" font-size=\"14.00\">7 (knife)</text>\n",
       "</g>\n",
       "<!-- 4&#45;&gt;7 -->\n",
       "<g id=\"edge6\" class=\"edge\">\n",
       "<title>4&#45;&gt;7</title>\n",
       "<path fill=\"none\" stroke=\"black\" d=\"M157.59,-260.8C163.18,-248.93 170.71,-232.93 177.05,-219.45\"/>\n",
       "<polygon fill=\"black\" stroke=\"black\" points=\"180.33,-220.71 181.42,-210.18 173.99,-217.73 180.33,-220.71\"/>\n",
       "<text text-anchor=\"middle\" x=\"181.5\" y=\"-231.8\" font-family=\"Times,serif\" font-size=\"14.00\">obl</text>\n",
       "</g>\n",
       "<!-- 8 -->\n",
       "<g id=\"node8\" class=\"node\">\n",
       "<title>8</title>\n",
       "<text text-anchor=\"middle\" x=\"266.5\" y=\"-188.3\" font-family=\"Times,serif\" font-size=\"14.00\">8 (.)</text>\n",
       "</g>\n",
       "<!-- 4&#45;&gt;8 -->\n",
       "<g id=\"edge7\" class=\"edge\">\n",
       "<title>4&#45;&gt;8</title>\n",
       "<path fill=\"none\" stroke=\"black\" d=\"M173.18,-260.8C190.86,-247.95 215.22,-230.26 234.61,-216.17\"/>\n",
       "<polygon fill=\"black\" stroke=\"black\" points=\"236.83,-218.88 242.86,-210.18 232.71,-213.22 236.83,-218.88\"/>\n",
       "<text text-anchor=\"middle\" x=\"230\" y=\"-231.8\" font-family=\"Times,serif\" font-size=\"14.00\">punct</text>\n",
       "</g>\n",
       "<!-- 1 -->\n",
       "<g id=\"node3\" class=\"node\">\n",
       "<title>1</title>\n",
       "<text text-anchor=\"middle\" x=\"30.5\" y=\"-14.3\" font-family=\"Times,serif\" font-size=\"14.00\">1 (San)</text>\n",
       "</g>\n",
       "<!-- 2 -->\n",
       "<g id=\"node4\" class=\"node\">\n",
       "<title>2</title>\n",
       "<text text-anchor=\"middle\" x=\"30.5\" y=\"-101.3\" font-family=\"Times,serif\" font-size=\"14.00\">2 (Jose)</text>\n",
       "</g>\n",
       "<!-- 2&#45;&gt;1 -->\n",
       "<g id=\"edge2\" class=\"edge\">\n",
       "<title>2&#45;&gt;1</title>\n",
       "<path fill=\"none\" stroke=\"black\" d=\"M30.5,-86.8C30.5,-75.16 30.5,-59.55 30.5,-46.24\"/>\n",
       "<polygon fill=\"black\" stroke=\"black\" points=\"34,-46.18 30.5,-36.18 27,-46.18 34,-46.18\"/>\n",
       "<text text-anchor=\"middle\" x=\"59.5\" y=\"-57.8\" font-family=\"Times,serif\" font-size=\"14.00\">compound</text>\n",
       "</g>\n",
       "<!-- 3&#45;&gt;2 -->\n",
       "<g id=\"edge3\" class=\"edge\">\n",
       "<title>3&#45;&gt;2</title>\n",
       "<path fill=\"none\" stroke=\"black\" d=\"M30.5,-173.8C30.5,-162.16 30.5,-146.55 30.5,-133.24\"/>\n",
       "<polygon fill=\"black\" stroke=\"black\" points=\"34,-133.18 30.5,-123.18 27,-133.18 34,-133.18\"/>\n",
       "<text text-anchor=\"middle\" x=\"59.5\" y=\"-144.8\" font-family=\"Times,serif\" font-size=\"14.00\">compound</text>\n",
       "</g>\n",
       "<!-- 6 -->\n",
       "<g id=\"node9\" class=\"node\">\n",
       "<title>6</title>\n",
       "<text text-anchor=\"middle\" x=\"189.5\" y=\"-101.3\" font-family=\"Times,serif\" font-size=\"14.00\">6 (with)</text>\n",
       "</g>\n",
       "<!-- 7&#45;&gt;6 -->\n",
       "<g id=\"edge8\" class=\"edge\">\n",
       "<title>7&#45;&gt;6</title>\n",
       "<path fill=\"none\" stroke=\"black\" d=\"M189.5,-173.8C189.5,-162.16 189.5,-146.55 189.5,-133.24\"/>\n",
       "<polygon fill=\"black\" stroke=\"black\" points=\"193,-133.18 189.5,-123.18 186,-133.18 193,-133.18\"/>\n",
       "<text text-anchor=\"middle\" x=\"201.5\" y=\"-144.8\" font-family=\"Times,serif\" font-size=\"14.00\">case</text>\n",
       "</g>\n",
       "</g>\n",
       "</svg>\n"
      ],
      "text/plain": [
       "<DependencyGraph with 9 nodes>"
      ]
     },
     "execution_count": 11,
     "metadata": {},
     "output_type": "execute_result"
    }
   ],
   "source": [
    "sentence='San Jose cops kill man with knife.'\n",
    "\n",
    "parse = next(parser.raw_parse(sentence))\n",
    "parse"
   ]
  }
 ],
 "metadata": {
  "colab": {
   "collapsed_sections": [],
   "name": "MSE_AnTeDe_Lab12a_ParsingBasics-ColabFriendly.ipynb",
   "provenance": []
  },
  "kernelspec": {
   "display_name": "py39",
   "language": "python",
   "name": "py39"
  },
  "language_info": {
   "codemirror_mode": {
    "name": "ipython",
    "version": 3
   },
   "file_extension": ".py",
   "mimetype": "text/x-python",
   "name": "python",
   "nbconvert_exporter": "python",
   "pygments_lexer": "ipython3",
   "version": "3.9.1"
  }
 },
 "nbformat": 4,
 "nbformat_minor": 1
}
