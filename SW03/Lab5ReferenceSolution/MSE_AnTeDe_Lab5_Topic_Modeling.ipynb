{
 "cells": [
  {
   "cell_type": "markdown",
   "metadata": {},
   "source": [
    "![alt text](https://www.msengineering.ch/typo3conf/ext/nm_theme_msengineering/Resources/Public/Template/img/mse_logo.jpg \"MSE Logo\") \n",
    "\n",
    "# AnTeDe Practical Work 5 : Topic Modeling\n",
    "\n",
    "by Fabian Märki\n",
    "\n",
    "## Summary\n",
    "The aim of this lab is to get an understanding of [Latent Semantic Analysis](https://radimrehurek.com/gensim/models/lsimodel.html) and [Latent Dirichlet Allocation](https://radimrehurek.com/gensim/models/ldamodel.html) provided by [gensim](https://radimrehurek.com/gensim). \n",
    "\n",
    "Topic Modeling has many usecases:\n",
    "- understanding the different varieties topics in a corpus (obviously)\n",
    "- getting a better insight into the type of documents in a corpus (whether they are about news, wikipedia articles, business documents)\n",
    "- quantifying the most used / most important words in a corpus\n",
    "- document similarity and recommendation.\n",
    "- etc.\n",
    "\n",
    "### Sources\n",
    "- https://www.kaggle.com/ktattan/lda-and-document-similarity\n",
    "- https://www.machinelearningplus.com/nlp/topic-modeling-visualization-how-to-present-results-lda-models\n",
    "- https://www.machinelearningplus.com/nlp/topic-modeling-python-sklearn-examples\n",
    "- https://www.machinelearningplus.com/nlp/topic-modeling-gensim-python\n",
    "- https://datascienceplus.com/evaluation-of-topic-modeling-topic-coherence\n",
    "- Heiko Hahn, AnTeDe 2019, theoretical questions"
   ]
  },
  {
   "cell_type": "code",
   "execution_count": 1,
   "metadata": {},
   "outputs": [],
   "source": [
    "try:\n",
    "    import google.colab\n",
    "    IN_COLAB = True\n",
    "except:\n",
    "    IN_COLAB = False\n",
    "    \n",
    "if IN_COLAB:\n",
    "    !pip install mse-antede-fs2020-utilities\n",
    "   \n",
    "import os\n",
    "import time\n",
    "import numpy as np\n",
    "import nltk\n",
    "import gensim\n",
    "import pandas as pd\n",
    "from nltk import FreqDist\n",
    "from nltk.corpus import stopwords, wordnet\n",
    "import gensim\n",
    "from gensim.models import LdaModel, LdaMulticore, LsiModel\n",
    "from gensim.models.coherencemodel import CoherenceModel\n",
    "from gensim.models.phrases import Phrases, Phraser\n",
    "from gensim import models, corpora, similarities\n",
    "import pyLDAvis.gensim\n",
    "from scipy.stats import entropy\n",
    "import matplotlib.pyplot as plt\n",
    "\n",
    "from mse_antede_fs2020_utilities.preprocessing import TextPreprocessor\n",
    "    \n",
    "if IN_COLAB:\n",
    "    nltk.download(\"popular\")"
   ]
  },
  {
   "cell_type": "markdown",
   "metadata": {},
   "source": [
    "Read the data..."
   ]
  },
  {
   "cell_type": "code",
   "execution_count": 2,
   "metadata": {},
   "outputs": [],
   "source": [
    "test_data_dir = '{}'.format(os.sep).join([gensim.__path__[0], 'test', 'test_data'])\n",
    "lee_train_file = test_data_dir + os.sep + 'lee_background.cor'\n",
    "text = open(lee_train_file).read().splitlines()\n",
    "data_df = pd.DataFrame({'text': text})"
   ]
  },
  {
   "cell_type": "markdown",
   "metadata": {},
   "source": [
    "# Data Preprocessing\n",
    "\n",
    "Data preprocessing is key to success. Since both LSA and LDA are bag of words models, the words used for the model matter a lot (i.e. happy ≠ happier or bank ≠ banks). This means that it is crutial that you do a proper text cleaning, e.g. by focusing on the word roots (lemmatization/stemming or use nouns or adjectives only - see also [here](https://www.youtube.com/watch?v=3mHy4OSyRf0&t=6m34s) for further inspiration). As a consequence, we reduce the total number of unique words in the dictionary and can expect to get better topics generated in the end.\n",
    "\n",
    "Here I use the TexpPreprocessor provided by [mse-antede-fs2020-utilities](https://pypi.org/project/mse-antede-fs2020-utilities). You are of course free to use your own code.\n",
    "\n",
    "<font color='red'>Do not forget to tweak the code according your needs</font>"
   ]
  },
  {
   "cell_type": "code",
   "execution_count": 3,
   "metadata": {},
   "outputs": [],
   "source": [
    "language = 'english'\n",
    "stop_words = set(stopwords.words(language))\n",
    "stop_words.add('\\\"')\n",
    "stop_words.add('\\'')\n",
    "stop_words.add('\\'\\'')\n",
    "stop_words.add('`')\n",
    "stop_words.add('``')\n",
    "stop_words.add('\\'s')\n",
    "# You: Extend the stop_word list if appropriate.\n",
    "\n",
    "processor = TextPreprocessor(\n",
    "    language = language,\n",
    "    # You: Initialize the TextPreprocessor according your needs\n",
    "    pos_tags = {wordnet.ADJ, wordnet.NOUN},\n",
    "    stopwords = stop_words,\n",
    "    # End of your code\n",
    "    n_jobs = 6,\n",
    ")\n",
    "\n",
    "data_df['processed'] = processor.transform(data_df['text'])"
   ]
  },
  {
   "cell_type": "code",
   "execution_count": 4,
   "metadata": {},
   "outputs": [],
   "source": [
    "data_df['tokenized'] = data_df['processed'].apply(nltk.word_tokenize)"
   ]
  },
  {
   "cell_type": "markdown",
   "metadata": {},
   "source": [
    "The next bigram step is again from the orginal notebook. The idea is to recognize expressions like \"new york\" as one word, i.e. new_york, automatically."
   ]
  },
  {
   "cell_type": "code",
   "execution_count": 5,
   "metadata": {},
   "outputs": [],
   "source": [
    "# training for bigram collocation detection\n",
    "phrases = Phrases(data_df['tokenized'], min_count=1, threshold=0.8, scoring='npmi')\n",
    "bigram = Phraser(phrases)"
   ]
  },
  {
   "cell_type": "code",
   "execution_count": 6,
   "metadata": {},
   "outputs": [],
   "source": [
    "# merging detected collocations with data\n",
    "data_df['tokenized'] = list(bigram[data_df['tokenized']])"
   ]
  },
  {
   "cell_type": "markdown",
   "metadata": {},
   "source": [
    "LSA and LDA are bag of words models, i.e. word order in a document does not count. This also means that stopwords and rare words should be excluded, so that the model does not overcompensate for very frequent words and very rare words, both of which do not contribute to general topics."
   ]
  },
  {
   "cell_type": "code",
   "execution_count": 7,
   "metadata": {},
   "outputs": [
    {
     "data": {
      "text/plain": [
       "5011"
      ]
     },
     "execution_count": 7,
     "metadata": {},
     "output_type": "execute_result"
    }
   ],
   "source": [
    "# first get a list of all words\n",
    "all_words = [word for item in data_df['tokenized'] for word in item]\n",
    "# use nltk fdist to get a frequency distribution of all words\n",
    "fdist = FreqDist(all_words)\n",
    "len(fdist) # number of unique words"
   ]
  },
  {
   "cell_type": "code",
   "execution_count": 8,
   "metadata": {},
   "outputs": [
    {
     "name": "stdout",
     "output_type": "stream",
     "text": [
      "2748\n",
      "[('mr', 306), ('australian', 178), ('new', 171), ('palestinian', 168), ('australia', 157), ('people', 153), ('government', 146), ('two', 136), ('u', 136), ('day', 131)]\n",
      "[('shell', 1), ('jeep', 1), ('besiege', 1), ('nigel_hawthorne', 1), ('agent', 1), ('chemotherapy', 1), ('mcreddie', 1), ('unexpected', 1), ('mcreddie_brilliant', 1), ('sad', 1)]\n"
     ]
    }
   ],
   "source": [
    "# choose k and visually inspect the bottom 10 words of the top k\n",
    "k = len(fdist) - 2263\n",
    "top_k_words = fdist.most_common(k)\n",
    "print(k)\n",
    "print(top_k_words[:10])\n",
    "print(top_k_words[-10:])"
   ]
  },
  {
   "cell_type": "markdown",
   "metadata": {},
   "source": [
    "k = 2843  seems to be reasonable as these have been used at least twice in the corpus. For a real world corpus you might want to set this threshold even higher. Words you definitely want to drop are all non-real words.\n"
   ]
  },
  {
   "cell_type": "markdown",
   "metadata": {},
   "source": [
    "<font color='red'>Do not forget to tweak the code according your needs</font>"
   ]
  },
  {
   "cell_type": "code",
   "execution_count": 9,
   "metadata": {},
   "outputs": [],
   "source": [
    "# define a function only to keep frequent words\n",
    "\n",
    "# You: Define the thresholds according your needs\n",
    "#min_freq = 1\n",
    "#max_freq = 10000\n",
    "min_freq = 5\n",
    "max_freq = 200\n",
    "def keep_freq_words(text):\n",
    "    return [word for word in text if fdist[word] >= min_freq and fdist[word] <= max_freq]"
   ]
  },
  {
   "cell_type": "code",
   "execution_count": 10,
   "metadata": {},
   "outputs": [
    {
     "name": "stdout",
     "output_type": "stream",
     "text": [
      "There are 1054 of 5011 left.\n"
     ]
    }
   ],
   "source": [
    "data_df['tokenized'] = data_df['tokenized'].apply(keep_freq_words)\n",
    "print(\"There are\", len(list(filter(lambda x: x[1]>=min_freq, fdist.items()))), \"of\", len(fdist), \"left.\")"
   ]
  },
  {
   "cell_type": "markdown",
   "metadata": {},
   "source": [
    "Topic modeling (especially LDA) does not work well with very short documents (see [here](https://stackoverflow.com/questions/29786985/whats-the-disadvantage-of-lda-for-short-texts) and [here](https://www.semanticscholar.org/paper/A-biterm-topic-model-for-short-texts-Yan-Guo/b7da93b0c797cdb2b5b31adc73224d625c0a0759)). This is why you might want to drop short articles of a real world corpus (e.g. under 40 tokens). \n",
    "This is because the model infers parameters from observations and if there are not enough observations (words) in a document, the model performs poorly."
   ]
  },
  {
   "cell_type": "code",
   "execution_count": 11,
   "metadata": {},
   "outputs": [
    {
     "name": "stdout",
     "output_type": "stream",
     "text": [
      "length of list: 300 \n",
      "average document length 62.5 \n",
      "minimum document length 13 \n",
      "maximum document length 224\n"
     ]
    }
   ],
   "source": [
    "# document length\n",
    "doc_lengths = list(data_df['tokenized'].apply(lambda x: len(x)))\n",
    "\n",
    "print(\"length of list:\",len(doc_lengths),\n",
    "      \"\\naverage document length\", np.average(doc_lengths),\n",
    "      \"\\nminimum document length\", min(doc_lengths),\n",
    "      \"\\nmaximum document length\", max(doc_lengths))"
   ]
  },
  {
   "cell_type": "markdown",
   "metadata": {},
   "source": [
    "# Nuber of Topics\n",
    "\n",
    "Topic modeling is an unsupervised technique, meaning that we do not know prior to running the model how many topics exits in our corpus. Topic coherence is one of the main techniques used to estimate the number of topics (see [CoherenceModel](https://radimrehurek.com/gensim/models/coherencemodel.html)). There are several measures available to calculate the coherence score. Alternatively, one can also use visualization tools (like pyLDAvis for LDA), or tried a few numbers of topics and compared the results by hand.\n",
    "\n",
    "We need to build many models with different number of topics (k) and pick the one that gives the highest coherence value. Choosing a ‘k’ that marks the end of a rapid growth of topic coherence usually offers meaningful and interpretable topics. Picking an even higher value can sometimes provide more granular sub-topics. If you see the same keywords being repeated in multiple topics, it’s probably a sign that the ‘k’ is too large."
   ]
  },
  {
   "cell_type": "code",
   "execution_count": 12,
   "metadata": {},
   "outputs": [],
   "source": [
    "def compute_coherence_values(model, coherence='c_v'):\n",
    "    \"\"\"\n",
    "    Compute coherence of a model\n",
    "\n",
    "    Parameters:\n",
    "    ----------\n",
    "    model : The topic model\n",
    "    coherence: The coherence measure to be used\n",
    "\n",
    "    Returns:\n",
    "    -------\n",
    "    coherence_value : Coherence value corresponding to the model with respective number of topics\n",
    "    \"\"\"\n",
    "\n",
    "    coherencemodel = CoherenceModel(model=model, texts = data_df['tokenized'], corpus=corpus, dictionary=dictionary, coherence=coherence)\n",
    "\n",
    "    return coherencemodel"
   ]
  },
  {
   "cell_type": "markdown",
   "metadata": {},
   "source": [
    "The main reference is this [paper](http://svn.aksw.org/papers/2015/WSDM_Topic_Evaluation/public.pdf) and a good start [this](https://rare-technologies.com/what-is-topic-coherence)."
   ]
  },
  {
   "cell_type": "markdown",
   "metadata": {},
   "source": [
    "<font color='red'>Please describe the coherence process by explaining its main four steps (figure one in the original paper) in your own words.</font>\n",
    "\n",
    "<font color='green'> At an abstract level, coherence criteria try to quantify how much (top ranked) words from a topic are semantically consistent. The topic coherence process is a way to automatically measure this coherence and it consists of the following four steps<br></font>  \n",
    " <font color='blue'>Segmentation:</font> <font color='green'> The segmentation part defines how to divide the set containing the top ranking words for the coherence calculations. For example, do you want to compare each word from the top ranking set against each other word or do you want to compare one word from this set with the set of all remaining words from the top ranking words etc. We have the option to choose from different schemes on how to segments these top ranking word into sets. <br>\n",
    "<font color='blue'>Probability Calculations</font> The coherence measures are based on probabilities of occurrence of single words and on the probabilities of the cooccurrence of certain words together in documents. In its simplest (Boolean) form this just means counting the occurrence of a word or the cooccurrence of certain words in documents and divide these counts by the total number of documents. Alternatively, by using a sliding window approach you define smaller virtual documents that are created by the respective document parts that are covered as the window slides over the documents. You derive the probability estimates from that extended virtual documents corpus <font color='green'> <br>\n",
    "<font color='blue'>Confirmation measure</font>Having calculated probabilities for the occurrence of words or the cooccurrence of certain words together you now derive your confirmation measure by setting these probabilities in relation, e.g. multiplying and/or dividing them. One example is by calculating pointwise mutual information. Several different confirmation measures are available.<br>\n",
    "<font color='blue'>Aggregation measure</font> As the confirmation measure is calculated for pairs of words or set of words the final step is the aggregation of this single confirmation measures in one aggregated measure.</font>"
   ]
  },
  {
   "cell_type": "markdown",
   "metadata": {},
   "source": [
    "<font color='red'>Please have a look at the interface of [gensim.models.coherencemodel](https://radimrehurek.com/gensim/models/coherencemodel.html). One of the the parameters is coherence. There you find a list of abbreviations like 'u_mass' etc which stand for the actual coherence measure. Please select two of them and explain in a few words how they are calculated and what they measure.</font>\n",
    "\n",
    "<font color='green'>This is about the choice of the coherence measure. Lets look at c_uci/c_pmi and u_mass<br></font>  \n",
    " <font color='blue'>c_uci/c_pmi :</font> <font color='green'>This is the pointwise mutual information $pmi=\\log {\\frac {p(w_i,w_j)+\\epsilon}{p(w_i)p(w_j)}}$ where we compare the log probabilities of observing the words together with the probability of observing them independently <font color='green'> <br>\n",
    " <font color='blue'>c_mass :</font> For calculating $c_{mass}=\\log {\\frac {p(w_i,w_j)+\\epsilon}{p(w_i)}}$ we compare the log probability of observing both words together with the probability of observing just one word.\n",
    "<br>In both case the value will be higher if we see the words often together. The denominator is a weighting factor for the term frequency so that very frequent words do not get too much weight [see also here](https://stats.stackexchange.com/questions/375062/how-does-topic-coherence-score-in-lda-intuitively-makes-sense) <font color='green'>  "
   ]
  },
  {
   "cell_type": "code",
   "execution_count": 13,
   "metadata": {},
   "outputs": [],
   "source": [
    "def show_coherence_graph(start, limit, step, coherence_values, coherence_names):\n",
    "    # Show graph\n",
    "    x = range(start, limit, step)\n",
    "    fig, axs = plt.subplots(len(coherence_values))\n",
    "    \n",
    "    for i, coherence_name in enumerate(coherence_names):\n",
    "        coherence_vals = coherence_values[coherence_name]\n",
    "        axs[i].plot(x, coherence_vals)\n",
    "        axs[i].set_xlabel(\"Num Topics\")\n",
    "        axs[i].set_ylabel(\"Coherence Value\")\n",
    "        axs[i].legend((coherence_name), loc='best')\n",
    "\n",
    "    plt.show()"
   ]
  },
  {
   "cell_type": "markdown",
   "metadata": {},
   "source": [
    "# LSA\n",
    "\n",
    "\n",
    "Latent Semantic Analysis is a classical tool for automatically extracting similarities between documents, through dimensionality reduction. By applying TF-IDF as a preprocessing step, it is possible to fill the document-term matrix with weights corresponding to the importance of the term in the specific document. The document-term matrix is then reduced via Singular Value Decomposition to a lower dimensional space (often called the concept space) by a rank k approximation of the document-term matrix. This representation is then used to compare documents by e.g. using the cosine distance."
   ]
  },
  {
   "cell_type": "markdown",
   "metadata": {},
   "source": [
    "<font color='red'>Please implement the function <b>train_lsa</b> by following [this tutorial](https://radimrehurek.com/gensim/auto_examples/core/run_topics_and_transformations.html). Also consider using a TF-IDF transformation.</font>"
   ]
  },
  {
   "cell_type": "code",
   "execution_count": 14,
   "metadata": {},
   "outputs": [],
   "source": [
    "def train_lsa(data, num_topics = 10):\n",
    "    \"\"\"\n",
    "    This function trains the lsa model\n",
    "    We setup parameters like number of topics\n",
    "    \"\"\"\n",
    "\n",
    "    dictionary = corpora.Dictionary(data)\n",
    "    corpus = [dictionary.doc2bow(doc) for doc in data]\n",
    "    t1 = time.time()\n",
    "    \n",
    "    # Start: Add your code\n",
    "    # Lets us tf-idf\n",
    "    tfidf = models.TfidfModel(corpus)\n",
    "    corpus_tfidf = tfidf[corpus]\n",
    "    chunksize = 20\n",
    "    lsa = LsiModel(corpus=corpus_tfidf, num_topics=num_topics, id2word=dictionary, chunksize=chunksize)\n",
    "    # End: Add your code\n",
    "    \n",
    "    t2 = time.time()\n",
    "    print(\"Time to train a\", num_topics, \"topics LSA model on\", len(data), \"articles:\", (t2-t1)/60, \"min\")\n",
    "    return lsa,dictionary,corpus,corpus_tfidf"
   ]
  },
  {
   "cell_type": "markdown",
   "metadata": {},
   "source": [
    "## LSA - Nuber of Topics\n",
    "\n",
    "Lets perform a hyper-parameter tuning in order to find the optimal number of topics. "
   ]
  },
  {
   "cell_type": "code",
   "execution_count": 15,
   "metadata": {},
   "outputs": [
    {
     "name": "stdout",
     "output_type": "stream",
     "text": [
      "Time to train a 2 topics LSA model on 300 articles: 0.007224476337432862 min\n",
      "Time to train a 3 topics LSA model on 300 articles: 0.01815900405248006 min\n",
      "Time to train a 4 topics LSA model on 300 articles: 0.017794462045033772 min\n",
      "Time to train a 5 topics LSA model on 300 articles: 0.02167640527089437 min\n",
      "Time to train a 6 topics LSA model on 300 articles: 0.018404078483581544 min\n",
      "Time to train a 7 topics LSA model on 300 articles: 0.022061129411061604 min\n",
      "Time to train a 8 topics LSA model on 300 articles: 0.020171181360880534 min\n",
      "Time to train a 9 topics LSA model on 300 articles: 0.020653752485911052 min\n",
      "Time to train a 10 topics LSA model on 300 articles: 0.022107315063476563 min\n",
      "Time to train a 11 topics LSA model on 300 articles: 0.030411851406097413 min\n",
      "Time to train a 12 topics LSA model on 300 articles: 0.02240130106608073 min\n",
      "Time to train a 13 topics LSA model on 300 articles: 0.022495591640472413 min\n",
      "Time to train a 14 topics LSA model on 300 articles: 0.0230611522992452 min\n"
     ]
    },
    {
     "data": {
      "image/png": "[encoded data removed]",
      "text/plain": [
       "<Figure size 432x288 with 2 Axes>"
      ]
     },
     "metadata": {
      "needs_background": "light"
     },
     "output_type": "display_data"
    }
   ],
   "source": [
    "start=2\n",
    "limit=15\n",
    "step=1\n",
    "coherences = ['u_mass', 'c_v']\n",
    "# dic of lists\n",
    "coherence_values = {}\n",
    "for coherence in coherences:\n",
    "    coherence_values[coherence] = []\n",
    "model_list = []\n",
    "\n",
    "for num_topics in range(start, limit, step):\n",
    "    model,dictionary,corpus,corpus_tfidf = train_lsa(data_df['tokenized'], num_topics = num_topics)\n",
    "    model_list.append((model,dictionary,corpus,corpus_tfidf))\n",
    "    \n",
    "    for coherence in coherences:\n",
    "        coherencemodel = compute_coherence_values(model, coherence)\n",
    "        coherence_values[coherence].append(coherencemodel.get_coherence())\n",
    "    \n",
    "show_coherence_graph(start, limit, step, coherence_values, coherences) "
   ]
  },
  {
   "cell_type": "code",
   "execution_count": 16,
   "metadata": {},
   "outputs": [],
   "source": [
    "best_topic_index = 7\n",
    "model,dictionary,corpus,corpus_tfidf = model_list[best_topic_index]"
   ]
  },
  {
   "cell_type": "markdown",
   "metadata": {},
   "source": [
    "Let's inspect some topics. When we see the words they may seem shortened. This is because of our lemmanized/stemmed the words."
   ]
  },
  {
   "cell_type": "code",
   "execution_count": 17,
   "metadata": {},
   "outputs": [
    {
     "data": {
      "text/plain": [
       "[(0,\n",
       "  '0.251*\"palestinian\" + 0.165*\"israeli\" + 0.123*\"afghanistan\" + 0.117*\"force\" + 0.116*\"arafat\" + 0.116*\"government\" + 0.115*\"fire\" + 0.112*\"attack\" + 0.111*\"u\" + 0.102*\"australia\" + 0.096*\"australian\" + 0.094*\"security\" + 0.094*\"israel\" + 0.093*\"people\" + 0.091*\"hamas\" + 0.091*\"new\" + 0.089*\"police\" + 0.087*\"leader\" + 0.085*\"official\" + 0.084*\"two\"'),\n",
       " (1,\n",
       "  '0.442*\"palestinian\" + 0.299*\"israeli\" + 0.212*\"arafat\" + -0.185*\"test\" + 0.155*\"israel\" + 0.153*\"hamas\" + 0.122*\"suicide\" + -0.119*\"south\" + 0.117*\"militant\" + 0.107*\"sharon\" + -0.105*\"sydney\" + -0.103*\"australia\" + -0.102*\"australian\" + 0.098*\"west_bank\" + -0.095*\"yacht\" + -0.092*\"africa\" + -0.086*\"union\" + 0.085*\"gaza\" + -0.082*\"race\" + 0.080*\"gaza_strip\"'),\n",
       " (2,\n",
       "  '0.283*\"test\" + 0.208*\"fire\" + -0.196*\"afghanistan\" + 0.172*\"south\" + 0.172*\"palestinian\" + 0.166*\"africa\" + 0.134*\"israeli\" + -0.128*\"qantas\" + 0.125*\"match\" + 0.124*\"wicket\" + -0.123*\"union\" + 0.121*\"cricket\" + -0.120*\"taliban\" + -0.114*\"hick\" + -0.114*\"al_qaeda\" + 0.112*\"waugh\" + 0.108*\"road\" + -0.107*\"force\" + 0.102*\"firefighter\" + -0.097*\"afghan\"'),\n",
       " (3,\n",
       "  '-0.380*\"qantas\" + -0.343*\"union\" + 0.183*\"afghanistan\" + -0.179*\"worker\" + -0.156*\"maintenance_worker\" + -0.154*\"commission\" + -0.137*\"action\" + -0.136*\"wage_freeze\" + 0.127*\"al_qaeda\" + -0.124*\"industrial\" + 0.122*\"taliban\" + -0.120*\"bank\" + -0.119*\"company\" + -0.118*\"offer\" + -0.115*\"industry\" + -0.113*\"pay\" + -0.112*\"palestinian\" + 0.111*\"force\" + -0.111*\"airline\" + 0.100*\"hick\"'),\n",
       " (4,\n",
       "  '0.333*\"fire\" + -0.302*\"test\" + -0.174*\"africa\" + 0.166*\"wind\" + 0.164*\"firefighter\" + 0.148*\"sydney\" + -0.143*\"match\" + -0.133*\"cricket\" + 0.130*\"storm\" + -0.128*\"waugh\" + -0.124*\"wicket\" + 0.114*\"area\" + 0.106*\"line\" + 0.098*\"weather\" + 0.096*\"property\" + -0.091*\"side\" + 0.090*\"river\" + -0.088*\"afghanistan\" + 0.088*\"service\" + 0.088*\"blaze\"')]"
      ]
     },
     "execution_count": 17,
     "metadata": {},
     "output_type": "execute_result"
    }
   ],
   "source": [
    "model.print_topics(num_topics=5, num_words=20)"
   ]
  },
  {
   "cell_type": "markdown",
   "metadata": {},
   "source": [
    "<font color='red'>Do you find the output useful? Please make a comment.</font>\n",
    "\n",
    "<font color='green'>This is a very open question so there are no clear true or false answers. But it is certainly not easy from these outputs to make any clear interpretation of the main topics being discussed. One aspect is that there seem to be very similar topics at the top.</font>"
   ]
  },
  {
   "cell_type": "markdown",
   "metadata": {},
   "source": [
    "## LSA - Query Documents\n",
    "\n",
    "There is one tasks missing from the lecture and that is the problem of finding similar documents. Please implement the similarity evaluation from Lab4 between query document $\\mathbf{q}$ and our document corpus. It might be helpful to consult the following [tutorial](https://radimrehurek.com/gensim/tut3.html). Your are only asked to calculate the (cosine) similarity values and not to reproduce the complete tutorial. \n",
    " "
   ]
  },
  {
   "cell_type": "markdown",
   "metadata": {},
   "source": [
    "<font color='red'>Please implement the document query: \"Qantas airline was late today.\"</font>"
   ]
  },
  {
   "cell_type": "code",
   "execution_count": 18,
   "metadata": {},
   "outputs": [
    {
     "name": "stdout",
     "output_type": "stream",
     "text": [
      "Query: Qantas airline was late today.\n",
      "0 (128, 0.9922518) Qantas has moved to assure travellers there will be no disruption to flights over the Christmas period, despite threats of industrial action. Qantas maintenance workers have rejected the airline's proposals for a wage freeze. As negotiations over the dispute continue in the Industrial Relations Commission, Qantas Chief Executive Geoff Dixon has expressed his disappointment at the maintenance workers' actions. Mr Dixon points out 92 per cent of the airline's workforce have already agreed in-principle to accept a wages freeze together with an incentives scheme. Mr Dixon claims maintenance workers earn, on average, 28 per cent above average weekly earnings and also receive generous staff travel benefits. Mr Dixon has assured nervous travellers that even if the workers do go out on strike, Qantas flights will not be disrupted. Maintenance unions are refusing to soften their stance against a Qantas wage freeze proposal. Qantas and two maintenance unions are continuing negotiations in the Industrial Relations Commission, where unions produced a leaked airline briefing paper which says Qantas is prepared to escalate the strike to force a resolution. \n",
      "1 (195, 0.9848536) Unions representing Qantas maintenance workers have not ruled out disruptions to Christmas flights following a breakdown in negotiations with management. The issue of a wage freeze was not resolved after two days of hearings before the Industrial Relations Commission. Qantas has put an offer to workers but unions will advise members to reject it because it does not include a pay rise. Doug Cameron from the Australian Manufacturing Workers Union says Qantas is being greedy. \"Any disruption to Christmas flights is clearly on the head of Qantas,\" he said. \"Qantas have been the company that have been absolutely belligerent in their approach towards their own employees. \"Qantas are the company that are trying to cut the wages of the lowest-paid skilled workers in the country and Qantas is the company that have created this situation and they have come and not moved one inch in bargaining.\" Unions say maintenance workers deserve modest pay rises and an improved career structure. But Qantas maintains it has to impose a wage freeze because of the global downturn in the airline industry. Doug Cameron from the Manufacturing Workers Union says members will decide by secret ballot whether to step up industrial action. \"Every time Qantas has come to the table they've been arrogant, they've been belligerent,\" he said. \"Their position is that these workers will bow to the will of Qantas and our view is that is unacceptable for a company that's built its reputation for safety, built its reputation for reliability on the back of the workers who are earning $30,000 a year.\" Qantas says it is confident an agreement will be reached following the secret ballot. \n",
      "2 (135, 0.9819448) A dispute which could threaten air services returns to the Industrial Relations Commission today. Qantas maintenance workers have rejected the airline's proposals for a wages freeze. The dispute involving 3,000 maintenance workers has been running for around six months. After lengthy negotiations last weekend, Qantas had sought a ballot of the maintenance workers. The unions claim 90 per cent of the workforce voted against the company's latest offer. The national secretary of the Australian Manufacturing Workers Union (AMWU), Doug Cameron, did not rule out the grounding of Qantas jets if the dispute continues and he says the company would only have itself to blame. \"If Qantas doesn't come to the party, I think it's inevitable that the industrial action will continue and that will be Qantas' responsibility,\" he said. \n",
      "3 (187, 0.97908014) Qantas maintenance workers will decide by secret ballot whether to accept the airline's offer of an incentive payment from company profits. Unions will advise members to reject the offer because it includes a wage freeze. Qantas management and unions have been locked in negotiations for two days over the proposed 12 to 18-month wage freeze. Unions say the workers deserve a pay rise, while Qantas maintains it cannot afford it because of the global downturn in the airline industry. The results of the secret ballot will be put before the Industrial Relations Commission next Monday. Failure to resolve the issue could result in industrial action over the Christmas holidays. \n",
      "4 (67, 0.97165006) A pay freeze dispute involving Qantas and its maintenance workers will remain unresolved over the Christmas period. The parties failed to reach agreement during talks in the Industrial Relations Commission in Melbourne this morning. More than 2,000 employees have imposed work bans and stoppages in their campaign for a 3 per cent pay rise. Both the union and Qantas say there will not be flight disruptions. \n",
      "5 (117, 0.9704302) Unions representing Qantas maintenance workers have warned of escalating industrial action if the company rejects an offer to have a long running dispute arbitrated. The parties were locked in private talks yesterday in the Industrial Relations Commission after more than 3,000 maintenance workers earlier voted to reject Qantas' proposed wage freeze. The national secretary of the Australian Manufacturing and Workers Union (AMWU), Doug Cameron, says the unions have done everything possible to resolve the dispute. \"If Qantas is not prepared to accept private arbitration, there is absolutely no alternative for these workers to take further industrial action, escalate the industrial action if necessary to ensure that they get a fair go from this company who seemed determined to crush them underfoot,\" he said. \n",
      "6 (120, 0.9704302) Unions representing Qantas maintenance workers have warned of escalating industrial action if the company rejects an offer to have a long running dispute arbitrated. The parties were locked in private talks yesterday in the Industrial Relations Commission after more than 3,000 maintenance workers earlier voted to reject Qantas' proposed wage freeze. The national secretary of the Australian Manufacturing and Workers Union (AMWU), Doug Cameron, says the unions have done everything possible to resolve the dispute. \"If Qantas is not prepared to accept private arbitration, there is absolutely no alternative for these workers to take further industrial action, escalate the industrial action if necessary to ensure that they get a fair go from this company who seemed determined to crush them underfoot,\" he said. \n",
      "7 (179, 0.94589084) Qantas has unveiled Australia's latest airline today, launching its single-class \"leisure carrier\", Australian Airlines, which will start operating in the third quarter of next year. Initial flights will be from Cairns to Osaka, Nagoya, Singapore, Taipei, Hong Kong and Fukuoka. The board of Qantas gave the go-ahead for the new airline at a meeting last week. Although wholly owned by Qantas, it will have its own separate management and will operate independently of Qantas. An initial fleet of four Boeing 767-300 aircraft will eventually be increased to 12 and services will be extended to every Australian mainland capital, including Perth and Darwin. Australian Airlines is currently negotiating with various unions on wages, conditions and work practices. Australian Airlines is expected to announce it will base its operations in Cairns, following yesterday's Queensland Cabinet approval of an incentive package for the airline. The new airline plans to cut costs by outsourcing some maintenance work and reducing the number of flight attendants. Chief executive Denis Adams says Australian Airlines will operate at far less cost than Qantas, so that re-opened routes to Asian cities will be profitable. Mr Adams says some maintenance work could be outsourced to Singapore, Taipai or Auckland. He says savings will also be achieved with flexibility in the workplace, including conditions, work rules and rostering. The Queensland Tourism Industry Council's Daniel Gschwind, says the airline will open up new routes from Asia for all international tourists. \"It will give them greater incentive to travel to regional Queensland, travel to the Whitsundays, travel to Brisbane even and further south. \"It will generate enormous traffic through Cairns and it will energise the whole state from an international tourism perspective,\" Mr Gschwind said. \n",
      "8 (203, 0.88212156) Qantas management and unions representing the airline's maintenance workers will meet again today after marathon talks last night failed to resolve a wage dispute. Unions are fighting a proposed 12 to 18 month wage freeze and to secure a better career structure for their 2,500 employees. Bill Shorten of the Australian Workers Union (AWU) says the unions will not rest until a satisfactory outcome is reached. \"After eight hours, the AWU and AMWU are still talking to Qantas, we will resume tomorrow morning at 11am [AEDT] in the Industrial Relations Commission to see if we can't work through this position our members now find ourselves in,\" he said last night. Meanwhile, Ansett workers will sing Christmas carols in front of the Prime Minister's Kirribilli residence in Sydney this morning to remind John Howard about their owed entitlements. The Transport Workers Union (TWU) will hold a 24-hour picket outside Kirribilli House and says about 16,000 workers and their families are facing a bleak Christmas. The News South Wales secretary of the TWU, Tony Sheldon, says the Government promised to deliver about $195 million in entitlements. Mr Sheldon says the financial situation for many workers has reached crisis point. \"There's been very little delivered by this Government, a lot of promises, a lot of noise was made before the federal election but very little in substance. \"It's important John Howard delivers for the tourism community, for the Ansett workers and for the Australian community generally,\" Mr Sheldon said. \n",
      "9 (137, 0.824723) Striking Latrobe Valley power workers will meet today to consider ongoing industrial action. The company, Yallourn Energy, believes Victoria's power supply is under threat. Sixty-five maintenance workers downed tools two weeks ago over job security. Terry Lee from the Australian Workers Union fears up to 200 jobs at the plant are at risk. Mr Lee says the strike action has been timed to avoid power supply interruptions in Victoria. \"The only power that will be interrupted is the power Yallourn Energy would at this time like to be selling into the market,\" he said. But Yallourn Energy mine manager, Lindsay Ward, says all power generation at the plant has been halted and blackouts are possible. Mr Ward admits about 35 jobs at the plant will go when the company modernises its coal mining operations. \n"
     ]
    }
   ],
   "source": [
    "index = similarities.MatrixSimilarity(model[corpus_tfidf])\n",
    "\n",
    "pd_queries = pd.DataFrame({'queries_text': [\"Qantas airline was late today.\"]})\n",
    "# simple test -> must return itself\n",
    "#pd_queries['queries_text'] = data_df['text'].iloc[0]\n",
    "pd_queries['queries_processed'] = processor.transform(pd_queries['queries_text'])\n",
    "pd_queries['queries_tokenized'] = pd_queries['queries_processed'].apply(nltk.word_tokenize)\n",
    "# consider Phraser\n",
    "pd_queries['queries_tokenized'] = bigram[pd_queries['queries_tokenized']]\n",
    "pd_queries['queries_tokenized'] = pd_queries['queries_tokenized'].apply(keep_freq_words)\n",
    "vec_bow = dictionary.doc2bow(pd_queries['queries_tokenized'].iloc[0])\n",
    "vec_lsi = model[vec_bow]\n",
    "\n",
    "sims = index[vec_lsi]  # perform a similarity query against the corpus\n",
    "sims = sorted(enumerate(sims), key=lambda item: -item[1])\n",
    "print(\"Query:\",pd_queries['queries_text'].iloc[0])\n",
    "for i in range(0, 10):\n",
    "    print(i, sims[i], data_df['text'].iloc[sims[i][0]])"
   ]
  },
  {
   "cell_type": "markdown",
   "metadata": {},
   "source": [
    "# LDA\n",
    "\n",
    "Latent Dirichlet Allocation, is an unsupervised generative model that assigns topic distributions to documents.\n",
    "\n",
    "At a high level, the model assumes that each document will contain several topics, so that there is topic overlap within a document. The words in each document contribute to these topics. There can be words overlap between topics, so several topics may share the same words. The topics may not be known and do not need to be specified a priori, but the number of topics must be specified a priori. \n",
    "\n",
    "After training, each document will have a discrete distribution over all topics, and each topic will have a discrete distribution over all words. I.e. the model generates following latent (hidden) variables: \n",
    "- A distribution over topics for each document\n",
    "- A distribution over words for each topics\n",
    "\n",
    "### Hyperparameters\n",
    "\n",
    "LDA has 2 hyperparameters: α and η\n",
    "\n",
    "α: A low value for α means that documents have only a low number of topics contributing to them. A high value of α yields the inverse, meaning the documents appear more alike within a corpus.\n",
    "\n",
    "η: A low value for η means the topics have a low number of contributing words. A high value of η yields the inverse, meaning topics will have word overlap and appear more alike.\n",
    "\n",
    "The values of α and η depend on the application, and may need to be tweaked several times before the desired results are found. [Gensim's implementation](https://radimrehurek.com/gensim/models/ldamodel.html) allows to use `auto` in order to learn an asymmetric prior from the corpus. In addition, there is also a [multicore implementation](https://radimrehurek.com/gensim/models/ldamulticore.html) available.  \n",
    "\n",
    "Please note: LDA is non-deterministic (i.e. parameters are randomly initialised). As a consequence, the outcome from run to run might differ."
   ]
  },
  {
   "cell_type": "markdown",
   "metadata": {},
   "source": [
    "<font color='red'>Please implement the function <b>train_lda</b>. Also have a look above to get an idea of possible options.</font>"
   ]
  },
  {
   "cell_type": "code",
   "execution_count": 19,
   "metadata": {},
   "outputs": [],
   "source": [
    "def train_lda(data, num_topics = 10, alpha='auto', eta='auto'):\n",
    "    \"\"\"\n",
    "    This function trains the lda model\n",
    "    We setup parameters like number of topics\n",
    "    \"\"\"\n",
    "    #chunksize = 300\n",
    "    dictionary = corpora.Dictionary(data)\n",
    "    corpus = [dictionary.doc2bow(doc) for doc in data]\n",
    "    t1 = time.time()\n",
    "    # low alpha means each document is only represented by a small number of topics, and vice versa\n",
    "    # low eta means each topic is only represented by a small number of words, and vice versa\n",
    "    # alpha=1e-2, eta=0.5e-2,\n",
    "    # , per_word_topics=True, , minimum_probability=0.0\n",
    "    chunksize = 20\n",
    "    passes=30\n",
    "    if alpha is 'auto':\n",
    "        lda = LdaModel(alpha=alpha, eta=eta, corpus=corpus, num_topics=num_topics, id2word=dictionary, chunksize=chunksize, passes=passes)\n",
    "    else:\n",
    "        lda = LdaMulticore(alpha=alpha, eta=eta, corpus=corpus, num_topics=num_topics, id2word=dictionary, chunksize=chunksize, passes=passes, workers=6)\n",
    "        \n",
    "    t2 = time.time()\n",
    "    print(\"Time to train a\", num_topics, \"topics LDA model on\", len(data), \"articles:\", (t2-t1)/60, \"min\")\n",
    "    return lda,dictionary,corpus"
   ]
  },
  {
   "cell_type": "markdown",
   "metadata": {},
   "source": [
    "## LDA - Nuber of Topics\n",
    "\n",
    "Lets perform a hyper-parameter tuning in order to find the optimal number of topics. "
   ]
  },
  {
   "cell_type": "code",
   "execution_count": 20,
   "metadata": {},
   "outputs": [
    {
     "name": "stdout",
     "output_type": "stream",
     "text": [
      "Time to train a 2 topics LDA model on 300 articles: 0.06455207268397013 min\n",
      "Time to train a 3 topics LDA model on 300 articles: 0.08222708702087403 min\n",
      "Time to train a 4 topics LDA model on 300 articles: 0.08269790013631186 min\n",
      "Time to train a 5 topics LDA model on 300 articles: 0.08857887188593547 min\n",
      "Time to train a 6 topics LDA model on 300 articles: 0.06810965538024902 min\n",
      "Time to train a 7 topics LDA model on 300 articles: 0.06723330020904542 min\n",
      "Time to train a 8 topics LDA model on 300 articles: 0.06742271979649862 min\n",
      "Time to train a 9 topics LDA model on 300 articles: 0.06802940368652344 min\n",
      "Time to train a 10 topics LDA model on 300 articles: 0.06888451178868611 min\n",
      "Time to train a 11 topics LDA model on 300 articles: 0.06710737943649292 min\n",
      "Time to train a 12 topics LDA model on 300 articles: 0.08825973272323609 min\n",
      "Time to train a 13 topics LDA model on 300 articles: 0.07349321842193604 min\n",
      "Time to train a 14 topics LDA model on 300 articles: 0.07836623191833496 min\n"
     ]
    },
    {
     "data": {
      "image/png": "[encoded data removed]",
      "text/plain": [
       "<Figure size 432x288 with 2 Axes>"
      ]
     },
     "metadata": {
      "needs_background": "light"
     },
     "output_type": "display_data"
    }
   ],
   "source": [
    "start=2\n",
    "limit=15\n",
    "step=1\n",
    "coherences = ['u_mass', 'c_v']\n",
    "# dic of lists\n",
    "coherence_values = {}\n",
    "for coherence in coherences:\n",
    "    coherence_values[coherence] = []\n",
    "model_list = []\n",
    "\n",
    "for num_topics in range(start, limit, step):\n",
    "    model,dictionary,corpus = train_lda(data_df['tokenized'], num_topics = num_topics)\n",
    "    model_list.append((model,dictionary,corpus))\n",
    "    \n",
    "    for coherence in coherences:\n",
    "        coherencemodel = compute_coherence_values(model, coherence)\n",
    "        coherence_values[coherence].append(coherencemodel.get_coherence())\n",
    "    \n",
    "show_coherence_graph(start, limit, step, coherence_values, coherences) "
   ]
  },
  {
   "cell_type": "code",
   "execution_count": 21,
   "metadata": {},
   "outputs": [],
   "source": [
    "best_topic_index = 7\n",
    "model,dictionary,corpus = model_list[best_topic_index]"
   ]
  },
  {
   "cell_type": "markdown",
   "metadata": {},
   "source": [
    "Let's inspect some topics. When we see the words they may seem shortened. This is because of our lemmanized/stemmed the words.\n",
    "\n",
    "Note that if you re run the model again, as it is non-deterministic, word contributions to topics and topic ID's will change."
   ]
  },
  {
   "cell_type": "code",
   "execution_count": 22,
   "metadata": {},
   "outputs": [
    {
     "data": {
      "text/plain": [
       "[(0,\n",
       "  '0.055*\"company\" + 0.034*\"like\" + 0.027*\"right\" + 0.026*\"family\" + 0.025*\"change\"'),\n",
       " (1,\n",
       "  '0.039*\"union\" + 0.034*\"commission\" + 0.023*\"child\" + 0.021*\"party\" + 0.020*\"qantas\"'),\n",
       " (2,\n",
       "  '0.042*\"attack\" + 0.033*\"force\" + 0.029*\"official\" + 0.027*\"group\" + 0.027*\"security\"'),\n",
       " (3,\n",
       "  '0.109*\"palestinian\" + 0.078*\"israeli\" + 0.046*\"arafat\" + 0.030*\"hamas\" + 0.029*\"israel\"'),\n",
       " (4,\n",
       "  '0.041*\"government\" + 0.036*\"australia\" + 0.023*\"afghanistan\" + 0.021*\"taliban\" + 0.018*\"federal\"'),\n",
       " (5,\n",
       "  '0.042*\"australia\" + 0.028*\"metre\" + 0.025*\"test\" + 0.025*\"south\" + 0.024*\"day\"'),\n",
       " (6,\n",
       "  '0.035*\"near\" + 0.034*\"bombing\" + 0.030*\"kandahar\" + 0.027*\"airport\" + 0.022*\"race\"'),\n",
       " (7,\n",
       "  '0.042*\"australian\" + 0.031*\"u\" + 0.027*\"year\" + 0.024*\"new\" + 0.021*\"world\"'),\n",
       " (8,\n",
       "  '0.036*\"city\" + 0.030*\"fire\" + 0.024*\"sydney\" + 0.022*\"around\" + 0.022*\"storm\"')]"
      ]
     },
     "execution_count": 22,
     "metadata": {},
     "output_type": "execute_result"
    }
   ],
   "source": [
    "# show_topics method shows the the top num_words contributing to num_topics number of random topics\n",
    "model.show_topics(num_topics=num_topics, num_words=5)"
   ]
  },
  {
   "cell_type": "code",
   "execution_count": 23,
   "metadata": {},
   "outputs": [
    {
     "data": {
      "text/plain": [
       "[('company', 0.054855514),\n",
       " ('like', 0.034457415),\n",
       " ('right', 0.027046565),\n",
       " ('family', 0.026241047),\n",
       " ('change', 0.025209555),\n",
       " ('guide', 0.021910513),\n",
       " ('human', 0.020951293),\n",
       " ('adventure', 0.02017744),\n",
       " ('case', 0.017778723),\n",
       " ('reserve', 0.016111735),\n",
       " ('growth', 0.01576839),\n",
       " ('level', 0.015229363),\n",
       " ('possible', 0.0150897745),\n",
       " ('administrator', 0.0147122545),\n",
       " ('virus', 0.013660982),\n",
       " ('tomorrow', 0.01330117),\n",
       " ('interlaken', 0.013287692),\n",
       " ('sector', 0.013247095),\n",
       " ('trip', 0.013018504),\n",
       " ('tragedy', 0.012326697)]"
      ]
     },
     "execution_count": 23,
     "metadata": {},
     "output_type": "execute_result"
    }
   ],
   "source": [
    "model.show_topic(topicid=0, topn=20)"
   ]
  },
  {
   "cell_type": "markdown",
   "metadata": {},
   "source": [
    "<font color='red'>What is \"show_topics()\"\" displaying in terms of the variables/approximation that were introduced in the lecture?</font>\n",
    "\n",
    "<font color='green'> In a LDA model, a topic is defined as a distribution over the vocabulary. In the figure above this refers to the $\\lambda_k$/$\\beta_k$ variable and this is displayed by \"show_topics()\". Show_topics allows to specify the number of topics by parameter \"num_topics\" and also the number of words per topic by parameter \"num_topics\". So not the whole vocabulary is displayed but only those with the highest probability under a certain topic</font>"
   ]
  },
  {
   "cell_type": "code",
   "execution_count": 24,
   "metadata": {},
   "outputs": [
    {
     "name": "stdout",
     "output_type": "stream",
     "text": [
      "6 [('near', 0.035177197), ('bombing', 0.03380723), ('kandahar', 0.030278502), ('airport', 0.02692409), ('race', 0.022467477), ('radio', 0.02110409), ('mountain', 0.020621888), ('eight', 0.019871589), ('boat', 0.019832399), ('half', 0.019052222)] \n",
      "\n",
      "3 [('palestinian', 0.10909346), ('israeli', 0.07752224), ('arafat', 0.046135433), ('hamas', 0.029677832), ('israel', 0.029126571), ('rate', 0.026314143), ('sharon', 0.022901118), ('west_bank', 0.022132808), ('arrest', 0.022003017), ('militant', 0.018427063)] \n",
      "\n",
      "5 [('australia', 0.042094164), ('metre', 0.027702577), ('test', 0.024904808), ('south', 0.024533564), ('day', 0.023881605), ('match', 0.0233328), ('second', 0.023059499), ('centre', 0.021417089), ('hit', 0.018963782), ('third', 0.017490832)] \n",
      "\n",
      "4 [('government', 0.04111046), ('australia', 0.03639039), ('afghanistan', 0.022669602), ('taliban', 0.021327345), ('federal', 0.018133765), ('claim', 0.016327586), ('al_qaeda', 0.014739818), ('economy', 0.014000628), ('september', 0.0134613635), ('man', 0.013217308)] \n",
      "\n",
      "0 [('company', 0.054855514), ('like', 0.034457415), ('right', 0.027046565), ('family', 0.026241047), ('change', 0.025209555), ('guide', 0.021910513), ('human', 0.020951293), ('adventure', 0.02017744), ('case', 0.017778723), ('reserve', 0.016111735)] \n",
      "\n"
     ]
    }
   ],
   "source": [
    "bow = dictionary.doc2bow(data_df['tokenized'].iloc[0])\n",
    "# get the topic contributions for the document chosen at random above\n",
    "doc_distribution = np.array([tup[1] for tup in model.get_document_topics(bow=bow)])\n",
    "# print the top 5 contributing topics and their words\n",
    "for i in doc_distribution.argsort()[-5:][::-1]:\n",
    "    print(i, model.show_topic(topicid=i, topn=10), \"\\n\")"
   ]
  },
  {
   "cell_type": "markdown",
   "metadata": {},
   "source": [
    "There is also a human-based evaluation approach. A well known paper that explains it is [this](https://papers.nips.cc/paper/3700-reading-tea-leaves-how-humans-interpret-topic-models). This [one](http://www.aclweb.org/anthology/E14-1056) even tries to automate it."
   ]
  },
  {
   "cell_type": "markdown",
   "metadata": {},
   "source": [
    "<font color='red'>Please explain what word intrusion means.</font>\n",
    "\n",
    "<font color='green'> For the word intrusion tasks a random word is added to the set of top-rated words from a topic. If a human easily detects the added word from the set of top-rated topic words then the topic models fails this test</font>  "
   ]
  },
  {
   "cell_type": "markdown",
   "metadata": {},
   "source": [
    "<font color='red'>Please explain what topic intrusion means.</font>\n",
    "\n",
    "<font color='green'>For the topic intrusion tasks a document snippet and the topics that are highest ranked by the topic model algorithm for that document are presented to a human. In addition, a low ranked topic is added that does not belong to the set of highest ranked topic for that document. The subject is instructed to choose the topic which does not belong to the document. If a human easily detects the added topic then the topic models fails this test</font>  "
   ]
  },
  {
   "cell_type": "markdown",
   "metadata": {},
   "source": [
    "<font color='red'>Do you find the result (found topics) useful? Do you think you got an idea what the texts are discussing? Please make a comment.</font>\n",
    "\n",
    "<font color='green'>This is a very open question so there are no clear true or false answers. But it is certainly not easy from these outputs to make any clear interpretation of the main topics being discussed. One aspect is that very generic words rank quite high like \"one\" or \"much\" or \"ever\" that are not really helpful here.</font>"
   ]
  },
  {
   "cell_type": "markdown",
   "metadata": {},
   "source": [
    "pyLDAVis is a nice way to visualise the information contained in a topic model."
   ]
  },
  {
   "cell_type": "code",
   "execution_count": 25,
   "metadata": {},
   "outputs": [
    {
     "data": {
      "text/html": [
       "\n",
       "<link rel=\"stylesheet\" type=\"text/css\" href=\"https://cdn.rawgit.com/bmabey/pyLDAvis/files/ldavis.v1.0.0.css\">\n",
       "\n",
       "\n",
       "<div id=\"ldavis_el141404537650044081209642283\"></div>\n",
       "<script type=\"text/javascript\">\n",
       "\n",
       "var ldavis_el141404537650044081209642283_data = {\"mdsDat\": {\"x\": [-0.232481951566243, 0.11848378928723315, -0.03831280439588267, -0.1631255791026268, 0.2674840900711345, -0.17797837235228187, 0.049157165112072805, 0.03835930562463025, 0.1384143573219639], \"y\": [0.21058066249442323, -0.10877394986738499, -0.3106370775564914, -0.1264143908739256, 0.1448149935338222, 0.10197836086369384, -0.0038651767861135823, 0.038502283573610914, 0.05381429461836522], \"topics\": [1, 2, 3, 4, 5, 6, 7, 8, 9], \"cluster\": [1, 1, 1, 1, 1, 1, 1, 1, 1], \"Freq\": [23.847787857055664, 15.339815139770508, 14.58618450164795, 10.019035339355469, 9.250775337219238, 9.026424407958984, 7.789956569671631, 5.316043853759766, 4.823972225189209]}, \"tinfo\": {\"Term\": [\"palestinian\", \"israeli\", \"australian\", \"australia\", \"attack\", \"government\", \"company\", \"u\", \"arafat\", \"force\", \"year\", \"new\", \"union\", \"city\", \"official\", \"group\", \"security\", \"commission\", \"day\", \"world\", \"fire\", \"metre\", \"near\", \"hamas\", \"afghanistan\", \"suicide\", \"told\", \"israel\", \"taliban\", \"area\", \"australian\", \"u\", \"year\", \"world\", \"told\", \"leader\", \"report\", \"month\", \"number\", \"per_cent\", \"think\", \"team\", \"next\", \"action\", \"end\", \"job\", \"way\", \"set\", \"staff\", \"director\", \"need\", \"good\", \"interest\", \"plan\", \"chief\", \"win\", \"million\", \"melbourne\", \"economic\", \"six\", \"could\", \"time\", \"last\", \"would\", \"new\", \"three\", \"today\", \"people\", \"day\", \"two\", \"one\", \"attack\", \"force\", \"official\", \"group\", \"security\", \"suicide\", \"afghan\", \"military\", \"india\", \"war\", \"foreign\", \"troop\", \"terrorist\", \"interim\", \"nation\", \"terrorism\", \"yasser_arafat\", \"dead\", \"shot\", \"peace\", \"source\", \"indian\", \"operation\", \"administration\", \"december\", \"special\", \"eastern\", \"raid\", \"united\", \"return\", \"president\", \"international\", \"strike\", \"united_state\", \"prime_minister\", \"since\", \"minister\", \"police\", \"government\", \"meeting\", \"taliban\", \"federal\", \"claim\", \"al_qaeda\", \"economy\", \"september\", \"fighter\", \"laden\", \"defence\", \"bin_laden\", \"osama_bin\", \"left\", \"head\", \"public\", \"life\", \"law\", \"market\", \"opposition\", \"network\", \"tora_bora\", \"weekend\", \"island\", \"must\", \"station\", \"future\", \"pentagon\", \"labor\", \"bush\", \"stage\", \"cost\", \"government\", \"afghanistan\", \"power\", \"national\", \"australia\", \"man\", \"local\", \"process\", \"minister\", \"state\", \"people\", \"area\", \"city\", \"fire\", \"storm\", \"cut\", \"south_wale\", \"building\", \"emergency\", \"north\", \"harrison\", \"low\", \"high\", \"s\", \"mean\", \"aircraft\", \"inquiry\", \"wind\", \"continue\", \"activity\", \"drop\", \"aedt\", \"overnight\", \"bureau\", \"concern\", \"fall\", \"resident\", \"structure\", \"crowd\", \"suburb\", \"term\", \"significant\", \"royal\", \"sydney\", \"morning\", \"around\", \"area\", \"hospital\", \"police\", \"home\", \"state\", \"service\", \"new\", \"part\", \"people\", \"one\", \"today\", \"union\", \"commission\", \"party\", \"qantas\", \"bank\", \"court\", \"several\", \"found\", \"issue\", \"worker\", \"whether\", \"pay\", \"george\", \"hih\", \"industry\", \"monday\", \"hearing\", \"statement\", \"held\", \"travel\", \"collapse\", \"justice\", \"m\", \"heard\", \"ansett\", \"region\", \"dispute\", \"employee\", \"financial\", \"1,000\", \"child\", \"airline\", \"company\", \"meeting\", \"member\", \"call\", \"metre\", \"test\", \"match\", \"second\", \"centre\", \"hit\", \"third\", \"tree\", \"damage\", \"every\", \"injured\", \"house\", \"final\", \"person\", \"adelaide\", \"africa\", \"series\", \"rafter\", \"cricket\", \"victory\", \"thousand\", \"hope\", \"break\", \"point\", \"queensland\", \"much\", \"afp\", \"captain\", \"due\", \"volunteer\", \"south\", \"australia\", \"night\", \"day\", \"four\", \"yesterday\", \"one\", \"palestinian\", \"israeli\", \"arafat\", \"hamas\", \"israel\", \"rate\", \"sharon\", \"west_bank\", \"arrest\", \"gaza\", \"islamic\", \"gaza_strip\", \"town\", \"show\", \"helicopter\", \"army\", \"disease\", \"target\", \"boy\", \"northern\", \"territory\", \"islamic_jihad\", \"anything\", \"ariel_sharon\", \"middle_east\", \"french\", \"bomber\", \"civilian\", \"remain\", \"act\", \"militant\", \"death\", \"authority\", \"two\", \"call\", \"air\", \"bombing\", \"kandahar\", \"airport\", \"race\", \"radio\", \"boat\", \"half\", \"board\", \"plane\", \"behind\", \"space\", \"attempt\", \"militia\", \"document\", \"although\", \"sign\", \"planning\", \"blake\", \"surrender\", \"ground\", \"stop\", \"winner\", \"5,000\", \"rival\", \"nine\", \"weapon\", \"tourist\", \"tape\", \"heavy\", \"pilot\", \"crew\", \"near\", \"mountain\", \"eight\", \"hour\", \"member\", \"commander\", \"man\", \"four\", \"like\", \"right\", \"family\", \"change\", \"guide\", \"human\", \"adventure\", \"case\", \"reserve\", \"growth\", \"level\", \"administrator\", \"virus\", \"interlaken\", \"sector\", \"trip\", \"tragedy\", \"review\", \"business\", \"research\", \"something\", \"money\", \"river_gorge\", \"old\", \"industrial\", \"whole\", \"doctor\", \"rise\", \"technology\", \"virgin\", \"company\", \"possible\", \"tomorrow\", \"weather\", \"water\", \"place\"], \"Freq\": [160.0, 114.0, 187.0, 171.0, 122.0, 156.0, 82.0, 138.0, 68.0, 94.0, 121.0, 147.0, 67.0, 68.0, 84.0, 77.0, 77.0, 59.0, 115.0, 96.0, 57.0, 47.0, 45.0, 44.0, 84.0, 61.0, 83.0, 43.0, 59.0, 68.0, 187.1507568359375, 137.4501190185547, 120.65309143066406, 95.98091888427734, 82.18514251708984, 77.16987609863281, 76.1531753540039, 57.5, 54.805015563964844, 52.805484771728516, 50.264339447021484, 47.41710662841797, 46.46888732910156, 40.29112243652344, 38.198184967041016, 37.49955368041992, 37.066131591796875, 36.56769561767578, 36.44332504272461, 31.940704345703125, 31.682159423828125, 31.359792709350586, 31.141931533813477, 30.33549690246582, 30.12084197998047, 27.990095138549805, 27.333234786987305, 26.660480499267578, 26.373876571655273, 25.69573974609375, 76.60736083984375, 75.29369354248047, 82.7947998046875, 94.68354034423828, 106.83736419677734, 63.36860656738281, 52.41040802001953, 83.80818939208984, 68.71089172363281, 49.403724670410156, 43.677635192871094, 121.5067138671875, 93.9358901977539, 83.23689270019531, 77.13306427001953, 77.10346221923828, 60.61030960083008, 50.150936126708984, 38.10393524169922, 35.19601821899414, 35.086673736572266, 33.32574462890625, 33.0857048034668, 30.001516342163086, 28.95455551147461, 28.291950225830078, 27.679933547973633, 27.557706832885742, 27.289621353149414, 26.27308464050293, 24.897029876708984, 24.215709686279297, 23.70205307006836, 23.620149612426758, 23.434993743896484, 21.858362197875977, 21.26184844970703, 19.68732261657715, 19.46598243713379, 18.486764907836914, 18.223127365112305, 52.609130859375, 35.84697723388672, 28.96804428100586, 47.73552703857422, 26.57709503173828, 32.105289459228516, 36.71302032470703, 35.175418853759766, 43.35298156738281, 28.287109375, 58.328346252441406, 49.59419631958008, 44.65446090698242, 40.31206130981445, 38.290443420410156, 36.81560516357422, 34.11410903930664, 32.174041748046875, 31.98149871826172, 31.553462982177734, 30.695728302001953, 29.973670959472656, 29.308019638061523, 27.722776412963867, 26.748870849609375, 25.584184646606445, 25.212732315063477, 25.06243324279785, 24.835084915161133, 23.772850036621094, 23.623104095458984, 21.4971923828125, 20.665924072265625, 20.44428825378418, 20.332916259765625, 20.26872444152832, 20.219417572021484, 19.985132217407227, 19.709434509277344, 19.298049926757812, 112.43336486816406, 61.999298095703125, 33.019676208496094, 35.13578796386719, 99.52439880371094, 36.14813232421875, 27.850919723510742, 24.49049949645996, 34.390159606933594, 29.581279754638672, 34.79606246948242, 26.55728530883789, 67.86937713623047, 56.41424560546875, 41.492919921875, 38.29210662841797, 36.831119537353516, 33.59371566772461, 30.92121124267578, 30.3553524017334, 27.700984954833984, 24.291337966918945, 24.00786018371582, 21.835914611816406, 20.896312713623047, 17.059282302856445, 16.720476150512695, 15.7367582321167, 15.589517593383789, 14.0184965133667, 13.426504135131836, 12.987166404724121, 12.825128555297852, 12.812976837158203, 12.257627487182617, 12.123276710510254, 11.988120079040527, 11.904170036315918, 11.416232109069824, 11.236283302307129, 10.558905601501465, 10.473166465759277, 36.5190315246582, 44.605777740478516, 36.12406921386719, 41.64890670776367, 41.04689025878906, 19.26708984375, 37.103660583496094, 21.380023956298828, 31.599925994873047, 25.130125045776367, 39.71033477783203, 19.51788902282715, 27.8118953704834, 21.32721519470215, 18.567302703857422, 67.07622528076172, 58.36715316772461, 36.825843811035156, 34.663700103759766, 32.471744537353516, 31.33502197265625, 30.242977142333984, 30.047019958496094, 29.5687198638916, 27.44629669189453, 26.94523811340332, 25.69692611694336, 24.118736267089844, 23.97955322265625, 21.762529373168945, 21.283899307250977, 20.376840591430664, 20.14224624633789, 19.025232315063477, 18.8291015625, 18.57596206665039, 15.874917984008789, 15.793389320373535, 15.282800674438477, 14.614166259765625, 14.533235549926758, 14.390783309936523, 13.816890716552734, 13.77492904663086, 13.406697273254395, 40.11333465576172, 22.40512466430664, 32.598854064941406, 25.96269416809082, 20.826765060424805, 16.113258361816406, 46.885345458984375, 42.150245666503906, 39.48969650268555, 39.02714538574219, 36.24744415283203, 32.095333099365234, 29.602432250976562, 26.335603713989258, 26.23971176147461, 25.83217430114746, 25.104816436767578, 23.253662109375, 23.172880172729492, 19.902284622192383, 19.50091552734375, 18.532691955566406, 17.34566307067871, 17.2074031829834, 16.991697311401367, 16.87691879272461, 16.767545700073242, 16.598430633544922, 16.221147537231445, 16.198423385620117, 15.488005638122559, 15.338268280029297, 15.293961524963379, 14.807411193847656, 14.795565605163574, 14.152606010437012, 41.521934509277344, 71.24244689941406, 28.400611877441406, 40.418521881103516, 25.291015625, 21.993534088134766, 25.897830963134766, 159.34371948242188, 113.23027038574219, 67.38617706298828, 43.34793472290039, 42.54275131225586, 38.43487548828125, 33.44975280761719, 32.327545166015625, 32.13797378540039, 25.293060302734375, 23.10797691345215, 21.39055633544922, 21.015487670898438, 20.496315002441406, 19.313629150390625, 17.70833396911621, 17.00687599182129, 16.680099487304688, 15.25645637512207, 15.151126861572266, 14.76131534576416, 14.31543254852295, 13.889302253723145, 13.148477554321289, 12.978501319885254, 12.410958290100098, 12.037684440612793, 11.991175651550293, 11.6669282913208, 11.265807151794434, 26.914873123168945, 18.21196937561035, 21.093830108642578, 22.19294548034668, 14.492186546325684, 14.225760459899902, 33.697628021240234, 30.180341720581055, 26.836803436279297, 22.394638061523438, 21.03567123413086, 19.768102645874023, 18.990455627441406, 18.683462142944336, 18.015329360961914, 17.397624969482422, 17.05234718322754, 15.401302337646484, 14.448586463928223, 14.189515113830566, 13.344654083251953, 12.829521179199219, 12.669164657592773, 12.517274856567383, 12.274867057800293, 11.986041069030762, 11.619187355041504, 11.515210151672363, 10.687348365783691, 10.516995429992676, 10.20620059967041, 10.026973724365234, 9.828296661376953, 9.1927490234375, 9.08023452758789, 8.748335838317871, 18.922399520874023, 35.06315612792969, 20.55503273010254, 19.807167053222656, 18.74787712097168, 18.62959098815918, 11.905974388122559, 14.827823638916016, 13.53451919555664, 31.166549682617188, 24.463476181030273, 23.73488998413086, 22.801910400390625, 19.817943572998047, 18.950334548950195, 18.250389099121094, 16.080760955810547, 14.572979927062988, 14.262425422668457, 13.77487850189209, 13.307156562805176, 12.356287002563477, 12.018648147583008, 11.981927871704102, 11.775168418884277, 11.149433135986328, 10.754819869995117, 10.595847129821777, 10.27871322631836, 9.942489624023438, 9.739234924316406, 9.408409118652344, 9.350479125976562, 9.332293510437012, 9.196945190429688, 8.618446350097656, 8.560304641723633, 8.523914337158203, 8.430516242980957, 49.61652374267578, 13.648621559143066, 12.030838966369629, 9.761194229125977, 10.027859687805176, 9.406039237976074], \"Total\": [160.0, 114.0, 187.0, 171.0, 122.0, 156.0, 82.0, 138.0, 68.0, 94.0, 121.0, 147.0, 67.0, 68.0, 84.0, 77.0, 77.0, 59.0, 115.0, 96.0, 57.0, 47.0, 45.0, 44.0, 84.0, 61.0, 83.0, 43.0, 59.0, 68.0, 187.98558044433594, 138.2851104736328, 121.48780822753906, 96.81572723388672, 83.02017211914062, 78.00504302978516, 76.98808288574219, 58.334747314453125, 55.63983917236328, 53.640220642089844, 51.09908676147461, 48.25209426879883, 47.304927825927734, 41.12590026855469, 39.03314208984375, 38.334571838378906, 37.90095520019531, 37.402469635009766, 37.27809524536133, 32.775352478027344, 32.51689529418945, 32.19443130493164, 31.976930618286133, 31.17031478881836, 30.955968856811523, 28.825132369995117, 28.16831398010254, 27.495243072509766, 27.208786010742188, 26.530420303344727, 81.1464614868164, 81.17521667480469, 95.29468536376953, 110.50507354736328, 147.25759887695312, 85.7459487915039, 74.0483627319336, 158.96351623535156, 115.9603500366211, 121.73924255371094, 107.34068298339844, 122.33936309814453, 94.76853942871094, 84.06967163085938, 77.9659194946289, 77.93611145019531, 61.442955017089844, 50.98345184326172, 38.93648147583008, 36.02870559692383, 35.919189453125, 34.158321380615234, 33.9183349609375, 30.834169387817383, 29.786991119384766, 29.124601364135742, 28.512550354003906, 28.390283584594727, 28.122678756713867, 27.106496810913086, 25.729446411132812, 25.048402786254883, 24.53458023071289, 24.45290184020996, 24.26784324645996, 22.692140579223633, 22.09471321105957, 20.520105361938477, 20.29871940612793, 19.319652557373047, 19.056032180786133, 59.96360397338867, 43.91440963745117, 34.320472717285156, 67.69095611572266, 30.7524356842041, 41.30815505981445, 71.8272476196289, 77.25345611572266, 156.51040649414062, 54.98493576049805, 59.160247802734375, 50.42618179321289, 45.48664474487305, 41.14384460449219, 39.12282943725586, 37.647621154785156, 34.946224212646484, 33.00591278076172, 32.81348419189453, 32.385250091552734, 31.527585983276367, 30.805950164794922, 30.140649795532227, 28.555797576904297, 27.58127212524414, 26.416332244873047, 26.045278549194336, 25.8945255279541, 25.667343139648438, 24.604639053344727, 24.456256866455078, 22.329145431518555, 21.498306274414062, 21.277549743652344, 21.16560935974121, 21.10065460205078, 21.05132293701172, 20.817855834960938, 20.542421340942383, 20.130464553833008, 156.51040649414062, 84.2047119140625, 38.96391296386719, 42.35210418701172, 171.490234375, 51.701904296875, 40.12225341796875, 31.427160263061523, 71.8272476196289, 72.95722961425781, 158.96351623535156, 68.31134796142578, 68.6861572265625, 57.22999954223633, 42.30868148803711, 39.10841751098633, 37.646873474121094, 34.40976333618164, 31.73763656616211, 31.171478271484375, 28.516931533813477, 25.10744285583496, 24.8239803314209, 22.651647567749023, 21.71320152282715, 17.875150680541992, 17.53666114807129, 16.55231475830078, 16.406457901000977, 14.835041046142578, 14.242557525634766, 13.803174018859863, 13.640737533569336, 13.628623962402344, 13.073857307434082, 12.939716339111328, 12.80437183380127, 12.72082233428955, 12.232996940612793, 12.052109718322754, 11.374707221984863, 11.289453506469727, 41.936737060546875, 58.55686950683594, 52.852867126464844, 66.11141204833984, 68.31134796142578, 24.67202377319336, 77.25345611572266, 34.41764831542969, 72.95722961425781, 51.769371032714844, 147.25759887695312, 42.537967681884766, 158.96351623535156, 107.34068298339844, 74.0483627319336, 67.91917419433594, 59.210086822509766, 37.66917037963867, 35.50650405883789, 33.315269470214844, 32.1788444519043, 31.08692741394043, 30.890653610229492, 30.41183853149414, 28.28920555114746, 27.788604736328125, 26.539960861206055, 24.962644577026367, 24.82244873046875, 22.605592727661133, 22.12865447998047, 21.219970703125, 20.985681533813477, 19.868886947631836, 19.673385620117188, 19.4191837310791, 16.718130111694336, 16.63692283630371, 16.12625503540039, 15.457316398620605, 15.376753807067871, 15.233710289001465, 14.660052299499512, 14.618099212646484, 14.25147533416748, 45.106483459472656, 27.030746459960938, 82.97312927246094, 54.98493576049805, 48.64679718017578, 31.353557586669922, 47.717288970947266, 42.98185729980469, 40.32148742675781, 39.859249114990234, 37.079586029052734, 32.927757263183594, 30.434688568115234, 27.1678524017334, 27.072078704833984, 26.666099548339844, 25.93765640258789, 24.086217880249023, 24.004737854003906, 20.735042572021484, 20.33292007446289, 19.364273071289062, 18.178264617919922, 18.040708541870117, 17.823305130004883, 17.708717346191406, 17.59996795654297, 17.431686401367188, 17.053844451904297, 17.031024932861328, 16.31980323791504, 16.170175552368164, 16.126811981201172, 15.639772415161133, 15.628361701965332, 14.986001014709473, 58.62812805175781, 171.490234375, 43.81344223022461, 115.9603500366211, 59.19944763183594, 50.2993049621582, 107.34068298339844, 160.18858337402344, 114.07516479492188, 68.23104095458984, 44.19282150268555, 43.387611389160156, 39.28037643432617, 34.294708251953125, 33.172420501708984, 32.98302459716797, 26.13796043395996, 23.953296661376953, 22.235458374023438, 21.860883712768555, 21.342121124267578, 20.15860939025879, 18.55342674255371, 17.85248565673828, 17.525379180908203, 16.10181427001953, 15.997650146484375, 15.606799125671387, 15.16045093536377, 14.736579895019531, 13.993377685546875, 13.823441505432129, 13.257795333862305, 12.882824897766113, 12.840132713317871, 12.512516021728516, 12.111878395080566, 43.32283020019531, 28.857402801513672, 68.59127807617188, 121.73924255371094, 31.353557586669922, 34.80353546142578, 34.53255081176758, 31.014957427978516, 27.671985626220703, 23.22909164428711, 21.870370864868164, 20.60264015197754, 19.82583236694336, 19.518524169921875, 18.84992027282715, 18.23278045654297, 17.886768341064453, 16.236095428466797, 15.283089637756348, 15.025248527526855, 14.179916381835938, 13.664667129516602, 13.503966331481934, 13.351761817932129, 13.109380722045898, 12.820965766906738, 12.453781127929688, 12.34997844696045, 11.522513389587402, 11.353536605834961, 11.041089057922363, 10.861422538757324, 10.663116455078125, 10.02734375, 9.915104866027832, 9.582921028137207, 22.526212692260742, 45.12162399291992, 29.821449279785156, 29.75428009033203, 42.222415924072266, 48.64679718017578, 19.157102584838867, 51.701904296875, 59.19944763183594, 32.02232360839844, 25.318981170654297, 24.590435028076172, 23.657394409179688, 20.673105239868164, 19.805866241455078, 19.10555076599121, 16.9365177154541, 15.428608894348145, 15.118180274963379, 14.630387306213379, 14.16266918182373, 13.211455345153809, 12.873784065246582, 12.837172508239746, 12.630606651306152, 12.005141258239746, 11.610559463500977, 11.45198917388916, 11.134197235107422, 10.798627853393555, 10.594779014587402, 10.26360034942627, 10.205994606018066, 10.187816619873047, 10.053299903869629, 9.475419044494629, 9.415914535522461, 9.379059791564941, 9.286174774169922, 82.97312927246094, 18.755966186523438, 20.100688934326172, 19.078231811523438, 24.01544189453125, 33.2180061340332], \"Category\": [\"Default\", \"Default\", \"Default\", \"Default\", \"Default\", \"Default\", \"Default\", \"Default\", \"Default\", \"Default\", \"Default\", \"Default\", \"Default\", \"Default\", \"Default\", \"Default\", \"Default\", \"Default\", \"Default\", \"Default\", \"Default\", \"Default\", \"Default\", \"Default\", \"Default\", \"Default\", \"Default\", \"Default\", \"Default\", \"Default\", \"Topic1\", \"Topic1\", \"Topic1\", \"Topic1\", \"Topic1\", \"Topic1\", \"Topic1\", \"Topic1\", \"Topic1\", \"Topic1\", \"Topic1\", \"Topic1\", \"Topic1\", \"Topic1\", \"Topic1\", \"Topic1\", \"Topic1\", \"Topic1\", \"Topic1\", \"Topic1\", \"Topic1\", \"Topic1\", \"Topic1\", \"Topic1\", \"Topic1\", \"Topic1\", \"Topic1\", \"Topic1\", \"Topic1\", \"Topic1\", \"Topic1\", \"Topic1\", \"Topic1\", \"Topic1\", \"Topic1\", \"Topic1\", \"Topic1\", \"Topic1\", \"Topic1\", \"Topic1\", \"Topic1\", \"Topic2\", \"Topic2\", \"Topic2\", \"Topic2\", \"Topic2\", \"Topic2\", \"Topic2\", \"Topic2\", \"Topic2\", \"Topic2\", \"Topic2\", \"Topic2\", \"Topic2\", \"Topic2\", \"Topic2\", \"Topic2\", \"Topic2\", \"Topic2\", \"Topic2\", \"Topic2\", \"Topic2\", \"Topic2\", \"Topic2\", \"Topic2\", \"Topic2\", \"Topic2\", \"Topic2\", \"Topic2\", \"Topic2\", \"Topic2\", \"Topic2\", \"Topic2\", \"Topic2\", \"Topic2\", \"Topic2\", \"Topic2\", \"Topic2\", \"Topic2\", \"Topic2\", \"Topic2\", \"Topic3\", \"Topic3\", \"Topic3\", \"Topic3\", \"Topic3\", \"Topic3\", \"Topic3\", \"Topic3\", \"Topic3\", \"Topic3\", \"Topic3\", \"Topic3\", \"Topic3\", \"Topic3\", \"Topic3\", \"Topic3\", \"Topic3\", \"Topic3\", \"Topic3\", \"Topic3\", \"Topic3\", \"Topic3\", \"Topic3\", \"Topic3\", \"Topic3\", \"Topic3\", \"Topic3\", \"Topic3\", \"Topic3\", \"Topic3\", \"Topic3\", \"Topic3\", \"Topic3\", \"Topic3\", \"Topic3\", \"Topic3\", \"Topic3\", \"Topic3\", \"Topic3\", \"Topic3\", \"Topic3\", \"Topic3\", \"Topic4\", \"Topic4\", \"Topic4\", \"Topic4\", \"Topic4\", \"Topic4\", \"Topic4\", \"Topic4\", \"Topic4\", \"Topic4\", \"Topic4\", \"Topic4\", \"Topic4\", \"Topic4\", \"Topic4\", \"Topic4\", \"Topic4\", \"Topic4\", \"Topic4\", \"Topic4\", \"Topic4\", \"Topic4\", \"Topic4\", \"Topic4\", \"Topic4\", \"Topic4\", \"Topic4\", \"Topic4\", \"Topic4\", \"Topic4\", \"Topic4\", \"Topic4\", \"Topic4\", \"Topic4\", \"Topic4\", \"Topic4\", \"Topic4\", \"Topic4\", \"Topic4\", \"Topic4\", \"Topic4\", \"Topic4\", \"Topic4\", \"Topic4\", \"Topic4\", \"Topic5\", \"Topic5\", \"Topic5\", \"Topic5\", \"Topic5\", \"Topic5\", \"Topic5\", \"Topic5\", \"Topic5\", \"Topic5\", \"Topic5\", \"Topic5\", \"Topic5\", \"Topic5\", \"Topic5\", \"Topic5\", \"Topic5\", \"Topic5\", \"Topic5\", \"Topic5\", \"Topic5\", \"Topic5\", \"Topic5\", \"Topic5\", \"Topic5\", \"Topic5\", \"Topic5\", \"Topic5\", \"Topic5\", \"Topic5\", \"Topic5\", \"Topic5\", \"Topic5\", \"Topic5\", \"Topic5\", \"Topic5\", \"Topic6\", \"Topic6\", \"Topic6\", \"Topic6\", \"Topic6\", \"Topic6\", \"Topic6\", \"Topic6\", \"Topic6\", \"Topic6\", \"Topic6\", \"Topic6\", \"Topic6\", \"Topic6\", \"Topic6\", \"Topic6\", \"Topic6\", \"Topic6\", \"Topic6\", \"Topic6\", \"Topic6\", \"Topic6\", \"Topic6\", \"Topic6\", \"Topic6\", \"Topic6\", \"Topic6\", \"Topic6\", \"Topic6\", \"Topic6\", \"Topic6\", \"Topic6\", \"Topic6\", \"Topic6\", \"Topic6\", \"Topic6\", \"Topic6\", \"Topic7\", \"Topic7\", \"Topic7\", \"Topic7\", \"Topic7\", \"Topic7\", \"Topic7\", \"Topic7\", \"Topic7\", \"Topic7\", \"Topic7\", \"Topic7\", \"Topic7\", \"Topic7\", \"Topic7\", \"Topic7\", \"Topic7\", \"Topic7\", \"Topic7\", \"Topic7\", \"Topic7\", \"Topic7\", \"Topic7\", \"Topic7\", \"Topic7\", \"Topic7\", \"Topic7\", \"Topic7\", \"Topic7\", \"Topic7\", \"Topic7\", \"Topic7\", \"Topic7\", \"Topic7\", \"Topic7\", \"Topic7\", \"Topic8\", \"Topic8\", \"Topic8\", \"Topic8\", \"Topic8\", \"Topic8\", \"Topic8\", \"Topic8\", \"Topic8\", \"Topic8\", \"Topic8\", \"Topic8\", \"Topic8\", \"Topic8\", \"Topic8\", \"Topic8\", \"Topic8\", \"Topic8\", \"Topic8\", \"Topic8\", \"Topic8\", \"Topic8\", \"Topic8\", \"Topic8\", \"Topic8\", \"Topic8\", \"Topic8\", \"Topic8\", \"Topic8\", \"Topic8\", \"Topic8\", \"Topic8\", \"Topic8\", \"Topic8\", \"Topic8\", \"Topic8\", \"Topic8\", \"Topic8\", \"Topic8\", \"Topic9\", \"Topic9\", \"Topic9\", \"Topic9\", \"Topic9\", \"Topic9\", \"Topic9\", \"Topic9\", \"Topic9\", \"Topic9\", \"Topic9\", \"Topic9\", \"Topic9\", \"Topic9\", \"Topic9\", \"Topic9\", \"Topic9\", \"Topic9\", \"Topic9\", \"Topic9\", \"Topic9\", \"Topic9\", \"Topic9\", \"Topic9\", \"Topic9\", \"Topic9\", \"Topic9\", \"Topic9\", \"Topic9\", \"Topic9\", \"Topic9\", \"Topic9\", \"Topic9\", \"Topic9\", \"Topic9\", \"Topic9\"], \"logprob\": [30.0, 29.0, 28.0, 27.0, 26.0, 25.0, 24.0, 23.0, 22.0, 21.0, 20.0, 19.0, 18.0, 17.0, 16.0, 15.0, 14.0, 13.0, 12.0, 11.0, 10.0, 9.0, 8.0, 7.0, 6.0, 5.0, 4.0, 3.0, 2.0, 1.0, -3.1735999584198, -3.4821999073028564, -3.612600088119507, -3.8413000106811523, -3.996500015258789, -4.059500217437744, -4.072700023651123, -4.353700160980225, -4.401700019836426, -4.438899993896484, -4.4882001876831055, -4.546500205993652, -4.566699981689453, -4.7093000411987305, -4.762700080871582, -4.781099796295166, -4.792799949645996, -4.806300163269043, -4.809700012207031, -4.9415998458862305, -4.949699878692627, -4.95989990234375, -4.966899871826172, -4.993199825286865, -5.00029993057251, -5.073599815368652, -5.097400188446045, -5.122300148010254, -5.1331000328063965, -5.15910005569458, -4.066800117492676, -4.084099769592285, -3.9890999794006348, -3.8548998832702637, -3.7342000007629395, -4.256499767303467, -4.446400165557861, -3.976900100708008, -4.175600051879883, -4.50540018081665, -4.628600120544434, -3.164299964904785, -3.421600103378296, -3.5425000190734863, -3.6187000274658203, -3.6191000938415527, -3.859800100326538, -4.049200057983398, -4.32390022277832, -4.403299808502197, -4.406400203704834, -4.457900047302246, -4.465099811553955, -4.563000202178955, -4.598499774932861, -4.621699810028076, -4.643499851226807, -4.647900104522705, -4.657700061798096, -4.695700168609619, -4.749499797821045, -4.777200222015381, -4.798699855804443, -4.80210018157959, -4.809999942779541, -4.8796000480651855, -4.907299995422363, -4.984300136566162, -4.99560022354126, -5.0472002029418945, -5.061500072479248, -4.001299858093262, -4.385000228881836, -4.5980000495910645, -4.098599910736084, -4.684199810028076, -4.495200157165527, -4.361100196838379, -4.403900146484375, -4.194900035858154, -4.621799945831299, -3.8478000164031982, -4.010000228881836, -4.1149001121521, -4.217199802398682, -4.268700122833252, -4.3078999519348145, -4.384099960327148, -4.442699909210205, -4.448699951171875, -4.462200164794922, -4.489699840545654, -4.513500213623047, -4.535999774932861, -4.591599941253662, -4.627399921417236, -4.671899795532227, -4.686500072479248, -4.692500114440918, -4.701600074768066, -4.745299816131592, -4.7515997886657715, -4.845900058746338, -4.88539981842041, -4.896200180053711, -4.901599884033203, -4.904799938201904, -4.907199859619141, -4.918900012969971, -4.932799816131592, -4.953800201416016, -3.191499948501587, -3.7867000102996826, -4.416800022125244, -4.354599952697754, -3.313499927520752, -4.326200008392334, -4.586999893188477, -4.71560001373291, -4.376100063323975, -4.526700019836426, -4.364299774169922, -4.634500026702881, -3.32069993019104, -3.505500078201294, -3.812700033187866, -3.8929998874664307, -3.9319000244140625, -4.023900032043457, -4.106800079345703, -4.12529993057251, -4.216800212860107, -4.348100185394287, -4.359899997711182, -4.454699993133545, -4.498700141906738, -4.701600074768066, -4.72160005569458, -4.782299995422363, -4.7916998863220215, -4.897900104522705, -4.940999984741211, -4.974299907684326, -4.9868998527526855, -4.987800121307373, -5.032100200653076, -5.043099880218506, -5.054299831390381, -5.061399936676025, -5.1031999588012695, -5.119100093841553, -5.181300163269043, -5.1894001960754395, -3.9403998851776123, -3.7404000759124756, -3.9512999057769775, -3.809000015258789, -3.8236000537872314, -4.579899787902832, -3.9245998859405518, -4.475800037384033, -4.085100173950195, -4.314199924468994, -3.8566999435424805, -4.56689977645874, -4.212800025939941, -4.478300094604492, -4.6168999671936035, -3.252700090408325, -3.391700029373169, -3.852299928665161, -3.9128000736236572, -3.978100061416626, -4.013700008392334, -4.049200057983398, -4.055699825286865, -4.071800231933594, -4.146299839019775, -4.164700031280518, -4.212100028991699, -4.2754998207092285, -4.281300067901611, -4.378300189971924, -4.4004998207092285, -4.4440999031066895, -4.455699920654297, -4.512700080871582, -4.523099899291992, -4.536600112915039, -4.693699836730957, -4.69890022277832, -4.731800079345703, -4.776500225067139, -4.7820000648498535, -4.791900157928467, -4.832600116729736, -4.835599899291992, -4.86269998550415, -3.7667999267578125, -4.3491997718811035, -3.9742000102996826, -4.2017998695373535, -4.4222002029418945, -4.678800106048584, -3.586199998855591, -3.692699909210205, -3.7578999996185303, -3.769700050354004, -3.843600034713745, -3.9651999473571777, -4.04610013961792, -4.163000106811523, -4.1666998863220215, -4.182300090789795, -4.210899829864502, -4.287499904632568, -4.290999889373779, -4.4430999755859375, -4.463500022888184, -4.514400005340576, -4.580599784851074, -4.588600158691406, -4.601200103759766, -4.607999801635742, -4.614500045776367, -4.624599933624268, -4.647600173950195, -4.64900016784668, -4.693900108337402, -4.70359992980957, -4.706500053405762, -4.738800048828125, -4.73960018157959, -4.783999919891357, -3.70770001411438, -3.167799949645996, -4.087500095367432, -3.734600067138672, -4.203499794006348, -4.343200206756592, -4.179800033569336, -2.21560001373291, -2.5571999549865723, -3.076200008392334, -3.517400026321411, -3.536099910736084, -3.6375999450683594, -3.776599884033203, -3.810699939727783, -3.8166000843048096, -4.056099891662598, -4.146399974822998, -4.223700046539307, -4.241399765014648, -4.26639986038208, -4.325799942016602, -4.412600040435791, -4.453000068664551, -4.472400188446045, -4.561600208282471, -4.56850004196167, -4.594600200653076, -4.62529993057251, -4.6554999351501465, -4.710299968719482, -4.723299980163574, -4.76800012588501, -4.798600196838379, -4.8024001121521, -4.829899787902832, -4.864799976348877, -3.9939000606536865, -4.384500026702881, -4.237599849700928, -4.186800003051758, -4.61299991607666, -4.6315999031066895, -3.3870999813079834, -3.497299909591675, -3.6147000789642334, -3.7957000732421875, -3.858299970626831, -3.9203999042510986, -3.960599899291992, -3.976900100708008, -4.013299942016602, -4.0482001304626465, -4.06820011138916, -4.170100212097168, -4.23390007019043, -4.251999855041504, -4.313399791717529, -4.352799892425537, -4.365300178527832, -4.377399921417236, -4.396999835968018, -4.42080020904541, -4.451900005340576, -4.4608001708984375, -4.535399913787842, -4.551499843597412, -4.581500053405762, -4.5991997718811035, -4.619200229644775, -4.686100006103516, -4.698400020599365, -4.735599994659424, -3.964200019836426, -3.347399950027466, -3.8814001083374023, -3.9184999465942383, -3.973400115966797, -3.97979998588562, -4.427499771118164, -4.208000183105469, -4.299300193786621, -3.368000030517578, -3.6101999282836914, -3.640399932861328, -3.680500030517578, -3.8208000659942627, -3.865600109100342, -3.9031999111175537, -4.029799938201904, -4.128200054168701, -4.149700164794922, -4.184500217437744, -4.219099998474121, -4.2932000160217285, -4.320899963378906, -4.323999881744385, -4.341400146484375, -4.395999908447266, -4.432000160217285, -4.446899890899658, -4.47730016708374, -4.5106000900268555, -4.531199932098389, -4.565800189971924, -4.571899890899658, -4.57390022277832, -4.588500022888184, -4.653500080108643, -4.660200119018555, -4.6645002365112305, -4.67549991607666, -2.90310001373291, -4.193699836730957, -4.319900035858154, -4.5289998054504395, -4.501999855041504, -4.565999984741211], \"loglift\": [30.0, 29.0, 28.0, 27.0, 26.0, 25.0, 24.0, 23.0, 22.0, 21.0, 20.0, 19.0, 18.0, 17.0, 16.0, 15.0, 14.0, 13.0, 12.0, 11.0, 10.0, 9.0, 8.0, 7.0, 6.0, 5.0, 4.0, 3.0, 2.0, 1.0, 1.4290000200271606, 1.42739999294281, 1.4265999794006348, 1.4248000383377075, 1.4234000444412231, 1.422700047492981, 1.4226000308990479, 1.419100046157837, 1.4184000492095947, 1.417799949645996, 1.4170000553131104, 1.4160000085830688, 1.4155999422073364, 1.4129999876022339, 1.4119000434875488, 1.4114999771118164, 1.4112000465393066, 1.4108999967575073, 1.4107999801635742, 1.4076999425888062, 1.4075000286102295, 1.4071999788284302, 1.406999945640564, 1.4062999486923218, 1.4061000347137451, 1.404099941253662, 1.40339994430542, 1.4026000499725342, 1.4023000001907349, 1.4014999866485596, 1.3759000301361084, 1.358299970626831, 1.2928999662399292, 1.2790000438690186, 1.1125999689102173, 1.131100058555603, 1.0879000425338745, 0.7932999730110168, 0.910099983215332, 0.5315999984741211, 0.5343000292778015, 1.867900013923645, 1.8659000396728516, 1.864799976348877, 1.8639999628067017, 1.8639999628067017, 1.8610999584197998, 1.858299970626831, 1.8530999422073364, 1.8513000011444092, 1.8513000011444092, 1.850000023841858, 1.8499000072479248, 1.8473000526428223, 1.8464000225067139, 1.8457000255584717, 1.8451000452041626, 1.8450000286102295, 1.844599962234497, 1.843500018119812, 1.8417999744415283, 1.84089994430542, 1.8401999473571777, 1.8401000499725342, 1.8398000001907349, 1.8372999429702759, 1.836300015449524, 1.833299994468689, 1.832800030708313, 1.8307000398635864, 1.8300000429153442, 1.743899941444397, 1.6717000007629395, 1.705199956893921, 1.5254000425338745, 1.7288000583648682, 1.6226999759674072, 1.2036000490188599, 1.0880000591278076, 0.5910000205039978, 1.2101000547409058, 1.9108999967575073, 1.9084999561309814, 1.906599998474121, 1.9047000408172607, 1.9035999774932861, 1.9026999473571777, 1.9010000228881836, 1.8996000289916992, 1.899399995803833, 1.8990999460220337, 1.8983999490737915, 1.8976999521255493, 1.8970999717712402, 1.8954999446868896, 1.8945000171661377, 1.8931000232696533, 1.8926000595092773, 1.8924000263214111, 1.8920999765396118, 1.8906999826431274, 1.8904000520706177, 1.8870999813079834, 1.885599970817566, 1.88510000705719, 1.8849999904632568, 1.8848999738693237, 1.8847999572753906, 1.8842999935150146, 1.8837000131607056, 1.8828999996185303, 1.5943000316619873, 1.61899995803833, 1.759600043296814, 1.7382999658584595, 1.38100004196167, 1.567199945449829, 1.559999942779541, 1.6756999492645264, 1.188599944114685, 1.0224000215530396, 0.4059000015258789, 0.9803000092506409, 2.2887001037597656, 2.28629994392395, 2.2811999320983887, 2.279599905014038, 2.2788000106811523, 2.276700019836426, 2.274600028991699, 2.274199962615967, 2.271699905395508, 2.2676000595092773, 2.2672998905181885, 2.2639999389648438, 2.2623000144958496, 2.253999948501587, 2.253000020980835, 2.250200033187866, 2.2495999336242676, 2.2441000938415527, 2.2416999340057373, 2.2397000789642334, 2.239000082015991, 2.239000082015991, 2.2362000942230225, 2.2355000972747803, 2.234800100326538, 2.234299898147583, 2.231600046157837, 2.230600118637085, 2.226300001144409, 2.225600004196167, 2.162400007247925, 2.0285000801086426, 1.9200999736785889, 1.8386000394821167, 1.7913000583648682, 2.0534000396728516, 1.5672999620437622, 1.8245999813079834, 1.4639999866485596, 1.5779999494552612, 0.9901000261306763, 1.5216000080108643, 0.5575000047683716, 0.6847000122070312, 0.9174000024795532, 2.368000030517578, 2.3661000728607178, 2.357800006866455, 2.3564000129699707, 2.35479998588562, 2.3538999557495117, 2.3529000282287598, 2.352799892425537, 2.352299928665161, 2.3501999378204346, 2.349600076675415, 2.3482000827789307, 2.346100091934204, 2.345900058746338, 2.3424999713897705, 2.3415000438690186, 2.339900016784668, 2.339400053024292, 2.337100028991699, 2.3366000652313232, 2.3361001014709473, 2.328700065612793, 2.328399896621704, 2.32669997215271, 2.324399948120117, 2.3239998817443848, 2.323499917984009, 2.321199893951416, 2.3210999965667725, 2.3194000720977783, 2.2630999088287354, 2.1928000450134277, 1.4462000131607056, 1.6301000118255615, 1.532099962234497, 1.7148000001907349, 2.387399911880493, 2.385499954223633, 2.384200096130371, 2.3838999271392822, 2.3822999000549316, 2.3794000148773193, 2.3773000240325928, 2.3738999366760254, 2.373800039291382, 2.373199939727783, 2.3724000453948975, 2.369800090789795, 2.3696999549865723, 2.364000082015991, 2.3631999492645264, 2.3610999584198, 2.358099937438965, 2.3577001094818115, 2.3571999073028564, 2.3568999767303467, 2.356600046157837, 2.3559999465942383, 2.3550000190734863, 2.3548998832702637, 2.3526999950408936, 2.3522000312805176, 2.3519999980926514, 2.3503000736236572, 2.3503000736236572, 2.3478000164031982, 2.059999942779541, 1.5266000032424927, 1.971500039100647, 1.351099967956543, 1.5546000003814697, 1.5778000354766846, 0.9832000136375427, 2.546999931335449, 2.5448999404907227, 2.539900064468384, 2.5329999923706055, 2.5327000617980957, 2.530600070953369, 2.527400016784668, 2.5264999866485596, 2.526400089263916, 2.5195000171661377, 2.516400098800659, 2.5136001110076904, 2.5129001140594482, 2.511899948120117, 2.509500026702881, 2.50570011138916, 2.5037999153137207, 2.5028998851776123, 2.4983999729156494, 2.497999906539917, 2.4965999126434326, 2.494999885559082, 2.4930999279022217, 2.4900999069213867, 2.489300012588501, 2.486299991607666, 2.484499931335449, 2.4839000701904297, 2.4823999404907227, 2.4798998832702637, 2.0762999057769775, 2.0920000076293945, 1.3732000589370728, 0.8501999974250793, 1.7805999517440796, 1.6576999425888062, 2.9100000858306885, 2.9072000980377197, 2.9038000106811523, 2.897900104522705, 2.8954999446868896, 2.8931000232696533, 2.891400098800659, 2.890700101852417, 2.88919997215271, 2.8875999450683594, 2.886699914932251, 2.881700038909912, 2.8782999515533447, 2.87719988822937, 2.873699903488159, 2.8714001178741455, 2.8705999851226807, 2.8698999881744385, 2.8687000274658203, 2.8671000003814697, 2.8650999069213867, 2.864500045776367, 2.8592000007629395, 2.8578999042510986, 2.855799913406372, 2.8545000553131104, 2.8529000282287598, 2.8475000858306885, 2.8464999198913574, 2.8433001041412354, 2.7600998878479004, 2.6821999549865723, 2.562299966812134, 2.5274999141693115, 2.1226000785827637, 1.9745999574661255, 2.4588000774383545, 1.6855000257492065, 1.458799958229065, 3.004499912261963, 2.9972000122070312, 2.9962000846862793, 2.9946999549865723, 2.989300012588501, 2.9874000549316406, 2.98580002784729, 2.9797000885009766, 2.9744999408721924, 2.973299980163574, 2.971299886703491, 2.9693000316619873, 2.9646999835968018, 2.9628000259399414, 2.962599992752075, 2.961400032043457, 2.9576001167297363, 2.9549999237060547, 2.953900098800659, 2.9516000747680664, 2.9489998817443848, 2.9474000930786133, 2.9446001052856445, 2.944000005722046, 2.9439001083374023, 2.942500114440918, 2.936800003051758, 2.936300039291382, 2.936000108718872, 2.9349000453948975, 2.517400026321411, 2.71370005607605, 2.5183000564575195, 2.3613998889923096, 2.1582000255584717, 1.7697999477386475]}, \"token.table\": {\"Topic\": [5, 8, 7, 1, 4, 6, 2, 9, 9, 4, 2, 2, 3, 6, 6, 2, 7, 4, 5, 8, 8, 3, 8, 5, 7, 7, 3, 4, 7, 7, 3, 4, 7, 2, 8, 3, 6, 1, 2, 3, 4, 7, 5, 8, 3, 8, 8, 8, 7, 8, 7, 6, 4, 4, 3, 9, 5, 7, 6, 9, 6, 9, 1, 5, 7, 4, 7, 3, 5, 2, 8, 5, 5, 9, 4, 4, 3, 1, 5, 5, 4, 8, 6, 4, 4, 6, 1, 4, 6, 2, 2, 7, 2, 3, 1, 7, 5, 9, 8, 4, 6, 2, 1, 3, 2, 6, 8, 4, 5, 1, 6, 4, 9, 3, 3, 6, 5, 4, 2, 2, 5, 1, 4, 6, 8, 7, 3, 7, 7, 5, 1, 2, 3, 8, 2, 9, 9, 8, 7, 4, 3, 5, 5, 8, 5, 7, 4, 5, 6, 2, 4, 6, 1, 4, 1, 4, 8, 6, 9, 2, 2, 9, 5, 6, 4, 1, 2, 9, 1, 2, 7, 7, 3, 7, 7, 5, 1, 5, 8, 3, 3, 1, 6, 3, 1, 3, 9, 3, 9, 3, 4, 4, 5, 3, 8, 3, 6, 4, 2, 5, 1, 3, 5, 8, 6, 7, 2, 7, 2, 8, 1, 2, 3, 5, 9, 1, 4, 6, 3, 4, 8, 6, 3, 2, 3, 7, 4, 8, 1, 3, 1, 4, 1, 4, 6, 8, 4, 7, 1, 2, 9, 1, 2, 4, 6, 2, 3, 3, 4, 7, 3, 4, 5, 5, 2, 3, 1, 3, 4, 7, 1, 6, 8, 2, 4, 9, 1, 8, 8, 6, 2, 3, 4, 6, 9, 2, 3, 2, 5, 2, 5, 2, 3, 3, 5, 6, 8, 8, 6, 2, 7, 5, 7, 1, 9, 9, 4, 2, 9, 9, 9, 8, 9, 3, 4, 4, 6, 9, 2, 3, 6, 1, 4, 1, 5, 7, 2, 7, 8, 4, 2, 9, 1, 9, 2, 2, 4, 6, 4, 8, 2, 1, 3, 3, 4, 7, 5, 3, 8, 4, 2, 5, 4, 4, 2, 8, 4, 6, 3, 8, 7, 1, 9, 4, 7, 2, 2, 6, 1, 6, 6, 1, 6, 7, 1, 6, 1, 3, 4, 1, 4, 9, 3, 8, 7, 9, 5, 6, 9, 2, 1, 2, 4, 6, 7, 8, 1, 5, 2, 1, 2, 6, 9, 9, 6, 2, 6, 9, 1, 8, 4, 9, 3, 7, 5, 9, 1, 4, 8, 5, 1, 1, 2, 5, 2, 1, 1, 2, 6], \"Freq\": [0.9121862649917603, 0.9546528458595276, 0.9081993699073792, 0.9726231098175049, 0.9437115788459778, 0.9836265444755554, 0.9477562308311462, 0.9179060459136963, 0.9421345591545105, 0.9418123960494995, 0.9807103872299194, 0.24939222633838654, 0.7363008260726929, 0.9301280379295349, 0.9811884164810181, 0.5746542811393738, 0.4022579789161682, 0.9510409235954285, 0.8138880133628845, 0.14797963201999664, 0.9757160544395447, 0.9721989035606384, 0.9167895913124084, 0.9704142212867737, 0.9500169157981873, 0.981957733631134, 0.3952491283416748, 0.6001930832862854, 0.9290108680725098, 0.9701712131500244, 0.3630235493183136, 0.6352912187576294, 0.9701960682868958, 0.9972260594367981, 0.9238674640655518, 0.5831235647201538, 0.4140177369117737, 0.9947571754455566, 0.30616137385368347, 0.16037024557590485, 0.21868669986724854, 0.30616137385368347, 0.9605205059051514, 0.932386577129364, 0.9881041646003723, 0.9736542701721191, 0.9734342694282532, 0.9707493782043457, 0.9314727187156677, 0.9845783114433289, 0.9315720200538635, 0.9382048845291138, 0.9880916476249695, 0.9538747072219849, 0.9607137441635132, 0.9605318307876587, 0.5103089213371277, 0.44652029871940613, 0.9590932130813599, 0.9447042346000671, 0.9708846211433411, 0.9722118973731995, 0.9691184163093567, 0.8867904543876648, 0.08867904543876648, 0.9900102615356445, 0.934569776058197, 0.9893013834953308, 0.9784139394760132, 0.36539971828460693, 0.6263995170593262, 0.9795628190040588, 0.3977191150188446, 0.6026047468185425, 0.9178622364997864, 0.9752257466316223, 0.9438431262969971, 0.9489015340805054, 0.04929358512163162, 0.9633658528327942, 0.13317817449569702, 0.843461811542511, 0.9538073539733887, 0.8992072939872742, 0.9716578125953674, 0.9603990912437439, 0.5950309634208679, 0.051741823554039, 0.34494549036026, 0.9600792527198792, 0.34653154015541077, 0.6237567663192749, 0.9694986939430237, 0.9752088189125061, 0.9763434529304504, 0.9522483348846436, 0.9190144538879395, 0.9498260617256165, 0.9317649602890015, 0.912757396697998, 0.9597935080528259, 0.9746538400650024, 0.9555736780166626, 0.9712998867034912, 0.13443444669246674, 0.2016516625881195, 0.6721721887588501, 0.9767583012580872, 0.9549761414527893, 0.9735316634178162, 0.975020706653595, 0.9273773431777954, 0.9759892225265503, 0.9915484189987183, 0.9729233980178833, 0.9581441879272461, 0.9577168822288513, 0.9785077571868896, 0.9918903708457947, 0.9660896062850952, 0.9711675643920898, 0.20270459353923798, 0.13513639569282532, 0.4223012328147888, 0.2364886999130249, 0.9051278829574585, 0.9449290633201599, 0.9564632773399353, 0.9444374442100525, 0.9614365696907043, 0.9628994464874268, 0.27474212646484375, 0.7156073451042175, 0.9359669089317322, 0.9876109957695007, 0.9260373711585999, 0.9674405455589294, 0.9583456516265869, 0.9730086922645569, 0.9818727970123291, 0.9621557593345642, 0.9301601648330688, 0.9425083994865417, 0.9077059626579285, 0.9562689661979675, 0.942525327205658, 0.9668070673942566, 0.9668667316436768, 0.9718244671821594, 0.34865832328796387, 0.6101520657539368, 0.9752355217933655, 0.20265868306159973, 0.7701030373573303, 0.35526153445243835, 0.18947280943393707, 0.4499979317188263, 0.9549029469490051, 0.9593117237091064, 0.9714475870132446, 0.9782111644744873, 0.8834081292152405, 0.9732105135917664, 0.9638496041297913, 0.969397783279419, 0.9694488644599915, 0.9735793471336365, 0.9321268796920776, 0.15940098464488983, 0.8197764754295349, 0.9602018594741821, 0.9234553575515747, 0.9404748678207397, 0.9910663366317749, 0.9905749559402466, 0.9864579439163208, 0.9651861786842346, 0.9570448398590088, 0.9672752022743225, 0.9500590562820435, 0.9695232510566711, 0.8709824681282043, 0.12592516839504242, 0.9842395782470703, 0.9871156811714172, 0.9738378524780273, 0.9569124579429626, 0.9789251089096069, 0.9680746793746948, 0.6978670954704285, 0.2990858852863312, 0.9558918476104736, 0.9617162942886353, 0.6962993144989014, 0.29012471437454224, 0.9598668813705444, 0.9672262072563171, 0.9671535491943359, 0.509230375289917, 0.4728567898273468, 0.9819880723953247, 0.1850070357322693, 0.43168309330940247, 0.39057043194770813, 0.9849679470062256, 0.940431535243988, 0.369320273399353, 0.6232279539108276, 0.9759484529495239, 0.9160451292991638, 0.9585238099098206, 0.5151248574256897, 0.4733579754829407, 0.9489957690238953, 0.9438611268997192, 0.994261622428894, 0.6811361908912659, 0.30272719264030457, 0.20119746029376984, 0.10059873014688492, 0.7041911482810974, 0.9276337027549744, 0.9768211245536804, 0.9613865613937378, 0.8264052271842957, 0.14166946709156036, 0.19946090877056122, 0.7756813168525696, 0.984103798866272, 0.9740002751350403, 0.7266178727149963, 0.2716328501701355, 0.9724145531654358, 0.3423606753349304, 0.6390732526779175, 0.9057077765464783, 0.962418258190155, 0.9376376867294312, 0.9885003566741943, 0.9872763752937317, 0.8818346858024597, 0.40990981459617615, 0.14905811846256256, 0.1956387758255005, 0.24221943318843842, 0.9814786314964294, 0.9654550552368164, 0.9832658767700195, 0.9530276656150818, 0.9925801157951355, 0.5171850323677063, 0.47016820311546326, 0.9822356104850769, 0.9796547889709473, 0.9716493487358093, 0.9478378891944885, 0.5284231305122375, 0.2201763093471527, 0.17614103853702545, 0.07548902183771133, 0.9880645275115967, 0.9645507335662842, 0.9391708374023438, 0.27093738317489624, 0.4214581549167633, 0.27093738317489624, 0.9624541997909546, 0.9549111723899841, 0.9626801013946533, 0.9394619464874268, 0.45305415987968445, 0.05177761986851692, 0.47894296050071716, 0.21326547861099243, 0.7464291453361511, 0.12832386791706085, 0.8469375371932983, 0.883869469165802, 0.1167374774813652, 0.8779792189598083, 0.09755324572324753, 0.19091765582561493, 0.7636706233024597, 0.9805364608764648, 0.9857348799705505, 0.9191287159919739, 0.9470882415771484, 0.9602031707763672, 0.9423133134841919, 0.9360196590423584, 0.9674041867256165, 0.9754984974861145, 0.9590397477149963, 0.9871657490730286, 0.8981338739395142, 0.9722198843955994, 0.9371799230575562, 0.9445827603340149, 0.947413444519043, 0.947905421257019, 0.9558285474777222, 0.9688611030578613, 0.8768852949142456, 0.11922720819711685, 0.8822813034057617, 0.9712317585945129, 0.978442907333374, 0.9347853064537048, 0.9879887104034424, 0.9827978014945984, 0.9351827502250671, 0.5022274851799011, 0.48291102051734924, 0.989239513874054, 0.9650358557701111, 0.9622475504875183, 0.9591796398162842, 0.9371140003204346, 0.9513586759567261, 0.8857824802398682, 0.7746654152870178, 0.19366635382175446, 0.9800071120262146, 0.9260435700416565, 0.9581449031829834, 0.0852832943201065, 0.20467990636825562, 0.716379702091217, 0.9828173518180847, 0.9504232406616211, 0.9504536390304565, 0.9657145738601685, 0.9735950827598572, 0.4111998379230499, 0.4386131465435028, 0.15077327191829681, 0.9530307650566101, 0.939957857131958, 0.9635627865791321, 0.9690682291984558, 0.8449767231941223, 0.14568564295768738, 0.943335235118866, 0.912703275680542, 0.9927908182144165, 0.9153750538825989, 0.7684836983680725, 0.2220064103603363, 0.9803880453109741, 0.8975457549095154, 0.9700217843055725, 0.9740509986877441, 0.9595844745635986, 0.9670578837394714, 0.9611195921897888, 0.9820237159729004, 0.9729465842247009, 0.9771564602851868, 0.9784910678863525, 0.9857173562049866, 0.9659108519554138, 0.7347285747528076, 0.11662358790636063, 0.139948308467865, 0.9239273071289062, 0.06159515306353569, 0.7022437453269958, 0.027009375393390656, 0.25658905506134033, 0.9877117276191711, 0.3482467830181122, 0.5969944596290588, 0.9754258394241333, 0.9378121495246887, 0.9606199264526367, 0.9162740707397461, 0.9657717347145081, 0.9570134282112122, 0.9500731229782104, 0.9729251265525818, 0.40249961614608765, 0.15607129037380219, 0.09035705775022507, 0.09035705775022507, 0.18071411550045013, 0.07392850518226624, 0.9907068014144897, 0.986466646194458, 0.9316937923431396, 0.2806874215602875, 0.7091050744056702, 0.9599791765213013, 0.8614957332611084, 0.9083026647567749, 0.934205174446106, 0.9744095206260681, 0.5413183569908142, 0.4163987636566162, 0.9762287139892578, 0.9206897020339966, 0.47174182534217834, 0.5241575837135315, 0.9813439846038818, 0.9646567702293396, 0.9716212749481201, 0.8952284455299377, 0.9713745713233948, 0.9666321873664856, 0.9716616272926331, 0.9544276595115662, 0.9915744066238403, 0.8596890568733215, 0.09954293817281723, 0.04524679109454155, 0.9862529039382935, 0.9959847331047058, 0.4373818039894104, 0.0994049534201622, 0.4373818039894104], \"Term\": [\"1,000\", \"5,000\", \"act\", \"action\", \"activity\", \"adelaide\", \"administration\", \"administrator\", \"adventure\", \"aedt\", \"afghan\", \"afghanistan\", \"afghanistan\", \"afp\", \"africa\", \"air\", \"air\", \"aircraft\", \"airline\", \"airline\", \"airport\", \"al_qaeda\", \"although\", \"ansett\", \"anything\", \"arafat\", \"area\", \"area\", \"ariel_sharon\", \"army\", \"around\", \"around\", \"arrest\", \"attack\", \"attempt\", \"australia\", \"australia\", \"australian\", \"authority\", \"authority\", \"authority\", \"authority\", \"bank\", \"behind\", \"bin_laden\", \"blake\", \"board\", \"boat\", \"bomber\", \"bombing\", \"boy\", \"break\", \"building\", \"bureau\", \"bush\", \"business\", \"call\", \"call\", \"captain\", \"case\", \"centre\", \"change\", \"chief\", \"child\", \"child\", \"city\", \"civilian\", \"claim\", \"collapse\", \"commander\", \"commander\", \"commission\", \"company\", \"company\", \"concern\", \"continue\", \"cost\", \"could\", \"could\", \"court\", \"crew\", \"crew\", \"cricket\", \"crowd\", \"cut\", \"damage\", \"day\", \"day\", \"day\", \"dead\", \"death\", \"death\", \"december\", \"defence\", \"director\", \"disease\", \"dispute\", \"doctor\", \"document\", \"drop\", \"due\", \"eastern\", \"economic\", \"economy\", \"eight\", \"eight\", \"eight\", \"emergency\", \"employee\", \"end\", \"every\", \"fall\", \"family\", \"federal\", \"fighter\", \"final\", \"financial\", \"fire\", \"force\", \"foreign\", \"found\", \"four\", \"four\", \"four\", \"four\", \"french\", \"future\", \"gaza\", \"gaza_strip\", \"george\", \"good\", \"government\", \"government\", \"ground\", \"group\", \"growth\", \"guide\", \"half\", \"hamas\", \"harrison\", \"head\", \"heard\", \"hearing\", \"heavy\", \"held\", \"helicopter\", \"high\", \"hih\", \"hit\", \"home\", \"home\", \"hope\", \"hospital\", \"hospital\", \"hour\", \"hour\", \"hour\", \"house\", \"human\", \"india\", \"indian\", \"industrial\", \"industry\", \"injured\", \"inquiry\", \"interest\", \"interim\", \"interlaken\", \"international\", \"international\", \"islamic\", \"islamic_jihad\", \"island\", \"israel\", \"israeli\", \"issue\", \"job\", \"justice\", \"kandahar\", \"labor\", \"laden\", \"last\", \"last\", \"law\", \"leader\", \"left\", \"level\", \"life\", \"like\", \"local\", \"local\", \"low\", \"m\", \"man\", \"man\", \"market\", \"match\", \"mean\", \"meeting\", \"meeting\", \"melbourne\", \"member\", \"member\", \"member\", \"metre\", \"middle_east\", \"militant\", \"militant\", \"military\", \"militia\", \"million\", \"minister\", \"minister\", \"monday\", \"money\", \"month\", \"morning\", \"morning\", \"mountain\", \"mountain\", \"mountain\", \"much\", \"must\", \"nation\", \"national\", \"national\", \"near\", \"near\", \"need\", \"network\", \"new\", \"new\", \"next\", \"night\", \"night\", \"nine\", \"north\", \"northern\", \"number\", \"official\", \"old\", \"one\", \"one\", \"one\", \"one\", \"operation\", \"opposition\", \"osama_bin\", \"overnight\", \"palestinian\", \"part\", \"part\", \"party\", \"pay\", \"peace\", \"pentagon\", \"people\", \"people\", \"people\", \"people\", \"per_cent\", \"person\", \"pilot\", \"place\", \"place\", \"place\", \"plan\", \"plane\", \"planning\", \"point\", \"police\", \"police\", \"police\", \"possible\", \"possible\", \"power\", \"power\", \"president\", \"president\", \"prime_minister\", \"prime_minister\", \"process\", \"process\", \"public\", \"qantas\", \"queensland\", \"race\", \"radio\", \"rafter\", \"raid\", \"rate\", \"region\", \"remain\", \"report\", \"research\", \"reserve\", \"resident\", \"return\", \"review\", \"right\", \"rise\", \"rival\", \"river_gorge\", \"royal\", \"royal\", \"s\", \"second\", \"sector\", \"security\", \"september\", \"series\", \"service\", \"service\", \"set\", \"several\", \"sharon\", \"shot\", \"show\", \"sign\", \"significant\", \"since\", \"since\", \"six\", \"something\", \"source\", \"south\", \"south\", \"south\", \"south_wale\", \"space\", \"special\", \"staff\", \"stage\", \"state\", \"state\", \"state\", \"statement\", \"station\", \"stop\", \"storm\", \"strike\", \"strike\", \"structure\", \"suburb\", \"suicide\", \"surrender\", \"sydney\", \"sydney\", \"taliban\", \"tape\", \"target\", \"team\", \"technology\", \"term\", \"territory\", \"terrorism\", \"terrorist\", \"test\", \"think\", \"third\", \"thousand\", \"three\", \"three\", \"three\", \"time\", \"time\", \"today\", \"today\", \"today\", \"told\", \"tomorrow\", \"tomorrow\", \"tora_bora\", \"tourist\", \"town\", \"tragedy\", \"travel\", \"tree\", \"trip\", \"troop\", \"two\", \"two\", \"two\", \"two\", \"two\", \"two\", \"u\", \"union\", \"united\", \"united_state\", \"united_state\", \"victory\", \"virgin\", \"virus\", \"volunteer\", \"war\", \"water\", \"water\", \"way\", \"weapon\", \"weather\", \"weather\", \"weekend\", \"west_bank\", \"whether\", \"whole\", \"win\", \"wind\", \"winner\", \"worker\", \"world\", \"would\", \"would\", \"would\", \"yasser_arafat\", \"year\", \"yesterday\", \"yesterday\", \"yesterday\"]}, \"R\": 30, \"lambda.step\": 0.01, \"plot.opts\": {\"xlab\": \"PC1\", \"ylab\": \"PC2\"}, \"topic.order\": [8, 3, 5, 9, 2, 6, 4, 7, 1]};\n",
       "\n",
       "function LDAvis_load_lib(url, callback){\n",
       "  var s = document.createElement('script');\n",
       "  s.src = url;\n",
       "  s.async = true;\n",
       "  s.onreadystatechange = s.onload = callback;\n",
       "  s.onerror = function(){console.warn(\"failed to load library \" + url);};\n",
       "  document.getElementsByTagName(\"head\")[0].appendChild(s);\n",
       "}\n",
       "\n",
       "if(typeof(LDAvis) !== \"undefined\"){\n",
       "   // already loaded: just create the visualization\n",
       "   !function(LDAvis){\n",
       "       new LDAvis(\"#\" + \"ldavis_el141404537650044081209642283\", ldavis_el141404537650044081209642283_data);\n",
       "   }(LDAvis);\n",
       "}else if(typeof define === \"function\" && define.amd){\n",
       "   // require.js is available: use it to load d3/LDAvis\n",
       "   require.config({paths: {d3: \"https://cdnjs.cloudflare.com/ajax/libs/d3/3.5.5/d3.min\"}});\n",
       "   require([\"d3\"], function(d3){\n",
       "      window.d3 = d3;\n",
       "      LDAvis_load_lib(\"https://cdn.rawgit.com/bmabey/pyLDAvis/files/ldavis.v1.0.0.js\", function(){\n",
       "        new LDAvis(\"#\" + \"ldavis_el141404537650044081209642283\", ldavis_el141404537650044081209642283_data);\n",
       "      });\n",
       "    });\n",
       "}else{\n",
       "    // require.js not available: dynamically load d3 & LDAvis\n",
       "    LDAvis_load_lib(\"https://cdnjs.cloudflare.com/ajax/libs/d3/3.5.5/d3.min.js\", function(){\n",
       "         LDAvis_load_lib(\"https://cdn.rawgit.com/bmabey/pyLDAvis/files/ldavis.v1.0.0.js\", function(){\n",
       "                 new LDAvis(\"#\" + \"ldavis_el141404537650044081209642283\", ldavis_el141404537650044081209642283_data);\n",
       "            })\n",
       "         });\n",
       "}\n",
       "</script>"
      ],
      "text/plain": [
       "PreparedData(topic_coordinates=              x         y  topics  cluster       Freq\n",
       "topic                                                \n",
       "7     -0.232482  0.210581       1        1  23.847788\n",
       "2      0.118484 -0.108774       2        1  15.339815\n",
       "4     -0.038313 -0.310637       3        1  14.586185\n",
       "8     -0.163126 -0.126414       4        1  10.019035\n",
       "1      0.267484  0.144815       5        1   9.250775\n",
       "5     -0.177978  0.101978       6        1   9.026424\n",
       "3      0.049157 -0.003865       7        1   7.789957\n",
       "6      0.038359  0.038502       8        1   5.316044\n",
       "0      0.138414  0.053814       9        1   4.823972, topic_info=            Term        Freq       Total Category  logprob  loglift\n",
       "385  palestinian  160.000000  160.000000  Default  30.0000  30.0000\n",
       "381      israeli  114.000000  114.000000  Default  29.0000  29.0000\n",
       "392   australian  187.000000  187.000000  Default  28.0000  28.0000\n",
       "104    australia  171.000000  171.000000  Default  27.0000  27.0000\n",
       "67        attack  122.000000  122.000000  Default  26.0000  26.0000\n",
       "..           ...         ...         ...      ...      ...      ...\n",
       "413     possible   13.648622   18.755966   Topic9  -4.1937   2.7137\n",
       "699     tomorrow   12.030839   20.100689   Topic9  -4.3199   2.5183\n",
       "62       weather    9.761194   19.078232   Topic9  -4.5290   2.3614\n",
       "567        water   10.027860   24.015442   Topic9  -4.5020   2.1582\n",
       "41         place    9.406039   33.218006   Topic9  -4.5660   1.7698\n",
       "\n",
       "[382 rows x 6 columns], token_table=      Topic      Freq           Term\n",
       "term                                \n",
       "452       5  0.912186          1,000\n",
       "361       8  0.954653          5,000\n",
       "103       7  0.908199            act\n",
       "158       1  0.972623         action\n",
       "271       4  0.943712       activity\n",
       "...     ...       ...            ...\n",
       "532       2  0.986253  yasser_arafat\n",
       "65        1  0.995985           year\n",
       "102       1  0.437382      yesterday\n",
       "102       2  0.099405      yesterday\n",
       "102       6  0.437382      yesterday\n",
       "\n",
       "[419 rows x 3 columns], R=30, lambda_step=0.01, plot_opts={'xlab': 'PC1', 'ylab': 'PC2'}, topic_order=[8, 3, 5, 9, 2, 6, 4, 7, 1])"
      ]
     },
     "execution_count": 25,
     "metadata": {},
     "output_type": "execute_result"
    }
   ],
   "source": [
    "pyLDAvis.enable_notebook()\n",
    "vis = pyLDAvis.gensim.prepare(model, corpus, dictionary=model.id2word)\n",
    "vis"
   ]
  },
  {
   "cell_type": "markdown",
   "metadata": {},
   "source": [
    "<font color='red'>What is the meaning of the adjustable lambda scroll bar and what does it control?</font>\n",
    "\n",
    "<font color='green'>At abstract level the lambda bar let you filter out non-representative words that are highly associated with the topic that you have selected (topics can be selected in the upper left corner). By moving lambda you can balance the listing of words that are important to your topic in general (but that might not be exclusively used in the context of that particular topic) and words that are only associated to a larger degree with that specific topic. So low lambda will choose exclusive words (even some specific (technical) slang words) and larger lambda  will choose that are in general important to your (and possibly other) topics"
   ]
  },
  {
   "cell_type": "markdown",
   "metadata": {},
   "source": [
    "<font color='red'>What do the blue and red bars indicate?</font>\n",
    "\n",
    "<font color='green'>A word with a larger blue bar is generally found in many topics (as it would have a high overall term frequency) and a words with a red bar is more exclusively associated with that particular topic you are analyzing</font>"
   ]
  },
  {
   "cell_type": "markdown",
   "metadata": {},
   "source": [
    "If you are familiar with the subject of the articles in this dataset, you can judge if the topics above make sense. However, they might not be without flaws. There might be substantial overlap between some topics, others are hard to interpret, and most of them have at least some terms that seem out of place.\n",
    "\n",
    "There are also other approaches to evaluate Topic Models such as Perplexity. Topic Visualization is also a good way to assess topic models. Topic Coherence measure is a good way to compare difference topic models based on their human-interpretability. The aim of the Coherence measure (e.g. u_mass or c_v) is to capture the optimal number of topics by giving the interpretability of these topics."
   ]
  },
  {
   "cell_type": "markdown",
   "metadata": {},
   "source": [
    "## LDA - Query Documents"
   ]
  },
  {
   "cell_type": "markdown",
   "metadata": {},
   "source": [
    "Let's say we wanted to find the most similar documents in the corpus. We can do this by comparing the topic distribution of the new document to all the topic distributions of the documents in the corpus. We use the [Jensen-Shannon distance](https://en.wikipedia.org/wiki/Jensen%E2%80%93Shannon_divergence) metric to find the most similar documents.\n",
    "\n",
    "What the Jensen-Shannon distance tells us, is which documents are statisically \"closer\" (and therefore more similar), by comparing the divergence of their distributions. Jensen-Shannon is symmetric, unlike Kullback-Leibler on which the formula is based. This is good, because we want the similarity between documents A and B to be the same as the similarity between B and A.\n",
    "\n",
    "<font color='red'>Do not forget to tweak the code below</font>"
   ]
  },
  {
   "cell_type": "code",
   "execution_count": 29,
   "metadata": {},
   "outputs": [],
   "source": [
    "def calc_similarity(query, doc_topic_distributions):\n",
    "    \"\"\"\n",
    "    This function implements a similarity measure (e.g. Jensen-Shannon similarity)\n",
    "    between the input query (an LDA topic distribution for a document)\n",
    "    and the entire corpus of topic distributions.\n",
    "    It returns an array of length M where M is the number of documents in the corpus\n",
    "    \"\"\"\n",
    "\n",
    "    # your task: implement jenson_shannon (consider using gensim.matutils.jensen_shannon)\n",
    "    # return np.ones(len(matrix))\n",
    "    \n",
    "    return np.array([gensim.matutils.jensen_shannon(query, element) for  element in doc_topic_distributions])\n",
    "    #return np.array([gensim.matutils.hellinger(query, element) for  element in doc_topic_distributions])\n",
    "\n",
    "\n",
    "    #p = query[None,:].T # take transpose\n",
    "    #q = matrix.T # transpose matrix\n",
    "    #m = 0.5*(p + q)\n",
    "    #return np.sqrt(0.5 * (entropy(p,m) + entropy(q,m)))\n",
    "\n",
    "\n",
    "\n",
    "def get_most_similar_documents(query,doc_topic_distributions,k=10):\n",
    "    \"\"\"\n",
    "    This function calculates the top k most similar documents based on the similarity measure implemented by calc_similarity\n",
    "    and retruns the top k indices of the smallest jensen shannon distances\n",
    "    \"\"\"\n",
    "    sims = calc_similarity(query, doc_topic_distributions) # list of (index, distances)\n",
    "    sims = sorted(enumerate(sims), key=lambda item: item[1])\n",
    "    return sims[:k] # the top k positional index of the smallest distances\n",
    "\n"
   ]
  },
  {
   "cell_type": "markdown",
   "metadata": {},
   "source": [
    "<font color='red'>Choose a document and search for the most similar other documents (e.g. the one with id 128).</font>"
   ]
  },
  {
   "cell_type": "code",
   "execution_count": 30,
   "metadata": {},
   "outputs": [
    {
     "name": "stdout",
     "output_type": "stream",
     "text": [
      "Query: Qantas has moved to assure travellers there will be no disruption to flights over the Christmas period, despite threats of industrial action. Qantas maintenance workers have rejected the airline's proposals for a wage freeze. As negotiations over the dispute continue in the Industrial Relations Commission, Qantas Chief Executive Geoff Dixon has expressed his disappointment at the maintenance workers' actions. Mr Dixon points out 92 per cent of the airline's workforce have already agreed in-principle to accept a wages freeze together with an incentives scheme. Mr Dixon claims maintenance workers earn, on average, 28 per cent above average weekly earnings and also receive generous staff travel benefits. Mr Dixon has assured nervous travellers that even if the workers do go out on strike, Qantas flights will not be disrupted. Maintenance unions are refusing to soften their stance against a Qantas wage freeze proposal. Qantas and two maintenance unions are continuing negotiations in the Industrial Relations Commission, where unions produced a leaked airline briefing paper which says Qantas is prepared to escalate the strike to force a resolution. \n",
      "[(128, 7.620745791465684e-07), (135, 0.1134440674273121), (73, 0.12131947199146921), (187, 0.17224107576036454), (67, 0.17957221354851005), (247, 0.18002119384938192), (287, 0.18745413855122617), (103, 0.19090951964275513), (278, 0.1997830122809253), (20, 0.20193780069851247)]\n",
      "0 (128, 7.620745791465684e-07) Qantas has moved to assure travellers there will be no disruption to flights over the Christmas period, despite threats of industrial action. Qantas maintenance workers have rejected the airline's proposals for a wage freeze. As negotiations over the dispute continue in the Industrial Relations Commission, Qantas Chief Executive Geoff Dixon has expressed his disappointment at the maintenance workers' actions. Mr Dixon points out 92 per cent of the airline's workforce have already agreed in-principle to accept a wages freeze together with an incentives scheme. Mr Dixon claims maintenance workers earn, on average, 28 per cent above average weekly earnings and also receive generous staff travel benefits. Mr Dixon has assured nervous travellers that even if the workers do go out on strike, Qantas flights will not be disrupted. Maintenance unions are refusing to soften their stance against a Qantas wage freeze proposal. Qantas and two maintenance unions are continuing negotiations in the Industrial Relations Commission, where unions produced a leaked airline briefing paper which says Qantas is prepared to escalate the strike to force a resolution. \n",
      "1 (135, 0.1134440674273121) A dispute which could threaten air services returns to the Industrial Relations Commission today. Qantas maintenance workers have rejected the airline's proposals for a wages freeze. The dispute involving 3,000 maintenance workers has been running for around six months. After lengthy negotiations last weekend, Qantas had sought a ballot of the maintenance workers. The unions claim 90 per cent of the workforce voted against the company's latest offer. The national secretary of the Australian Manufacturing Workers Union (AMWU), Doug Cameron, did not rule out the grounding of Qantas jets if the dispute continues and he says the company would only have itself to blame. \"If Qantas doesn't come to the party, I think it's inevitable that the industrial action will continue and that will be Qantas' responsibility,\" he said. \n",
      "2 (73, 0.12131947199146921) The Prime Minister has thrown his full support behind the Governor-General, Dr Peter Hollingworth. Child rights campaigners have accused Dr Hollingworth of trying to cover-up child abuse allegations at a Toowoomba Anglican school when he was Archbishop of Brisbane. In a statement released earlier this week, the Governor-General said the allegations were unfounded, but there are continuing calls for Dr Hollingworth to resign. But Mr Howard says he has confidence in the Governor-General. \"I don't have any direct knowledge of this [matter but] I've talked to him about it and I've tried to form a judgment,\" Mr Howard said. \"The criticism made is that he's involved in a cover-up, well there's no evidence of that, that's ridiculous.\" \n",
      "3 (187, 0.17224107576036454) Qantas maintenance workers will decide by secret ballot whether to accept the airline's offer of an incentive payment from company profits. Unions will advise members to reject the offer because it includes a wage freeze. Qantas management and unions have been locked in negotiations for two days over the proposed 12 to 18-month wage freeze. Unions say the workers deserve a pay rise, while Qantas maintains it cannot afford it because of the global downturn in the airline industry. The results of the secret ballot will be put before the Industrial Relations Commission next Monday. Failure to resolve the issue could result in industrial action over the Christmas holidays. \n",
      "4 (67, 0.17957221354851005) A pay freeze dispute involving Qantas and its maintenance workers will remain unresolved over the Christmas period. The parties failed to reach agreement during talks in the Industrial Relations Commission in Melbourne this morning. More than 2,000 employees have imposed work bans and stoppages in their campaign for a 3 per cent pay rise. Both the union and Qantas say there will not be flight disruptions. \n",
      "5 (247, 0.18002119384938192) The Royal Commission into HIH has been adjourned until Monday after interviewing of the first witness ended abruptly. Lawyers acting on behalf of several former HIH directors requested that cross-examination of David Lombe and an inspector appointed by insurance watchdog, the Australian Prudential Regulation Authority (APRA) be held at a later date. The commission was due to hear evidence from Mr Lombe after the details of his report for APRA were read in this morning's hearing. The report raises allegations that corporate governance was inadequate and concealed the true state of HIH's financial position. The report questions the solvency of HIH prior to it being placed into provisional liquidation on March 15. It raises issues of intangible assets like tax and goodwill, being treated as tangible for the acquisition of Allianz to boost the financial position of HIH. The report also says significant losses by HIH in the United States and the United Kingdom were concealed from APRA at meetings last year. The commission has also heard APRA had serious concerns about the accounting practices being followed by HIH in July last year. \n",
      "6 (287, 0.18745413855122617) A royal commission will begin this morning in Sydney into the collapse of insurance giant HIH. While the commission held an initial procedural hearing in September, today the public hearings will begin, more than eight months after the company was placed into provisional liquidation. More than one million pages of documents have already been subpoenaed from witnesses including former directors, the Australian Securities and Investments Commission (ASIC) and the Prudential Regulatory Authority. The terms of reference include determining what contributed to the collapse, whether any laws were broken and whether regulations need to be changed. Western Australian Justice Neville Owen heads the commission, but today it is expected to hear mainly from Counsel Assisting, Wayne Martin QC. A spokesman for the commission, John Dickie, says it faces a great challenge. \"The issues are quite complex really and certainly I think it's the first one into a corporation collapse like this one,\" Mr Dickie said. The inquiry is expected to be finished by the end of next June. \n",
      "7 (103, 0.19090951964275513) The HIH Royal Commission has heard evidence that there were doubts about the company's ability to pay all of its creditors three months before its collapse. A partner for accountancy firm Ernst and Young, John Gibbons, says he and his colleague, Kim Smith, attended a meeting with HIH on November 28. Mr Gibbons has told the commission, HIH chairman Ray Williams and finance director Dominic Federa were at  that meeting. Mr Gibbons said Mr Smith noted that if HIH was wound up on that date there would be a clear shortage of assets to pay creditors. He says the directors were told it was highly likely all creditors would not receive 100 per cent returns. The commission has also heard that the accountancy firm told the directors that even with HIH's restructuring plans there was potential for insolvency. \n",
      "8 (278, 0.1997830122809253) The royal commission looking into the collapse of insurance giant HIH says the possible leak of a confidential document is a criminal offence. Royal commissioner Justice Neville Owen has opened the public hearings into the collapse, more than eight months after the company was placed into provisional liquidation. In his opening statement, Justice Owen called on all parties to adhere to the confidentiality requirements of a royal commission. Justice Owen says there could have been a leak of a report on the role of auditors, circulated in early November. \"It is possible that someone, to whom the commission delivered a copy of the report in strict confidence disclosed its contents to the author of the article. \"If so, there may have been a breach of section 6B (4) of the Royal Commissions Act 1902, that is a criminal offence,\" he said. \n",
      "9 (20, 0.20193780069851247) Argentine President Adolfo Rodriguez Saa has asked the country's banks to help re-establish peace by facilitating the payment of pensions and salaries to workers and retirees. He says he issued the appeal at a meeting with leaders of the banking community. \"I'm very concerned about what has happened in Argentina,\" Mr Rodriguez Saa said. He says he has asked banks to remain open from 8:00am to 8:00pm Monday, to be able to cash checks of up to 1,000 pesos or $US1,000 per person. \n"
     ]
    }
   ],
   "source": [
    "# use nested list comprehension here\n",
    "doc_topic_dist = np.array([np.array([tup[1] for tup in lst]) for lst in model.get_document_topics(bow=corpus, minimum_probability=0.0)])\n",
    "\n",
    "# this is also a simple test -> must return itself\n",
    "pd_queries['queries_text'] = data_df['text'].iloc[128]\n",
    "pd_queries['queries_processed'] = processor.transform(pd_queries['queries_text'])\n",
    "pd_queries['queries_tokenized'] = pd_queries['queries_processed'].apply(nltk.word_tokenize)\n",
    "# consider Phraser\n",
    "pd_queries['queries_tokenized'] = bigram[pd_queries['queries_tokenized']]\n",
    "pd_queries['queries_tokenized'] = pd_queries['queries_tokenized'].apply(keep_freq_words)\n",
    "vec_bow = dictionary.doc2bow(pd_queries['queries_tokenized'].iloc[0])\n",
    "# get the topic contributions for the document \n",
    "doc_distribution = np.array([tup[1] for tup in model.get_document_topics(bow=vec_bow, minimum_probability=0.0)])\n",
    "\n",
    "sims = get_most_similar_documents(doc_distribution, doc_topic_dist, k = 10)\n",
    "print(\"Query:\",pd_queries['queries_text'].iloc[0])\n",
    "print(sims)\n",
    "for i in range(0, 10):\n",
    "    print(i, sims[i], data_df['text'].iloc[sims[i][0]])"
   ]
  },
  {
   "cell_type": "code",
   "execution_count": null,
   "metadata": {},
   "outputs": [],
   "source": []
  }
 ],
 "metadata": {
  "kernelspec": {
   "display_name": "Python 3",
   "language": "python",
   "name": "python3"
  },
  "language_info": {
   "codemirror_mode": {
    "name": "ipython",
    "version": 3
   },
   "file_extension": ".py",
   "mimetype": "text/x-python",
   "name": "python",
   "nbconvert_exporter": "python",
   "pygments_lexer": "ipython3",
   "version": "3.6.8"
  }
 },
 "nbformat": 4,
 "nbformat_minor": 2
}
